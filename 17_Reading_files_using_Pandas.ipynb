{
 "cells": [
  {
   "cell_type": "code",
   "execution_count": 1,
   "id": "1d396c90-0e24-4614-a1a8-45c79939d61e",
   "metadata": {},
   "outputs": [],
   "source": [
    "#importing libraries\n",
    "import numpy as np\n",
    "import pandas as pd"
   ]
  },
  {
   "cell_type": "markdown",
   "id": "5e5a6161-15ba-4206-a263-61689a746555",
   "metadata": {
    "panel-layout": {
     "height": 60.57500457763672,
     "visible": true,
     "width": 100
    }
   },
   "source": [
    "# Reading data from Excel sheet"
   ]
  },
  {
   "cell_type": "code",
   "execution_count": 3,
   "id": "d0f167ea-26bf-4718-9431-1977f6133a26",
   "metadata": {
    "panel-layout": {
     "height": 116.4000015258789,
     "visible": true,
     "width": 100
    }
   },
   "outputs": [
    {
     "data": {
      "text/html": [
       "<div>\n",
       "<style scoped>\n",
       "    .dataframe tbody tr th:only-of-type {\n",
       "        vertical-align: middle;\n",
       "    }\n",
       "\n",
       "    .dataframe tbody tr th {\n",
       "        vertical-align: top;\n",
       "    }\n",
       "\n",
       "    .dataframe thead th {\n",
       "        text-align: right;\n",
       "    }\n",
       "</style>\n",
       "<table border=\"1\" class=\"dataframe\">\n",
       "  <thead>\n",
       "    <tr style=\"text-align: right;\">\n",
       "      <th></th>\n",
       "      <th>Addr</th>\n",
       "      <th>Date</th>\n",
       "      <th>Name</th>\n",
       "      <th>Time</th>\n",
       "    </tr>\n",
       "  </thead>\n",
       "  <tbody>\n",
       "    <tr>\n",
       "      <th>0</th>\n",
       "      <td>78 rd, kenith street, btm, bangalore, 500038</td>\n",
       "      <td>2022-04-03</td>\n",
       "      <td>Lavanya</td>\n",
       "      <td>8:45:23</td>\n",
       "    </tr>\n",
       "    <tr>\n",
       "      <th>1</th>\n",
       "      <td>45 rd,  maruthi street, hitech, Hyd, 500058</td>\n",
       "      <td>2022-06-07</td>\n",
       "      <td>Ramya</td>\n",
       "      <td>5:25:21</td>\n",
       "    </tr>\n",
       "    <tr>\n",
       "      <th>2</th>\n",
       "      <td>3 rd, royal street, Kondapur, Hyd, 500011</td>\n",
       "      <td>2022-08-09</td>\n",
       "      <td>Sudha</td>\n",
       "      <td>5:34:43</td>\n",
       "    </tr>\n",
       "  </tbody>\n",
       "</table>\n",
       "</div>"
      ],
      "text/plain": [
       "                                           Addr       Date     Name     Time\n",
       "0  78 rd, kenith street, btm, bangalore, 500038 2022-04-03  Lavanya  8:45:23\n",
       "1   45 rd,  maruthi street, hitech, Hyd, 500058 2022-06-07    Ramya  5:25:21\n",
       "2     3 rd, royal street, Kondapur, Hyd, 500011 2022-08-09    Sudha  5:34:43"
      ]
     },
     "execution_count": 3,
     "metadata": {},
     "output_type": "execute_result"
    }
   ],
   "source": [
    "#Reading data from Excel sheet\n",
    "data1 = pd.read_excel(r'D:\\Sample Datasets\\Raw_data.xlsx')\n",
    "data1"
   ]
  },
  {
   "cell_type": "markdown",
   "id": "f5d8c2fb-5df6-4503-94e1-6e561e679751",
   "metadata": {
    "panel-layout": {
     "height": 110.70000457763672,
     "visible": true,
     "width": 100
    }
   },
   "source": [
    "# Readig data from HTML file which has 1 table\n",
    "\n",
    "- df's will be a list of DataFrames, each representing a table found in the HTML\n",
    "- If there's only one table in the HTML file, you can access the first table as below:"
   ]
  },
  {
   "cell_type": "code",
   "execution_count": 5,
   "id": "951baa46-236d-47b2-a45e-393fac026029",
   "metadata": {
    "panel-layout": {
     "height": 116.4000015258789,
     "visible": true,
     "width": 100
    }
   },
   "outputs": [
    {
     "data": {
      "text/html": [
       "<div>\n",
       "<style scoped>\n",
       "    .dataframe tbody tr th:only-of-type {\n",
       "        vertical-align: middle;\n",
       "    }\n",
       "\n",
       "    .dataframe tbody tr th {\n",
       "        vertical-align: top;\n",
       "    }\n",
       "\n",
       "    .dataframe thead th {\n",
       "        text-align: right;\n",
       "    }\n",
       "</style>\n",
       "<table border=\"1\" class=\"dataframe\">\n",
       "  <thead>\n",
       "    <tr style=\"text-align: right;\">\n",
       "      <th></th>\n",
       "      <th>Name</th>\n",
       "      <th>Age</th>\n",
       "      <th>City</th>\n",
       "    </tr>\n",
       "  </thead>\n",
       "  <tbody>\n",
       "    <tr>\n",
       "      <th>0</th>\n",
       "      <td>Alice</td>\n",
       "      <td>30</td>\n",
       "      <td>New York</td>\n",
       "    </tr>\n",
       "    <tr>\n",
       "      <th>1</th>\n",
       "      <td>Bob</td>\n",
       "      <td>25</td>\n",
       "      <td>Los Angeles</td>\n",
       "    </tr>\n",
       "    <tr>\n",
       "      <th>2</th>\n",
       "      <td>Charlie</td>\n",
       "      <td>35</td>\n",
       "      <td>Chicago</td>\n",
       "    </tr>\n",
       "  </tbody>\n",
       "</table>\n",
       "</div>"
      ],
      "text/plain": [
       "      Name  Age         City\n",
       "0    Alice   30     New York\n",
       "1      Bob   25  Los Angeles\n",
       "2  Charlie   35      Chicago"
      ]
     },
     "execution_count": 5,
     "metadata": {},
     "output_type": "execute_result"
    }
   ],
   "source": [
    "#Readig data from HTML file which has 1 table\n",
    "dfs = pd.read_html(r'D:\\Sample Datasets\\index.html')\n",
    "data2 = dfs[0]\n",
    "data2"
   ]
  },
  {
   "cell_type": "markdown",
   "id": "cde5ccb4-9280-4338-b29e-a0b9d252e921",
   "metadata": {
    "panel-layout": {
     "height": 60.57500457763672,
     "visible": true,
     "width": 100
    }
   },
   "source": [
    "# Readig data from HTML file which has 2 tables or more"
   ]
  },
  {
   "cell_type": "code",
   "execution_count": 7,
   "id": "8a87993d-21f1-47a1-95df-15f6e99d241c",
   "metadata": {
    "panel-layout": {
     "height": 0,
     "visible": true,
     "width": 100
    }
   },
   "outputs": [
    {
     "name": "stdout",
     "output_type": "stream",
     "text": [
      "Employees Table:\n",
      "  Employee Name   Department   Salary\n",
      "0         Alice  Engineering  $80,000\n",
      "1           Bob    Marketing  $60,000\n",
      "2       Charlie           HR  $50,000\n",
      "\n",
      "Products Table:\n",
      "  Product Name   Price  Stock\n",
      "0       Laptop  $1,200     50\n",
      "1   Smartphone    $800    150\n",
      "2   Headphones    $150    200\n"
     ]
    }
   ],
   "source": [
    "#Readig data from HTML file which has 2 tables\n",
    "df = pd.read_html(r'D:\\Sample Datasets\\index_2.html')\n",
    "\n",
    "data_employees = df[0]\n",
    "data_products = df[1]\n",
    "\n",
    "# Display the first DataFrame (Employees table)\n",
    "print(\"Employees Table:\")\n",
    "print(data_employees)\n",
    "\n",
    "# Display the second DataFrame (Products table)\n",
    "print(\"\\nProducts Table:\")\n",
    "print(data_products)"
   ]
  },
  {
   "cell_type": "markdown",
   "id": "9dc8be70-c241-461b-be9c-25ff180184c9",
   "metadata": {
    "panel-layout": {
     "height": 60.57500457763672,
     "visible": true,
     "width": 100
    }
   },
   "source": [
    "# Extracting more than 1 table from PDF using tabula-py"
   ]
  },
  {
   "cell_type": "code",
   "execution_count": 9,
   "id": "9691a126-d0af-40d1-916e-781e8256cfc3",
   "metadata": {},
   "outputs": [],
   "source": [
    "!pip -qqq install tabula-py"
   ]
  },
  {
   "cell_type": "code",
   "execution_count": 10,
   "id": "59183334-5f9c-4c9e-aca1-fea74e668125",
   "metadata": {},
   "outputs": [],
   "source": [
    "import pandas as pd\n",
    "from tabula import read_pdf"
   ]
  },
  {
   "cell_type": "code",
   "execution_count": 28,
   "id": "4e2f224c-9578-461e-9af5-16fe45898b1a",
   "metadata": {},
   "outputs": [],
   "source": [
    "path = \"https://sedl.org/afterschool/toolkits/science/pdf/ast_sci_data_tables_sample.pdf\"\n",
    "table_data = read_pdf(path, pages='all',multiple_tables=True)"
   ]
  },
  {
   "cell_type": "code",
   "execution_count": 12,
   "id": "6ddb27bc-13d0-4b2c-87ea-f1cc9557b067",
   "metadata": {
    "panel-layout": {
     "height": 626.9500122070312,
     "visible": true,
     "width": 100
    }
   },
   "outputs": [
    {
     "data": {
      "text/plain": [
       "[   Number of Coils Number of Paperclips\n",
       " 0                5              3, 5, 4\n",
       " 1               10              7, 8, 6\n",
       " 2               15           11, 10, 12\n",
       " 3               20           15, 13, 14,\n",
       "     Speed (mph)           Driver                         Car     Engine  \\\n",
       " 0       407.447  Craig Breedlove           Spirit of America     GE J47   \n",
       " 1       413.199        Tom Green            Wingfoot Express     WE J46   \n",
       " 2       434.220       Art Arfons               Green Monster     GE J79   \n",
       " 3       468.719  Craig Breedlove           Spirit of America     GE J79   \n",
       " 4       526.277  Craig Breedlove           Spirit of America     GE J79   \n",
       " 5       536.712       Art Arfons               Green Monster     GE J79   \n",
       " 6       555.127  Craig Breedlove  Spirit of America, Sonic 1     GE J79   \n",
       " 7       576.553       Art Arfons               Green Monster     GE J79   \n",
       " 8       600.601  Craig Breedlove  Spirit of America, Sonic 1     GE J79   \n",
       " 9       622.407    Gary Gabelich                  Blue Flame     Rocket   \n",
       " 10      633.468    Richard Noble                    Thrust 2  RR RG 146   \n",
       " 11      763.035       Andy Green                  Thrust SSC    RR Spey   \n",
       " \n",
       "         Date  \n",
       " 0     8/5/63  \n",
       " 1    10/2/64  \n",
       " 2    10/5/64  \n",
       " 3   10/13/64  \n",
       " 4   10/15/65  \n",
       " 5   10/27/65  \n",
       " 6    11/2/65  \n",
       " 7    11/7/65  \n",
       " 8   11/15/65  \n",
       " 9   10/23/70  \n",
       " 10   10/4/83  \n",
       " 11  10/15/97  ,\n",
       "    Time (drops of water)  Distance (cm)\n",
       " 0                      1        10,11,9\n",
       " 1                      2     29, 31, 30\n",
       " 2                      3     59, 58, 61\n",
       " 3                      4   102, 100, 98\n",
       " 4                      5  122, 125, 127]"
      ]
     },
     "execution_count": 12,
     "metadata": {},
     "output_type": "execute_result"
    }
   ],
   "source": [
    "table_data"
   ]
  },
  {
   "cell_type": "code",
   "execution_count": 13,
   "id": "e070320d-8ea1-44cc-ac3a-bd2b9814aaaf",
   "metadata": {
    "panel-layout": {
     "height": 142.8000030517578,
     "visible": true,
     "width": 100
    }
   },
   "outputs": [
    {
     "data": {
      "text/html": [
       "<div>\n",
       "<style scoped>\n",
       "    .dataframe tbody tr th:only-of-type {\n",
       "        vertical-align: middle;\n",
       "    }\n",
       "\n",
       "    .dataframe tbody tr th {\n",
       "        vertical-align: top;\n",
       "    }\n",
       "\n",
       "    .dataframe thead th {\n",
       "        text-align: right;\n",
       "    }\n",
       "</style>\n",
       "<table border=\"1\" class=\"dataframe\">\n",
       "  <thead>\n",
       "    <tr style=\"text-align: right;\">\n",
       "      <th></th>\n",
       "      <th>Number of Coils</th>\n",
       "      <th>Number of Paperclips</th>\n",
       "    </tr>\n",
       "  </thead>\n",
       "  <tbody>\n",
       "    <tr>\n",
       "      <th>0</th>\n",
       "      <td>5</td>\n",
       "      <td>3, 5, 4</td>\n",
       "    </tr>\n",
       "    <tr>\n",
       "      <th>1</th>\n",
       "      <td>10</td>\n",
       "      <td>7, 8, 6</td>\n",
       "    </tr>\n",
       "    <tr>\n",
       "      <th>2</th>\n",
       "      <td>15</td>\n",
       "      <td>11, 10, 12</td>\n",
       "    </tr>\n",
       "    <tr>\n",
       "      <th>3</th>\n",
       "      <td>20</td>\n",
       "      <td>15, 13, 14</td>\n",
       "    </tr>\n",
       "  </tbody>\n",
       "</table>\n",
       "</div>"
      ],
      "text/plain": [
       "   Number of Coils Number of Paperclips\n",
       "0                5              3, 5, 4\n",
       "1               10              7, 8, 6\n",
       "2               15           11, 10, 12\n",
       "3               20           15, 13, 14"
      ]
     },
     "execution_count": 13,
     "metadata": {},
     "output_type": "execute_result"
    }
   ],
   "source": [
    "table_data[0].head()"
   ]
  },
  {
   "cell_type": "code",
   "execution_count": 14,
   "id": "8670cd3d-e79a-4fb0-8644-d09c6eafbd22",
   "metadata": {
    "panel-layout": {
     "height": 169.1999969482422,
     "visible": true,
     "width": 100
    }
   },
   "outputs": [
    {
     "data": {
      "text/html": [
       "<div>\n",
       "<style scoped>\n",
       "    .dataframe tbody tr th:only-of-type {\n",
       "        vertical-align: middle;\n",
       "    }\n",
       "\n",
       "    .dataframe tbody tr th {\n",
       "        vertical-align: top;\n",
       "    }\n",
       "\n",
       "    .dataframe thead th {\n",
       "        text-align: right;\n",
       "    }\n",
       "</style>\n",
       "<table border=\"1\" class=\"dataframe\">\n",
       "  <thead>\n",
       "    <tr style=\"text-align: right;\">\n",
       "      <th></th>\n",
       "      <th>Speed (mph)</th>\n",
       "      <th>Driver</th>\n",
       "      <th>Car</th>\n",
       "      <th>Engine</th>\n",
       "      <th>Date</th>\n",
       "    </tr>\n",
       "  </thead>\n",
       "  <tbody>\n",
       "    <tr>\n",
       "      <th>0</th>\n",
       "      <td>407.447</td>\n",
       "      <td>Craig Breedlove</td>\n",
       "      <td>Spirit of America</td>\n",
       "      <td>GE J47</td>\n",
       "      <td>8/5/63</td>\n",
       "    </tr>\n",
       "    <tr>\n",
       "      <th>1</th>\n",
       "      <td>413.199</td>\n",
       "      <td>Tom Green</td>\n",
       "      <td>Wingfoot Express</td>\n",
       "      <td>WE J46</td>\n",
       "      <td>10/2/64</td>\n",
       "    </tr>\n",
       "    <tr>\n",
       "      <th>2</th>\n",
       "      <td>434.220</td>\n",
       "      <td>Art Arfons</td>\n",
       "      <td>Green Monster</td>\n",
       "      <td>GE J79</td>\n",
       "      <td>10/5/64</td>\n",
       "    </tr>\n",
       "    <tr>\n",
       "      <th>3</th>\n",
       "      <td>468.719</td>\n",
       "      <td>Craig Breedlove</td>\n",
       "      <td>Spirit of America</td>\n",
       "      <td>GE J79</td>\n",
       "      <td>10/13/64</td>\n",
       "    </tr>\n",
       "    <tr>\n",
       "      <th>4</th>\n",
       "      <td>526.277</td>\n",
       "      <td>Craig Breedlove</td>\n",
       "      <td>Spirit of America</td>\n",
       "      <td>GE J79</td>\n",
       "      <td>10/15/65</td>\n",
       "    </tr>\n",
       "  </tbody>\n",
       "</table>\n",
       "</div>"
      ],
      "text/plain": [
       "   Speed (mph)           Driver                Car  Engine      Date\n",
       "0      407.447  Craig Breedlove  Spirit of America  GE J47    8/5/63\n",
       "1      413.199        Tom Green   Wingfoot Express  WE J46   10/2/64\n",
       "2      434.220       Art Arfons      Green Monster  GE J79   10/5/64\n",
       "3      468.719  Craig Breedlove  Spirit of America  GE J79  10/13/64\n",
       "4      526.277  Craig Breedlove  Spirit of America  GE J79  10/15/65"
      ]
     },
     "execution_count": 14,
     "metadata": {},
     "output_type": "execute_result"
    }
   ],
   "source": [
    "table_data[1].head()"
   ]
  },
  {
   "cell_type": "code",
   "execution_count": 15,
   "id": "9daf8709-41af-4068-ac86-609187105a96",
   "metadata": {
    "panel-layout": {
     "height": 169.1999969482422,
     "visible": true,
     "width": 100
    }
   },
   "outputs": [
    {
     "data": {
      "text/html": [
       "<div>\n",
       "<style scoped>\n",
       "    .dataframe tbody tr th:only-of-type {\n",
       "        vertical-align: middle;\n",
       "    }\n",
       "\n",
       "    .dataframe tbody tr th {\n",
       "        vertical-align: top;\n",
       "    }\n",
       "\n",
       "    .dataframe thead th {\n",
       "        text-align: right;\n",
       "    }\n",
       "</style>\n",
       "<table border=\"1\" class=\"dataframe\">\n",
       "  <thead>\n",
       "    <tr style=\"text-align: right;\">\n",
       "      <th></th>\n",
       "      <th>Time (drops of water)</th>\n",
       "      <th>Distance (cm)</th>\n",
       "    </tr>\n",
       "  </thead>\n",
       "  <tbody>\n",
       "    <tr>\n",
       "      <th>0</th>\n",
       "      <td>1</td>\n",
       "      <td>10,11,9</td>\n",
       "    </tr>\n",
       "    <tr>\n",
       "      <th>1</th>\n",
       "      <td>2</td>\n",
       "      <td>29, 31, 30</td>\n",
       "    </tr>\n",
       "    <tr>\n",
       "      <th>2</th>\n",
       "      <td>3</td>\n",
       "      <td>59, 58, 61</td>\n",
       "    </tr>\n",
       "    <tr>\n",
       "      <th>3</th>\n",
       "      <td>4</td>\n",
       "      <td>102, 100, 98</td>\n",
       "    </tr>\n",
       "    <tr>\n",
       "      <th>4</th>\n",
       "      <td>5</td>\n",
       "      <td>122, 125, 127</td>\n",
       "    </tr>\n",
       "  </tbody>\n",
       "</table>\n",
       "</div>"
      ],
      "text/plain": [
       "   Time (drops of water)  Distance (cm)\n",
       "0                      1        10,11,9\n",
       "1                      2     29, 31, 30\n",
       "2                      3     59, 58, 61\n",
       "3                      4   102, 100, 98\n",
       "4                      5  122, 125, 127"
      ]
     },
     "execution_count": 15,
     "metadata": {},
     "output_type": "execute_result"
    }
   ],
   "source": [
    "table_data[2].head()"
   ]
  },
  {
   "cell_type": "code",
   "execution_count": null,
   "id": "49c2c99d-1d2b-460c-8c9d-5d3178ebb7fe",
   "metadata": {},
   "outputs": [],
   "source": []
  }
 ],
 "metadata": {
  "kernelspec": {
   "display_name": "Python 3 (ipykernel)",
   "language": "python",
   "name": "python3"
  },
  "language_info": {
   "codemirror_mode": {
    "name": "ipython",
    "version": 3
   },
   "file_extension": ".py",
   "mimetype": "text/x-python",
   "name": "python",
   "nbconvert_exporter": "python",
   "pygments_lexer": "ipython3",
   "version": "3.12.4"
  },
  "panel-cell-order": [
   "5e5a6161-15ba-4206-a263-61689a746555",
   "d0f167ea-26bf-4718-9431-1977f6133a26",
   "f5d8c2fb-5df6-4503-94e1-6e561e679751",
   "951baa46-236d-47b2-a45e-393fac026029",
   "cde5ccb4-9280-4338-b29e-a0b9d252e921",
   "8a87993d-21f1-47a1-95df-15f6e99d241c",
   "9dc8be70-c241-461b-be9c-25ff180184c9",
   "6ddb27bc-13d0-4b2c-87ea-f1cc9557b067",
   "e070320d-8ea1-44cc-ac3a-bd2b9814aaaf",
   "8670cd3d-e79a-4fb0-8644-d09c6eafbd22",
   "9daf8709-41af-4068-ac86-609187105a96"
  ]
 },
 "nbformat": 4,
 "nbformat_minor": 5
}
