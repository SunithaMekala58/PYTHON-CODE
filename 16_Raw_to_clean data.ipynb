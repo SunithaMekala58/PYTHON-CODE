{
 "cells": [
  {
   "cell_type": "code",
   "execution_count": 1,
   "id": "dd400068-142e-45a2-8cc7-b75438cfac63",
   "metadata": {},
   "outputs": [],
   "source": [
    "#Importing the libraries\n",
    "#import numpy as np\n",
    "import pandas as pd"
   ]
  },
  {
   "cell_type": "code",
   "execution_count": 2,
   "id": "58673a93-15a4-44d3-8c16-1eb76df3af36",
   "metadata": {},
   "outputs": [
    {
     "data": {
      "text/html": [
       "<div>\n",
       "<style scoped>\n",
       "    .dataframe tbody tr th:only-of-type {\n",
       "        vertical-align: middle;\n",
       "    }\n",
       "\n",
       "    .dataframe tbody tr th {\n",
       "        vertical-align: top;\n",
       "    }\n",
       "\n",
       "    .dataframe thead th {\n",
       "        text-align: right;\n",
       "    }\n",
       "</style>\n",
       "<table border=\"1\" class=\"dataframe\">\n",
       "  <thead>\n",
       "    <tr style=\"text-align: right;\">\n",
       "      <th></th>\n",
       "      <th>Addr</th>\n",
       "      <th>Date</th>\n",
       "      <th>Name</th>\n",
       "      <th>Time</th>\n",
       "    </tr>\n",
       "  </thead>\n",
       "  <tbody>\n",
       "    <tr>\n",
       "      <th>0</th>\n",
       "      <td>78 rd, kenith street, btm, bangalore, 500038</td>\n",
       "      <td>2022-04-03</td>\n",
       "      <td>Lavanya</td>\n",
       "      <td>8:45:23</td>\n",
       "    </tr>\n",
       "    <tr>\n",
       "      <th>1</th>\n",
       "      <td>45 rd,  maruthi street, hitech, Hyd, 500058</td>\n",
       "      <td>2022-06-07</td>\n",
       "      <td>Ramya</td>\n",
       "      <td>5:25:21</td>\n",
       "    </tr>\n",
       "    <tr>\n",
       "      <th>2</th>\n",
       "      <td>3 rd, royal street, Kondapur, Hyd, 500011</td>\n",
       "      <td>2022-08-09</td>\n",
       "      <td>Sudha</td>\n",
       "      <td>5:34:43</td>\n",
       "    </tr>\n",
       "  </tbody>\n",
       "</table>\n",
       "</div>"
      ],
      "text/plain": [
       "                                           Addr       Date     Name     Time\n",
       "0  78 rd, kenith street, btm, bangalore, 500038 2022-04-03  Lavanya  8:45:23\n",
       "1   45 rd,  maruthi street, hitech, Hyd, 500058 2022-06-07    Ramya  5:25:21\n",
       "2     3 rd, royal street, Kondapur, Hyd, 500011 2022-08-09    Sudha  5:34:43"
      ]
     },
     "execution_count": 2,
     "metadata": {},
     "output_type": "execute_result"
    }
   ],
   "source": [
    "#Read the excel file into a Dataframe\n",
    "df = pd.read_excel(r'D:\\Sample Datasets\\Raw_data.xlsx')\n",
    "df"
   ]
  },
  {
   "cell_type": "code",
   "execution_count": 3,
   "id": "9884cff3-5991-459d-90e9-4bfa0307abd8",
   "metadata": {},
   "outputs": [
    {
     "data": {
      "text/plain": [
       "0    78 rd, kenith street, btm, bangalore, 500038\n",
       "1     45 rd,  maruthi street, hitech, Hyd, 500058\n",
       "2       3 rd, royal street, Kondapur, Hyd, 500011\n",
       "Name: Addr, dtype: object"
      ]
     },
     "execution_count": 3,
     "metadata": {},
     "output_type": "execute_result"
    }
   ],
   "source": [
    "df['Addr'] #Shows the data present in the Addr column"
   ]
  },
  {
   "cell_type": "code",
   "execution_count": 4,
   "id": "85a21d4a-6b84-488a-9494-6346b1163a8d",
   "metadata": {},
   "outputs": [
    {
     "data": {
      "text/plain": [
       "(3, 4)"
      ]
     },
     "execution_count": 4,
     "metadata": {},
     "output_type": "execute_result"
    }
   ],
   "source": [
    "df.shape"
   ]
  },
  {
   "cell_type": "code",
   "execution_count": 5,
   "id": "68edef37-e9a6-47c2-b985-b10867a0399d",
   "metadata": {},
   "outputs": [
    {
     "data": {
      "text/plain": [
       "False"
      ]
     },
     "execution_count": 5,
     "metadata": {},
     "output_type": "execute_result"
    }
   ],
   "source": [
    "df.isnull().any().any() #no null or missing values present - so it displays False"
   ]
  },
  {
   "cell_type": "code",
   "execution_count": 6,
   "id": "7ced3608-93b2-428e-9452-092204454a90",
   "metadata": {},
   "outputs": [
    {
     "data": {
      "text/plain": [
       "Index(['Addr', 'Date', 'Name', 'Time'], dtype='object')"
      ]
     },
     "execution_count": 6,
     "metadata": {},
     "output_type": "execute_result"
    }
   ],
   "source": [
    "df.columns       #Shows the column names present"
   ]
  },
  {
   "cell_type": "code",
   "execution_count": 7,
   "id": "5940a571-e233-43c2-af04-e9e3898f37c6",
   "metadata": {},
   "outputs": [],
   "source": [
    "#Splitting the Address column by commas or (by using any delimiters)\n",
    "df[['House Addr','Street','City', 'State', 'Zip_code']] = df['Addr'].str.split(',', expand=True)"
   ]
  },
  {
   "cell_type": "code",
   "execution_count": 8,
   "id": "eebe5822-f2ed-4fe7-9b54-c9930844fbad",
   "metadata": {},
   "outputs": [
    {
     "data": {
      "text/html": [
       "<div>\n",
       "<style scoped>\n",
       "    .dataframe tbody tr th:only-of-type {\n",
       "        vertical-align: middle;\n",
       "    }\n",
       "\n",
       "    .dataframe tbody tr th {\n",
       "        vertical-align: top;\n",
       "    }\n",
       "\n",
       "    .dataframe thead th {\n",
       "        text-align: right;\n",
       "    }\n",
       "</style>\n",
       "<table border=\"1\" class=\"dataframe\">\n",
       "  <thead>\n",
       "    <tr style=\"text-align: right;\">\n",
       "      <th></th>\n",
       "      <th>Addr</th>\n",
       "      <th>Date</th>\n",
       "      <th>Name</th>\n",
       "      <th>Time</th>\n",
       "      <th>House Addr</th>\n",
       "      <th>Street</th>\n",
       "      <th>City</th>\n",
       "      <th>State</th>\n",
       "      <th>Zip_code</th>\n",
       "    </tr>\n",
       "  </thead>\n",
       "  <tbody>\n",
       "    <tr>\n",
       "      <th>0</th>\n",
       "      <td>78 rd, kenith street, btm, bangalore, 500038</td>\n",
       "      <td>2022-04-03</td>\n",
       "      <td>Lavanya</td>\n",
       "      <td>8:45:23</td>\n",
       "      <td>78 rd</td>\n",
       "      <td>kenith street</td>\n",
       "      <td>btm</td>\n",
       "      <td>bangalore</td>\n",
       "      <td>500038</td>\n",
       "    </tr>\n",
       "    <tr>\n",
       "      <th>1</th>\n",
       "      <td>45 rd,  maruthi street, hitech, Hyd, 500058</td>\n",
       "      <td>2022-06-07</td>\n",
       "      <td>Ramya</td>\n",
       "      <td>5:25:21</td>\n",
       "      <td>45 rd</td>\n",
       "      <td>maruthi street</td>\n",
       "      <td>hitech</td>\n",
       "      <td>Hyd</td>\n",
       "      <td>500058</td>\n",
       "    </tr>\n",
       "    <tr>\n",
       "      <th>2</th>\n",
       "      <td>3 rd, royal street, Kondapur, Hyd, 500011</td>\n",
       "      <td>2022-08-09</td>\n",
       "      <td>Sudha</td>\n",
       "      <td>5:34:43</td>\n",
       "      <td>3 rd</td>\n",
       "      <td>royal street</td>\n",
       "      <td>Kondapur</td>\n",
       "      <td>Hyd</td>\n",
       "      <td>500011</td>\n",
       "    </tr>\n",
       "  </tbody>\n",
       "</table>\n",
       "</div>"
      ],
      "text/plain": [
       "                                           Addr       Date     Name     Time  \\\n",
       "0  78 rd, kenith street, btm, bangalore, 500038 2022-04-03  Lavanya  8:45:23   \n",
       "1   45 rd,  maruthi street, hitech, Hyd, 500058 2022-06-07    Ramya  5:25:21   \n",
       "2     3 rd, royal street, Kondapur, Hyd, 500011 2022-08-09    Sudha  5:34:43   \n",
       "\n",
       "  House Addr            Street       City       State Zip_code  \n",
       "0      78 rd     kenith street        btm   bangalore   500038  \n",
       "1      45 rd    maruthi street     hitech         Hyd   500058  \n",
       "2       3 rd      royal street   Kondapur         Hyd   500011  "
      ]
     },
     "execution_count": 8,
     "metadata": {},
     "output_type": "execute_result"
    }
   ],
   "source": [
    "df"
   ]
  },
  {
   "cell_type": "code",
   "execution_count": 9,
   "id": "22aec7d6-f953-4306-9a27-86a0fb4fe8d2",
   "metadata": {},
   "outputs": [],
   "source": [
    "# Strip any leading/trailing whitespace from the new columns\n",
    "df['House Addr'] = df['House Addr'].str.strip()\n",
    "df['Street'] = df['Street'].str.strip()\n",
    "df['City'] = df['City'].str.strip()\n",
    "df['State'] = df['State'].str.strip()\n",
    "df['Zip_code'] = df['Zip_code'].str.strip()"
   ]
  },
  {
   "cell_type": "code",
   "execution_count": 10,
   "id": "a64be08b-ad27-44e9-87ce-18a39fe1a985",
   "metadata": {},
   "outputs": [],
   "source": [
    "#Dropping the original Addr column as its no longer needed\n",
    "df.drop(columns=['Addr'], inplace=True) "
   ]
  },
  {
   "cell_type": "code",
   "execution_count": 11,
   "id": "802429ad-b39c-4085-82c7-01c6a9bf1d6e",
   "metadata": {},
   "outputs": [
    {
     "data": {
      "text/html": [
       "<div>\n",
       "<style scoped>\n",
       "    .dataframe tbody tr th:only-of-type {\n",
       "        vertical-align: middle;\n",
       "    }\n",
       "\n",
       "    .dataframe tbody tr th {\n",
       "        vertical-align: top;\n",
       "    }\n",
       "\n",
       "    .dataframe thead th {\n",
       "        text-align: right;\n",
       "    }\n",
       "</style>\n",
       "<table border=\"1\" class=\"dataframe\">\n",
       "  <thead>\n",
       "    <tr style=\"text-align: right;\">\n",
       "      <th></th>\n",
       "      <th>Date</th>\n",
       "      <th>Name</th>\n",
       "      <th>Time</th>\n",
       "      <th>House Addr</th>\n",
       "      <th>Street</th>\n",
       "      <th>City</th>\n",
       "      <th>State</th>\n",
       "      <th>Zip_code</th>\n",
       "    </tr>\n",
       "  </thead>\n",
       "  <tbody>\n",
       "    <tr>\n",
       "      <th>0</th>\n",
       "      <td>2022-04-03</td>\n",
       "      <td>Lavanya</td>\n",
       "      <td>8:45:23</td>\n",
       "      <td>78 rd</td>\n",
       "      <td>kenith street</td>\n",
       "      <td>btm</td>\n",
       "      <td>bangalore</td>\n",
       "      <td>500038</td>\n",
       "    </tr>\n",
       "    <tr>\n",
       "      <th>1</th>\n",
       "      <td>2022-06-07</td>\n",
       "      <td>Ramya</td>\n",
       "      <td>5:25:21</td>\n",
       "      <td>45 rd</td>\n",
       "      <td>maruthi street</td>\n",
       "      <td>hitech</td>\n",
       "      <td>Hyd</td>\n",
       "      <td>500058</td>\n",
       "    </tr>\n",
       "    <tr>\n",
       "      <th>2</th>\n",
       "      <td>2022-08-09</td>\n",
       "      <td>Sudha</td>\n",
       "      <td>5:34:43</td>\n",
       "      <td>3 rd</td>\n",
       "      <td>royal street</td>\n",
       "      <td>Kondapur</td>\n",
       "      <td>Hyd</td>\n",
       "      <td>500011</td>\n",
       "    </tr>\n",
       "  </tbody>\n",
       "</table>\n",
       "</div>"
      ],
      "text/plain": [
       "        Date     Name     Time House Addr          Street      City  \\\n",
       "0 2022-04-03  Lavanya  8:45:23      78 rd   kenith street       btm   \n",
       "1 2022-06-07    Ramya  5:25:21      45 rd  maruthi street    hitech   \n",
       "2 2022-08-09    Sudha  5:34:43       3 rd    royal street  Kondapur   \n",
       "\n",
       "       State Zip_code  \n",
       "0  bangalore   500038  \n",
       "1        Hyd   500058  \n",
       "2        Hyd   500011  "
      ]
     },
     "execution_count": 11,
     "metadata": {},
     "output_type": "execute_result"
    }
   ],
   "source": [
    "df"
   ]
  },
  {
   "cell_type": "code",
   "execution_count": 12,
   "id": "49f99ac2-a4f3-4d6e-8098-3cee23ff002d",
   "metadata": {},
   "outputs": [
    {
     "name": "stdout",
     "output_type": "stream",
     "text": [
      "<class 'pandas.core.frame.DataFrame'>\n",
      "RangeIndex: 3 entries, 0 to 2\n",
      "Data columns (total 8 columns):\n",
      " #   Column      Non-Null Count  Dtype         \n",
      "---  ------      --------------  -----         \n",
      " 0   Date        3 non-null      datetime64[ns]\n",
      " 1   Name        3 non-null      object        \n",
      " 2   Time        3 non-null      object        \n",
      " 3   House Addr  3 non-null      object        \n",
      " 4   Street      3 non-null      object        \n",
      " 5   City        3 non-null      object        \n",
      " 6   State       3 non-null      object        \n",
      " 7   Zip_code    3 non-null      object        \n",
      "dtypes: datetime64[ns](1), object(7)\n",
      "memory usage: 324.0+ bytes\n"
     ]
    }
   ],
   "source": [
    "df.info() "
   ]
  },
  {
   "cell_type": "markdown",
   "id": "9ee955f0-86b3-40e4-8563-36bbbf03e421",
   "metadata": {},
   "source": [
    "Series should be in datetime format. If it is not then convert it using pd.to_datetime(series)\n",
    "\n",
    "- series.dt.year\n",
    "- series.dt.day\n",
    "- series.dt.month\n",
    "\n",
    "- In the below example Date column i.e, date is already converted in datetime,\n",
    "  Otherwise convert the 'Date' column to datetime\n",
    "  \n",
    "  df['Date'] = pd.to_datetime(df['Date'])\n",
    "- Here,Time column is in the object dtype format so convert it into datetime format."
   ]
  },
  {
   "cell_type": "code",
   "execution_count": 14,
   "id": "0dae7d2b-cf61-4661-a300-197a08ecc4ad",
   "metadata": {},
   "outputs": [
    {
     "data": {
      "text/plain": [
       "0   2022-04-03\n",
       "1   2022-06-07\n",
       "2   2022-08-09\n",
       "Name: Date, dtype: datetime64[ns]"
      ]
     },
     "execution_count": 14,
     "metadata": {},
     "output_type": "execute_result"
    }
   ],
   "source": [
    "df['Date']  #Shows the data present in the Date column"
   ]
  },
  {
   "cell_type": "code",
   "execution_count": 15,
   "id": "5928f20e-aa8d-4b37-a674-69f263332d68",
   "metadata": {},
   "outputs": [
    {
     "data": {
      "text/plain": [
       "0    4\n",
       "1    6\n",
       "2    8\n",
       "Name: Date, dtype: int32"
      ]
     },
     "execution_count": 15,
     "metadata": {},
     "output_type": "execute_result"
    }
   ],
   "source": [
    "#Dispalys the Month\n",
    "df['Date'].dt.month"
   ]
  },
  {
   "cell_type": "code",
   "execution_count": 16,
   "id": "875f334c-80cd-4aa0-9f92-750680a5810f",
   "metadata": {},
   "outputs": [
    {
     "data": {
      "text/plain": [
       "0    3\n",
       "1    7\n",
       "2    9\n",
       "Name: Date, dtype: int32"
      ]
     },
     "execution_count": 16,
     "metadata": {},
     "output_type": "execute_result"
    }
   ],
   "source": [
    "#Displays the day\n",
    "df['Date'].dt.day"
   ]
  },
  {
   "cell_type": "code",
   "execution_count": 17,
   "id": "89ccbd91-4faa-47f3-be36-cf976349f54e",
   "metadata": {},
   "outputs": [
    {
     "data": {
      "text/plain": [
       "0    2022\n",
       "1    2022\n",
       "2    2022\n",
       "Name: Date, dtype: int32"
      ]
     },
     "execution_count": 17,
     "metadata": {},
     "output_type": "execute_result"
    }
   ],
   "source": [
    "#Displays the Year\n",
    "df['Date'].dt.year"
   ]
  },
  {
   "cell_type": "code",
   "execution_count": 18,
   "id": "be68fd32-45ad-4fb5-b138-12fb143d1d3f",
   "metadata": {},
   "outputs": [
    {
     "data": {
      "text/html": [
       "<div>\n",
       "<style scoped>\n",
       "    .dataframe tbody tr th:only-of-type {\n",
       "        vertical-align: middle;\n",
       "    }\n",
       "\n",
       "    .dataframe tbody tr th {\n",
       "        vertical-align: top;\n",
       "    }\n",
       "\n",
       "    .dataframe thead th {\n",
       "        text-align: right;\n",
       "    }\n",
       "</style>\n",
       "<table border=\"1\" class=\"dataframe\">\n",
       "  <thead>\n",
       "    <tr style=\"text-align: right;\">\n",
       "      <th></th>\n",
       "      <th>Date</th>\n",
       "      <th>Name</th>\n",
       "      <th>Time</th>\n",
       "      <th>House Addr</th>\n",
       "      <th>Street</th>\n",
       "      <th>City</th>\n",
       "      <th>State</th>\n",
       "      <th>Zip_code</th>\n",
       "    </tr>\n",
       "  </thead>\n",
       "  <tbody>\n",
       "    <tr>\n",
       "      <th>0</th>\n",
       "      <td>2022-04-03</td>\n",
       "      <td>Lavanya</td>\n",
       "      <td>8:45:23</td>\n",
       "      <td>78 rd</td>\n",
       "      <td>kenith street</td>\n",
       "      <td>btm</td>\n",
       "      <td>bangalore</td>\n",
       "      <td>500038</td>\n",
       "    </tr>\n",
       "    <tr>\n",
       "      <th>1</th>\n",
       "      <td>2022-06-07</td>\n",
       "      <td>Ramya</td>\n",
       "      <td>5:25:21</td>\n",
       "      <td>45 rd</td>\n",
       "      <td>maruthi street</td>\n",
       "      <td>hitech</td>\n",
       "      <td>Hyd</td>\n",
       "      <td>500058</td>\n",
       "    </tr>\n",
       "    <tr>\n",
       "      <th>2</th>\n",
       "      <td>2022-08-09</td>\n",
       "      <td>Sudha</td>\n",
       "      <td>5:34:43</td>\n",
       "      <td>3 rd</td>\n",
       "      <td>royal street</td>\n",
       "      <td>Kondapur</td>\n",
       "      <td>Hyd</td>\n",
       "      <td>500011</td>\n",
       "    </tr>\n",
       "  </tbody>\n",
       "</table>\n",
       "</div>"
      ],
      "text/plain": [
       "        Date     Name     Time House Addr          Street      City  \\\n",
       "0 2022-04-03  Lavanya  8:45:23      78 rd   kenith street       btm   \n",
       "1 2022-06-07    Ramya  5:25:21      45 rd  maruthi street    hitech   \n",
       "2 2022-08-09    Sudha  5:34:43       3 rd    royal street  Kondapur   \n",
       "\n",
       "       State Zip_code  \n",
       "0  bangalore   500038  \n",
       "1        Hyd   500058  \n",
       "2        Hyd   500011  "
      ]
     },
     "execution_count": 18,
     "metadata": {},
     "output_type": "execute_result"
    }
   ],
   "source": [
    "df"
   ]
  },
  {
   "cell_type": "markdown",
   "id": "6c93aaf6-a9be-4f8c-8724-552bbfbf5390",
   "metadata": {},
   "source": [
    "\n",
    "\n",
    "**Explanation:**\n",
    "\n",
    "\n",
    ".dt accessor: This provides various properties like day, month, year, hour, minute, second, etc., that you can directly extract from a datetime object.\n",
    "\n",
    "Efficient and Flexible: Using .dt is the preferred approach for extracting date components from a datetime object because it’s specifically designed to work with datetime data types and is more efficient than using string manipulation methods like split().\n"
   ]
  },
  {
   "cell_type": "code",
   "execution_count": 20,
   "id": "aaf75a9c-5ba1-4010-9962-d113cbc87b93",
   "metadata": {},
   "outputs": [
    {
     "data": {
      "text/html": [
       "<div>\n",
       "<style scoped>\n",
       "    .dataframe tbody tr th:only-of-type {\n",
       "        vertical-align: middle;\n",
       "    }\n",
       "\n",
       "    .dataframe tbody tr th {\n",
       "        vertical-align: top;\n",
       "    }\n",
       "\n",
       "    .dataframe thead th {\n",
       "        text-align: right;\n",
       "    }\n",
       "</style>\n",
       "<table border=\"1\" class=\"dataframe\">\n",
       "  <thead>\n",
       "    <tr style=\"text-align: right;\">\n",
       "      <th></th>\n",
       "      <th>Date</th>\n",
       "      <th>Name</th>\n",
       "      <th>Time</th>\n",
       "      <th>House Addr</th>\n",
       "      <th>Street</th>\n",
       "      <th>City</th>\n",
       "      <th>State</th>\n",
       "      <th>Zip_code</th>\n",
       "      <th>Month</th>\n",
       "      <th>Day</th>\n",
       "      <th>Year</th>\n",
       "    </tr>\n",
       "  </thead>\n",
       "  <tbody>\n",
       "    <tr>\n",
       "      <th>0</th>\n",
       "      <td>2022-04-03</td>\n",
       "      <td>Lavanya</td>\n",
       "      <td>8:45:23</td>\n",
       "      <td>78 rd</td>\n",
       "      <td>kenith street</td>\n",
       "      <td>btm</td>\n",
       "      <td>bangalore</td>\n",
       "      <td>500038</td>\n",
       "      <td>4</td>\n",
       "      <td>3</td>\n",
       "      <td>2022</td>\n",
       "    </tr>\n",
       "    <tr>\n",
       "      <th>1</th>\n",
       "      <td>2022-06-07</td>\n",
       "      <td>Ramya</td>\n",
       "      <td>5:25:21</td>\n",
       "      <td>45 rd</td>\n",
       "      <td>maruthi street</td>\n",
       "      <td>hitech</td>\n",
       "      <td>Hyd</td>\n",
       "      <td>500058</td>\n",
       "      <td>6</td>\n",
       "      <td>7</td>\n",
       "      <td>2022</td>\n",
       "    </tr>\n",
       "    <tr>\n",
       "      <th>2</th>\n",
       "      <td>2022-08-09</td>\n",
       "      <td>Sudha</td>\n",
       "      <td>5:34:43</td>\n",
       "      <td>3 rd</td>\n",
       "      <td>royal street</td>\n",
       "      <td>Kondapur</td>\n",
       "      <td>Hyd</td>\n",
       "      <td>500011</td>\n",
       "      <td>8</td>\n",
       "      <td>9</td>\n",
       "      <td>2022</td>\n",
       "    </tr>\n",
       "  </tbody>\n",
       "</table>\n",
       "</div>"
      ],
      "text/plain": [
       "        Date     Name     Time House Addr          Street      City  \\\n",
       "0 2022-04-03  Lavanya  8:45:23      78 rd   kenith street       btm   \n",
       "1 2022-06-07    Ramya  5:25:21      45 rd  maruthi street    hitech   \n",
       "2 2022-08-09    Sudha  5:34:43       3 rd    royal street  Kondapur   \n",
       "\n",
       "       State Zip_code  Month  Day  Year  \n",
       "0  bangalore   500038      4    3  2022  \n",
       "1        Hyd   500058      6    7  2022  \n",
       "2        Hyd   500011      8    9  2022  "
      ]
     },
     "execution_count": 20,
     "metadata": {},
     "output_type": "execute_result"
    }
   ],
   "source": [
    "#Splitting the Date column into different components\n",
    "df['Month'] = df['Date'].dt.month\n",
    "df['Day'] = df['Date'].dt.day\n",
    "df['Year'] = df['Date'].dt.year\n",
    "df"
   ]
  },
  {
   "cell_type": "code",
   "execution_count": 21,
   "id": "c890ab09-7633-4044-a4c5-79084b557933",
   "metadata": {},
   "outputs": [],
   "source": [
    "#Dropping the original 'Date' column as its no longer needed\n",
    "df.drop(columns=['Date'], inplace=True)"
   ]
  },
  {
   "cell_type": "code",
   "execution_count": 22,
   "id": "15fcb513-4833-414b-b3e8-7a15abaf1f83",
   "metadata": {},
   "outputs": [
    {
     "data": {
      "text/html": [
       "<div>\n",
       "<style scoped>\n",
       "    .dataframe tbody tr th:only-of-type {\n",
       "        vertical-align: middle;\n",
       "    }\n",
       "\n",
       "    .dataframe tbody tr th {\n",
       "        vertical-align: top;\n",
       "    }\n",
       "\n",
       "    .dataframe thead th {\n",
       "        text-align: right;\n",
       "    }\n",
       "</style>\n",
       "<table border=\"1\" class=\"dataframe\">\n",
       "  <thead>\n",
       "    <tr style=\"text-align: right;\">\n",
       "      <th></th>\n",
       "      <th>Name</th>\n",
       "      <th>Time</th>\n",
       "      <th>House Addr</th>\n",
       "      <th>Street</th>\n",
       "      <th>City</th>\n",
       "      <th>State</th>\n",
       "      <th>Zip_code</th>\n",
       "      <th>Month</th>\n",
       "      <th>Day</th>\n",
       "      <th>Year</th>\n",
       "    </tr>\n",
       "  </thead>\n",
       "  <tbody>\n",
       "    <tr>\n",
       "      <th>0</th>\n",
       "      <td>Lavanya</td>\n",
       "      <td>8:45:23</td>\n",
       "      <td>78 rd</td>\n",
       "      <td>kenith street</td>\n",
       "      <td>btm</td>\n",
       "      <td>bangalore</td>\n",
       "      <td>500038</td>\n",
       "      <td>4</td>\n",
       "      <td>3</td>\n",
       "      <td>2022</td>\n",
       "    </tr>\n",
       "    <tr>\n",
       "      <th>1</th>\n",
       "      <td>Ramya</td>\n",
       "      <td>5:25:21</td>\n",
       "      <td>45 rd</td>\n",
       "      <td>maruthi street</td>\n",
       "      <td>hitech</td>\n",
       "      <td>Hyd</td>\n",
       "      <td>500058</td>\n",
       "      <td>6</td>\n",
       "      <td>7</td>\n",
       "      <td>2022</td>\n",
       "    </tr>\n",
       "    <tr>\n",
       "      <th>2</th>\n",
       "      <td>Sudha</td>\n",
       "      <td>5:34:43</td>\n",
       "      <td>3 rd</td>\n",
       "      <td>royal street</td>\n",
       "      <td>Kondapur</td>\n",
       "      <td>Hyd</td>\n",
       "      <td>500011</td>\n",
       "      <td>8</td>\n",
       "      <td>9</td>\n",
       "      <td>2022</td>\n",
       "    </tr>\n",
       "  </tbody>\n",
       "</table>\n",
       "</div>"
      ],
      "text/plain": [
       "      Name     Time House Addr          Street      City      State Zip_code  \\\n",
       "0  Lavanya  8:45:23      78 rd   kenith street       btm  bangalore   500038   \n",
       "1    Ramya  5:25:21      45 rd  maruthi street    hitech        Hyd   500058   \n",
       "2    Sudha  5:34:43       3 rd    royal street  Kondapur        Hyd   500011   \n",
       "\n",
       "   Month  Day  Year  \n",
       "0      4    3  2022  \n",
       "1      6    7  2022  \n",
       "2      8    9  2022  "
      ]
     },
     "execution_count": 22,
     "metadata": {},
     "output_type": "execute_result"
    }
   ],
   "source": [
    "df"
   ]
  },
  {
   "cell_type": "code",
   "execution_count": 23,
   "id": "413da2fa-a1de-4905-a7d4-b0309f56cccd",
   "metadata": {},
   "outputs": [
    {
     "name": "stdout",
     "output_type": "stream",
     "text": [
      "<class 'pandas.core.frame.DataFrame'>\n",
      "RangeIndex: 3 entries, 0 to 2\n",
      "Data columns (total 10 columns):\n",
      " #   Column      Non-Null Count  Dtype \n",
      "---  ------      --------------  ----- \n",
      " 0   Name        3 non-null      object\n",
      " 1   Time        3 non-null      object\n",
      " 2   House Addr  3 non-null      object\n",
      " 3   Street      3 non-null      object\n",
      " 4   City        3 non-null      object\n",
      " 5   State       3 non-null      object\n",
      " 6   Zip_code    3 non-null      object\n",
      " 7   Month       3 non-null      int32 \n",
      " 8   Day         3 non-null      int32 \n",
      " 9   Year        3 non-null      int32 \n",
      "dtypes: int32(3), object(7)\n",
      "memory usage: 336.0+ bytes\n"
     ]
    }
   ],
   "source": [
    "df.info()"
   ]
  },
  {
   "cell_type": "code",
   "execution_count": 24,
   "id": "72dc1113-a664-4fff-b939-57e3d79b9e63",
   "metadata": {},
   "outputs": [
    {
     "data": {
      "text/plain": [
       "0    8:45:23\n",
       "1    5:25:21\n",
       "2    5:34:43\n",
       "Name: Time, dtype: object"
      ]
     },
     "execution_count": 24,
     "metadata": {},
     "output_type": "execute_result"
    }
   ],
   "source": [
    "#Shows the data present in the Time column\n",
    "df['Time']"
   ]
  },
  {
   "cell_type": "markdown",
   "id": "99e6d49e-099c-4fb8-b740-ac96e106b687",
   "metadata": {},
   "source": [
    "Time column is in the object dtype format so convert it into datetime format."
   ]
  },
  {
   "cell_type": "code",
   "execution_count": 26,
   "id": "02d806b2-b8a8-44a4-b08c-e82142fa26fb",
   "metadata": {},
   "outputs": [],
   "source": [
    "df['Time'] = pd.to_datetime(df['Time'], format = '%H:%M:%S')"
   ]
  },
  {
   "cell_type": "code",
   "execution_count": 27,
   "id": "d4469f86-be76-4f3d-ac3b-a84cbdc6d4ba",
   "metadata": {},
   "outputs": [
    {
     "data": {
      "text/html": [
       "<div>\n",
       "<style scoped>\n",
       "    .dataframe tbody tr th:only-of-type {\n",
       "        vertical-align: middle;\n",
       "    }\n",
       "\n",
       "    .dataframe tbody tr th {\n",
       "        vertical-align: top;\n",
       "    }\n",
       "\n",
       "    .dataframe thead th {\n",
       "        text-align: right;\n",
       "    }\n",
       "</style>\n",
       "<table border=\"1\" class=\"dataframe\">\n",
       "  <thead>\n",
       "    <tr style=\"text-align: right;\">\n",
       "      <th></th>\n",
       "      <th>Name</th>\n",
       "      <th>Time</th>\n",
       "      <th>House Addr</th>\n",
       "      <th>Street</th>\n",
       "      <th>City</th>\n",
       "      <th>State</th>\n",
       "      <th>Zip_code</th>\n",
       "      <th>Month</th>\n",
       "      <th>Day</th>\n",
       "      <th>Year</th>\n",
       "    </tr>\n",
       "  </thead>\n",
       "  <tbody>\n",
       "    <tr>\n",
       "      <th>0</th>\n",
       "      <td>Lavanya</td>\n",
       "      <td>1900-01-01 08:45:23</td>\n",
       "      <td>78 rd</td>\n",
       "      <td>kenith street</td>\n",
       "      <td>btm</td>\n",
       "      <td>bangalore</td>\n",
       "      <td>500038</td>\n",
       "      <td>4</td>\n",
       "      <td>3</td>\n",
       "      <td>2022</td>\n",
       "    </tr>\n",
       "    <tr>\n",
       "      <th>1</th>\n",
       "      <td>Ramya</td>\n",
       "      <td>1900-01-01 05:25:21</td>\n",
       "      <td>45 rd</td>\n",
       "      <td>maruthi street</td>\n",
       "      <td>hitech</td>\n",
       "      <td>Hyd</td>\n",
       "      <td>500058</td>\n",
       "      <td>6</td>\n",
       "      <td>7</td>\n",
       "      <td>2022</td>\n",
       "    </tr>\n",
       "    <tr>\n",
       "      <th>2</th>\n",
       "      <td>Sudha</td>\n",
       "      <td>1900-01-01 05:34:43</td>\n",
       "      <td>3 rd</td>\n",
       "      <td>royal street</td>\n",
       "      <td>Kondapur</td>\n",
       "      <td>Hyd</td>\n",
       "      <td>500011</td>\n",
       "      <td>8</td>\n",
       "      <td>9</td>\n",
       "      <td>2022</td>\n",
       "    </tr>\n",
       "  </tbody>\n",
       "</table>\n",
       "</div>"
      ],
      "text/plain": [
       "      Name                Time House Addr          Street      City  \\\n",
       "0  Lavanya 1900-01-01 08:45:23      78 rd   kenith street       btm   \n",
       "1    Ramya 1900-01-01 05:25:21      45 rd  maruthi street    hitech   \n",
       "2    Sudha 1900-01-01 05:34:43       3 rd    royal street  Kondapur   \n",
       "\n",
       "       State Zip_code  Month  Day  Year  \n",
       "0  bangalore   500038      4    3  2022  \n",
       "1        Hyd   500058      6    7  2022  \n",
       "2        Hyd   500011      8    9  2022  "
      ]
     },
     "execution_count": 27,
     "metadata": {},
     "output_type": "execute_result"
    }
   ],
   "source": [
    "df"
   ]
  },
  {
   "cell_type": "code",
   "execution_count": 28,
   "id": "60d02717-eb89-456a-ad8d-3418a5a7be4c",
   "metadata": {},
   "outputs": [
    {
     "data": {
      "text/plain": [
       "0    8\n",
       "1    5\n",
       "2    5\n",
       "Name: Time, dtype: int32"
      ]
     },
     "execution_count": 28,
     "metadata": {},
     "output_type": "execute_result"
    }
   ],
   "source": [
    "#Hours extraction\n",
    "df['Time'].dt.hour"
   ]
  },
  {
   "cell_type": "code",
   "execution_count": 29,
   "id": "a372895e-8e5a-4691-8e68-f5d388ba4145",
   "metadata": {},
   "outputs": [
    {
     "data": {
      "text/plain": [
       "0    45\n",
       "1    25\n",
       "2    34\n",
       "Name: Time, dtype: int32"
      ]
     },
     "execution_count": 29,
     "metadata": {},
     "output_type": "execute_result"
    }
   ],
   "source": [
    "#Minutes extraction\n",
    "df['Time'].dt.minute"
   ]
  },
  {
   "cell_type": "code",
   "execution_count": 30,
   "id": "b89239f6-c6fa-43c5-99eb-e4250794369b",
   "metadata": {},
   "outputs": [
    {
     "data": {
      "text/plain": [
       "0    23\n",
       "1    21\n",
       "2    43\n",
       "Name: Time, dtype: int32"
      ]
     },
     "execution_count": 30,
     "metadata": {},
     "output_type": "execute_result"
    }
   ],
   "source": [
    "#Seconds extraction\n",
    "df['Time'].dt.second"
   ]
  },
  {
   "cell_type": "code",
   "execution_count": 31,
   "id": "c6ddfdbb-73e9-495e-a9ed-be66d39d5aea",
   "metadata": {},
   "outputs": [
    {
     "data": {
      "text/html": [
       "<div>\n",
       "<style scoped>\n",
       "    .dataframe tbody tr th:only-of-type {\n",
       "        vertical-align: middle;\n",
       "    }\n",
       "\n",
       "    .dataframe tbody tr th {\n",
       "        vertical-align: top;\n",
       "    }\n",
       "\n",
       "    .dataframe thead th {\n",
       "        text-align: right;\n",
       "    }\n",
       "</style>\n",
       "<table border=\"1\" class=\"dataframe\">\n",
       "  <thead>\n",
       "    <tr style=\"text-align: right;\">\n",
       "      <th></th>\n",
       "      <th>Name</th>\n",
       "      <th>Time</th>\n",
       "      <th>House Addr</th>\n",
       "      <th>Street</th>\n",
       "      <th>City</th>\n",
       "      <th>State</th>\n",
       "      <th>Zip_code</th>\n",
       "      <th>Month</th>\n",
       "      <th>Day</th>\n",
       "      <th>Year</th>\n",
       "      <th>Hour</th>\n",
       "      <th>Minute</th>\n",
       "      <th>Second</th>\n",
       "    </tr>\n",
       "  </thead>\n",
       "  <tbody>\n",
       "    <tr>\n",
       "      <th>0</th>\n",
       "      <td>Lavanya</td>\n",
       "      <td>1900-01-01 08:45:23</td>\n",
       "      <td>78 rd</td>\n",
       "      <td>kenith street</td>\n",
       "      <td>btm</td>\n",
       "      <td>bangalore</td>\n",
       "      <td>500038</td>\n",
       "      <td>4</td>\n",
       "      <td>3</td>\n",
       "      <td>2022</td>\n",
       "      <td>8</td>\n",
       "      <td>45</td>\n",
       "      <td>23</td>\n",
       "    </tr>\n",
       "    <tr>\n",
       "      <th>1</th>\n",
       "      <td>Ramya</td>\n",
       "      <td>1900-01-01 05:25:21</td>\n",
       "      <td>45 rd</td>\n",
       "      <td>maruthi street</td>\n",
       "      <td>hitech</td>\n",
       "      <td>Hyd</td>\n",
       "      <td>500058</td>\n",
       "      <td>6</td>\n",
       "      <td>7</td>\n",
       "      <td>2022</td>\n",
       "      <td>5</td>\n",
       "      <td>25</td>\n",
       "      <td>21</td>\n",
       "    </tr>\n",
       "    <tr>\n",
       "      <th>2</th>\n",
       "      <td>Sudha</td>\n",
       "      <td>1900-01-01 05:34:43</td>\n",
       "      <td>3 rd</td>\n",
       "      <td>royal street</td>\n",
       "      <td>Kondapur</td>\n",
       "      <td>Hyd</td>\n",
       "      <td>500011</td>\n",
       "      <td>8</td>\n",
       "      <td>9</td>\n",
       "      <td>2022</td>\n",
       "      <td>5</td>\n",
       "      <td>34</td>\n",
       "      <td>43</td>\n",
       "    </tr>\n",
       "  </tbody>\n",
       "</table>\n",
       "</div>"
      ],
      "text/plain": [
       "      Name                Time House Addr          Street      City  \\\n",
       "0  Lavanya 1900-01-01 08:45:23      78 rd   kenith street       btm   \n",
       "1    Ramya 1900-01-01 05:25:21      45 rd  maruthi street    hitech   \n",
       "2    Sudha 1900-01-01 05:34:43       3 rd    royal street  Kondapur   \n",
       "\n",
       "       State Zip_code  Month  Day  Year  Hour  Minute  Second  \n",
       "0  bangalore   500038      4    3  2022     8      45      23  \n",
       "1        Hyd   500058      6    7  2022     5      25      21  \n",
       "2        Hyd   500011      8    9  2022     5      34      43  "
      ]
     },
     "execution_count": 31,
     "metadata": {},
     "output_type": "execute_result"
    }
   ],
   "source": [
    "#Splitting the Time column into different components\n",
    "df['Hour'] = df['Time'].dt.hour\n",
    "df['Minute'] = df['Time'].dt.minute\n",
    "df['Second'] = df['Time'].dt.second\n",
    "df"
   ]
  },
  {
   "cell_type": "code",
   "execution_count": 32,
   "id": "6273ad33-1657-4495-9fe6-5a728541f76d",
   "metadata": {},
   "outputs": [],
   "source": [
    "#Dropping the original 'Time' column as its no longer needed\n",
    "df.drop(columns=['Time'], inplace=True)"
   ]
  },
  {
   "cell_type": "code",
   "execution_count": 33,
   "id": "40ed89a0-6419-4d68-8ad4-fb17a0af3126",
   "metadata": {},
   "outputs": [
    {
     "data": {
      "text/html": [
       "<div>\n",
       "<style scoped>\n",
       "    .dataframe tbody tr th:only-of-type {\n",
       "        vertical-align: middle;\n",
       "    }\n",
       "\n",
       "    .dataframe tbody tr th {\n",
       "        vertical-align: top;\n",
       "    }\n",
       "\n",
       "    .dataframe thead th {\n",
       "        text-align: right;\n",
       "    }\n",
       "</style>\n",
       "<table border=\"1\" class=\"dataframe\">\n",
       "  <thead>\n",
       "    <tr style=\"text-align: right;\">\n",
       "      <th></th>\n",
       "      <th>Name</th>\n",
       "      <th>House Addr</th>\n",
       "      <th>Street</th>\n",
       "      <th>City</th>\n",
       "      <th>State</th>\n",
       "      <th>Zip_code</th>\n",
       "      <th>Month</th>\n",
       "      <th>Day</th>\n",
       "      <th>Year</th>\n",
       "      <th>Hour</th>\n",
       "      <th>Minute</th>\n",
       "      <th>Second</th>\n",
       "    </tr>\n",
       "  </thead>\n",
       "  <tbody>\n",
       "    <tr>\n",
       "      <th>0</th>\n",
       "      <td>Lavanya</td>\n",
       "      <td>78 rd</td>\n",
       "      <td>kenith street</td>\n",
       "      <td>btm</td>\n",
       "      <td>bangalore</td>\n",
       "      <td>500038</td>\n",
       "      <td>4</td>\n",
       "      <td>3</td>\n",
       "      <td>2022</td>\n",
       "      <td>8</td>\n",
       "      <td>45</td>\n",
       "      <td>23</td>\n",
       "    </tr>\n",
       "    <tr>\n",
       "      <th>1</th>\n",
       "      <td>Ramya</td>\n",
       "      <td>45 rd</td>\n",
       "      <td>maruthi street</td>\n",
       "      <td>hitech</td>\n",
       "      <td>Hyd</td>\n",
       "      <td>500058</td>\n",
       "      <td>6</td>\n",
       "      <td>7</td>\n",
       "      <td>2022</td>\n",
       "      <td>5</td>\n",
       "      <td>25</td>\n",
       "      <td>21</td>\n",
       "    </tr>\n",
       "    <tr>\n",
       "      <th>2</th>\n",
       "      <td>Sudha</td>\n",
       "      <td>3 rd</td>\n",
       "      <td>royal street</td>\n",
       "      <td>Kondapur</td>\n",
       "      <td>Hyd</td>\n",
       "      <td>500011</td>\n",
       "      <td>8</td>\n",
       "      <td>9</td>\n",
       "      <td>2022</td>\n",
       "      <td>5</td>\n",
       "      <td>34</td>\n",
       "      <td>43</td>\n",
       "    </tr>\n",
       "  </tbody>\n",
       "</table>\n",
       "</div>"
      ],
      "text/plain": [
       "      Name House Addr          Street      City      State Zip_code  Month  \\\n",
       "0  Lavanya      78 rd   kenith street       btm  bangalore   500038      4   \n",
       "1    Ramya      45 rd  maruthi street    hitech        Hyd   500058      6   \n",
       "2    Sudha       3 rd    royal street  Kondapur        Hyd   500011      8   \n",
       "\n",
       "   Day  Year  Hour  Minute  Second  \n",
       "0    3  2022     8      45      23  \n",
       "1    7  2022     5      25      21  \n",
       "2    9  2022     5      34      43  "
      ]
     },
     "execution_count": 33,
     "metadata": {},
     "output_type": "execute_result"
    }
   ],
   "source": [
    "df"
   ]
  },
  {
   "cell_type": "code",
   "execution_count": 34,
   "id": "d282a483-8d4b-4746-b00e-33e36cae28c6",
   "metadata": {},
   "outputs": [
    {
     "data": {
      "text/html": [
       "<div>\n",
       "<style scoped>\n",
       "    .dataframe tbody tr th:only-of-type {\n",
       "        vertical-align: middle;\n",
       "    }\n",
       "\n",
       "    .dataframe tbody tr th {\n",
       "        vertical-align: top;\n",
       "    }\n",
       "\n",
       "    .dataframe thead th {\n",
       "        text-align: right;\n",
       "    }\n",
       "</style>\n",
       "<table border=\"1\" class=\"dataframe\">\n",
       "  <thead>\n",
       "    <tr style=\"text-align: right;\">\n",
       "      <th></th>\n",
       "      <th>House Addr</th>\n",
       "      <th>Street</th>\n",
       "      <th>City</th>\n",
       "      <th>State</th>\n",
       "      <th>Zip_code</th>\n",
       "      <th>Name</th>\n",
       "      <th>Month</th>\n",
       "      <th>Day</th>\n",
       "      <th>Year</th>\n",
       "      <th>Hour</th>\n",
       "      <th>Minute</th>\n",
       "      <th>Second</th>\n",
       "    </tr>\n",
       "  </thead>\n",
       "  <tbody>\n",
       "    <tr>\n",
       "      <th>0</th>\n",
       "      <td>78 rd</td>\n",
       "      <td>kenith street</td>\n",
       "      <td>btm</td>\n",
       "      <td>bangalore</td>\n",
       "      <td>500038</td>\n",
       "      <td>Lavanya</td>\n",
       "      <td>4</td>\n",
       "      <td>3</td>\n",
       "      <td>2022</td>\n",
       "      <td>8</td>\n",
       "      <td>45</td>\n",
       "      <td>23</td>\n",
       "    </tr>\n",
       "    <tr>\n",
       "      <th>1</th>\n",
       "      <td>45 rd</td>\n",
       "      <td>maruthi street</td>\n",
       "      <td>hitech</td>\n",
       "      <td>Hyd</td>\n",
       "      <td>500058</td>\n",
       "      <td>Ramya</td>\n",
       "      <td>6</td>\n",
       "      <td>7</td>\n",
       "      <td>2022</td>\n",
       "      <td>5</td>\n",
       "      <td>25</td>\n",
       "      <td>21</td>\n",
       "    </tr>\n",
       "    <tr>\n",
       "      <th>2</th>\n",
       "      <td>3 rd</td>\n",
       "      <td>royal street</td>\n",
       "      <td>Kondapur</td>\n",
       "      <td>Hyd</td>\n",
       "      <td>500011</td>\n",
       "      <td>Sudha</td>\n",
       "      <td>8</td>\n",
       "      <td>9</td>\n",
       "      <td>2022</td>\n",
       "      <td>5</td>\n",
       "      <td>34</td>\n",
       "      <td>43</td>\n",
       "    </tr>\n",
       "  </tbody>\n",
       "</table>\n",
       "</div>"
      ],
      "text/plain": [
       "  House Addr          Street      City      State Zip_code     Name  Month  \\\n",
       "0      78 rd   kenith street       btm  bangalore   500038  Lavanya      4   \n",
       "1      45 rd  maruthi street    hitech        Hyd   500058    Ramya      6   \n",
       "2       3 rd    royal street  Kondapur        Hyd   500011    Sudha      8   \n",
       "\n",
       "   Day  Year  Hour  Minute  Second  \n",
       "0    3  2022     8      45      23  \n",
       "1    7  2022     5      25      21  \n",
       "2    9  2022     5      34      43  "
      ]
     },
     "execution_count": 34,
     "metadata": {},
     "output_type": "execute_result"
    }
   ],
   "source": [
    "# Moving 'name' column to be after 'zip-code'\n",
    "cols = ['House Addr', 'Street', 'City', 'State', 'Zip_code', 'Name', 'Month', 'Day', 'Year', 'Hour', 'Minute', 'Second']\n",
    "df = df[cols]\n",
    "df"
   ]
  },
  {
   "cell_type": "code",
   "execution_count": 35,
   "id": "3d561664-cae0-4cc3-beea-4ca1db953d4d",
   "metadata": {},
   "outputs": [],
   "source": [
    "# Optionally, you can save the cleaned DataFrame to a new Excel file\n",
    "df.to_excel(r'D:\\Sample Datasets\\Cleaned_Data.xlsx', index=False)"
   ]
  },
  {
   "cell_type": "code",
   "execution_count": null,
   "id": "8ef3153d-4edb-47b2-afdb-bcd777096d80",
   "metadata": {},
   "outputs": [],
   "source": []
  },
  {
   "cell_type": "code",
   "execution_count": null,
   "id": "ce880fa6-33a0-4dfd-bd67-961176482b48",
   "metadata": {},
   "outputs": [],
   "source": []
  },
  {
   "cell_type": "code",
   "execution_count": null,
   "id": "f7377994-be83-4e24-9a54-d85f8cf232a8",
   "metadata": {},
   "outputs": [],
   "source": []
  },
  {
   "cell_type": "code",
   "execution_count": null,
   "id": "ac42038e-7dac-44d3-bf87-78945609f926",
   "metadata": {},
   "outputs": [],
   "source": []
  },
  {
   "cell_type": "code",
   "execution_count": null,
   "id": "c4474e28-d2b5-4ad6-8678-89d35fd6f0a9",
   "metadata": {},
   "outputs": [],
   "source": []
  }
 ],
 "metadata": {
  "kernelspec": {
   "display_name": "Python 3 (ipykernel)",
   "language": "python",
   "name": "python3"
  },
  "language_info": {
   "codemirror_mode": {
    "name": "ipython",
    "version": 3
   },
   "file_extension": ".py",
   "mimetype": "text/x-python",
   "name": "python",
   "nbconvert_exporter": "python",
   "pygments_lexer": "ipython3",
   "version": "3.12.4"
  }
 },
 "nbformat": 4,
 "nbformat_minor": 5
}
