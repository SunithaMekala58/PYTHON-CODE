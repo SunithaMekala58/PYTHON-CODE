{
 "cells": [
  {
   "cell_type": "markdown",
   "id": "e6cfb225-a995-4663-9a4f-c37c87906307",
   "metadata": {},
   "source": [
    "# Iterating"
   ]
  },
  {
   "cell_type": "code",
   "execution_count": 2,
   "id": "8931f795-bf1e-4d0e-8231-e94eaf7edca3",
   "metadata": {},
   "outputs": [],
   "source": [
    "import numpy as np\n",
    "p1 = np.arange(10)\n",
    "p2 = np.arange(12).reshape(3,4)\n",
    "p3 = np.arange(27).reshape(3,3,3) "
   ]
  },
  {
   "cell_type": "code",
   "execution_count": 3,
   "id": "c58e8f7c-d611-4056-bc78-a36c900accc5",
   "metadata": {},
   "outputs": [
    {
     "data": {
      "text/plain": [
       "array([0, 1, 2, 3, 4, 5, 6, 7, 8, 9])"
      ]
     },
     "execution_count": 3,
     "metadata": {},
     "output_type": "execute_result"
    }
   ],
   "source": [
    "p1"
   ]
  },
  {
   "cell_type": "code",
   "execution_count": 4,
   "id": "ad41c9a9-981a-433b-aa5e-49686cdeadf8",
   "metadata": {},
   "outputs": [
    {
     "data": {
      "text/plain": [
       "array([[ 0,  1,  2,  3],\n",
       "       [ 4,  5,  6,  7],\n",
       "       [ 8,  9, 10, 11]])"
      ]
     },
     "execution_count": 4,
     "metadata": {},
     "output_type": "execute_result"
    }
   ],
   "source": [
    "p2"
   ]
  },
  {
   "cell_type": "code",
   "execution_count": 5,
   "id": "ea8dad3b-6321-490a-aad4-719a6fbaebcb",
   "metadata": {},
   "outputs": [
    {
     "data": {
      "text/plain": [
       "array([[[ 0,  1,  2],\n",
       "        [ 3,  4,  5],\n",
       "        [ 6,  7,  8]],\n",
       "\n",
       "       [[ 9, 10, 11],\n",
       "        [12, 13, 14],\n",
       "        [15, 16, 17]],\n",
       "\n",
       "       [[18, 19, 20],\n",
       "        [21, 22, 23],\n",
       "        [24, 25, 26]]])"
      ]
     },
     "execution_count": 5,
     "metadata": {},
     "output_type": "execute_result"
    }
   ],
   "source": [
    "p3"
   ]
  },
  {
   "cell_type": "code",
   "execution_count": 6,
   "id": "17317173-e486-4795-8f75-b1544666d6d3",
   "metadata": {},
   "outputs": [
    {
     "data": {
      "text/plain": [
       "array([0, 1, 2, 3, 4, 5, 6, 7, 8, 9])"
      ]
     },
     "execution_count": 6,
     "metadata": {},
     "output_type": "execute_result"
    }
   ],
   "source": [
    "p1"
   ]
  },
  {
   "cell_type": "code",
   "execution_count": 7,
   "id": "07d45b1a-7107-4493-9187-d3184048f865",
   "metadata": {},
   "outputs": [
    {
     "name": "stdout",
     "output_type": "stream",
     "text": [
      "0\n",
      "1\n",
      "2\n",
      "3\n",
      "4\n",
      "5\n",
      "6\n",
      "7\n",
      "8\n",
      "9\n"
     ]
    }
   ],
   "source": [
    "#Looping on 1D array\n",
    "for i in p1:\n",
    "    print(i)"
   ]
  },
  {
   "cell_type": "code",
   "execution_count": 8,
   "id": "7bfbfa5c-8b9b-49dc-92d3-7a88e39cf4e5",
   "metadata": {},
   "outputs": [
    {
     "data": {
      "text/plain": [
       "array([[ 0,  1,  2,  3],\n",
       "       [ 4,  5,  6,  7],\n",
       "       [ 8,  9, 10, 11]])"
      ]
     },
     "execution_count": 8,
     "metadata": {},
     "output_type": "execute_result"
    }
   ],
   "source": [
    "p2"
   ]
  },
  {
   "cell_type": "code",
   "execution_count": 9,
   "id": "6c33a545-5ca2-4f8d-bf48-f727da7f321d",
   "metadata": {},
   "outputs": [
    {
     "name": "stdout",
     "output_type": "stream",
     "text": [
      "[0 1 2 3]\n",
      "[4 5 6 7]\n",
      "[ 8  9 10 11]\n"
     ]
    }
   ],
   "source": [
    "#looping on 2D array\n",
    "for i in p2:\n",
    "    print(i) #prints rows"
   ]
  },
  {
   "cell_type": "code",
   "execution_count": 10,
   "id": "aa3ffa28-7802-4ca4-8cd9-bcd027799a1c",
   "metadata": {},
   "outputs": [
    {
     "data": {
      "text/plain": [
       "array([[[ 0,  1,  2],\n",
       "        [ 3,  4,  5],\n",
       "        [ 6,  7,  8]],\n",
       "\n",
       "       [[ 9, 10, 11],\n",
       "        [12, 13, 14],\n",
       "        [15, 16, 17]],\n",
       "\n",
       "       [[18, 19, 20],\n",
       "        [21, 22, 23],\n",
       "        [24, 25, 26]]])"
      ]
     },
     "execution_count": 10,
     "metadata": {},
     "output_type": "execute_result"
    }
   ],
   "source": [
    "p3"
   ]
  },
  {
   "cell_type": "code",
   "execution_count": 11,
   "id": "25ba7d5b-ba8d-4deb-bb3c-6499fc169f45",
   "metadata": {},
   "outputs": [
    {
     "name": "stdout",
     "output_type": "stream",
     "text": [
      "[[0 1 2]\n",
      " [3 4 5]\n",
      " [6 7 8]]\n",
      "[[ 9 10 11]\n",
      " [12 13 14]\n",
      " [15 16 17]]\n",
      "[[18 19 20]\n",
      " [21 22 23]\n",
      " [24 25 26]]\n"
     ]
    }
   ],
   "source": [
    "for i in p3:\n",
    "    print(i) #prints columns"
   ]
  },
  {
   "cell_type": "markdown",
   "id": "5bc38795-2993-4dd4-b0e3-539445a65597",
   "metadata": {},
   "source": [
    "Printing all items in 3D using nditer ---> first we convert into 1D and apply loop"
   ]
  },
  {
   "cell_type": "code",
   "execution_count": 59,
   "id": "30dc41f0-cc71-4ed9-b472-7db5fa5ded3c",
   "metadata": {},
   "outputs": [
    {
     "name": "stdout",
     "output_type": "stream",
     "text": [
      "0\n",
      "1\n",
      "2\n",
      "3\n",
      "4\n",
      "5\n",
      "6\n",
      "7\n",
      "8\n",
      "9\n",
      "10\n",
      "11\n",
      "12\n",
      "13\n",
      "14\n",
      "15\n",
      "16\n",
      "17\n",
      "18\n",
      "19\n",
      "20\n",
      "21\n",
      "22\n",
      "23\n",
      "24\n",
      "25\n",
      "26\n"
     ]
    }
   ],
   "source": [
    "for i in np.nditer(p3):\n",
    "    print(i)"
   ]
  },
  {
   "cell_type": "markdown",
   "id": "8c64c8e4-83a0-4248-951f-f283a1407818",
   "metadata": {},
   "source": [
    "# Reshaping"
   ]
  },
  {
   "cell_type": "markdown",
   "id": "b506a0c2-3dc7-4fd0-a050-9da6b57d712b",
   "metadata": {},
   "source": [
    "__Transpose__ -- Converts rows into columns and columns into rows\n"
   ]
  },
  {
   "cell_type": "code",
   "execution_count": 65,
   "id": "615e64c5-0173-4d5f-bf42-9e32835e3e52",
   "metadata": {},
   "outputs": [
    {
     "data": {
      "text/plain": [
       "array([[ 0,  1,  2,  3],\n",
       "       [ 4,  5,  6,  7],\n",
       "       [ 8,  9, 10, 11]])"
      ]
     },
     "execution_count": 65,
     "metadata": {},
     "output_type": "execute_result"
    }
   ],
   "source": [
    "p2"
   ]
  },
  {
   "cell_type": "code",
   "execution_count": 67,
   "id": "8eb852b7-79f8-4d8b-b201-5d3cc9cf394f",
   "metadata": {},
   "outputs": [
    {
     "data": {
      "text/plain": [
       "array([[ 0,  4,  8],\n",
       "       [ 1,  5,  9],\n",
       "       [ 2,  6, 10],\n",
       "       [ 3,  7, 11]])"
      ]
     },
     "execution_count": 67,
     "metadata": {},
     "output_type": "execute_result"
    }
   ],
   "source": [
    "np.transpose(p2)"
   ]
  },
  {
   "cell_type": "code",
   "execution_count": 69,
   "id": "d04525e8-70e7-4844-802e-7a304c904572",
   "metadata": {},
   "outputs": [
    {
     "data": {
      "text/plain": [
       "array([[ 0,  4,  8],\n",
       "       [ 1,  5,  9],\n",
       "       [ 2,  6, 10],\n",
       "       [ 3,  7, 11]])"
      ]
     },
     "execution_count": 69,
     "metadata": {},
     "output_type": "execute_result"
    }
   ],
   "source": [
    "#Another method\n",
    "p2.T"
   ]
  },
  {
   "cell_type": "code",
   "execution_count": 71,
   "id": "290a258c-e7a1-48ea-baa5-6281e54865a3",
   "metadata": {},
   "outputs": [
    {
     "data": {
      "text/plain": [
       "array([[[ 0,  1,  2],\n",
       "        [ 3,  4,  5],\n",
       "        [ 6,  7,  8]],\n",
       "\n",
       "       [[ 9, 10, 11],\n",
       "        [12, 13, 14],\n",
       "        [15, 16, 17]],\n",
       "\n",
       "       [[18, 19, 20],\n",
       "        [21, 22, 23],\n",
       "        [24, 25, 26]]])"
      ]
     },
     "execution_count": 71,
     "metadata": {},
     "output_type": "execute_result"
    }
   ],
   "source": [
    "p3"
   ]
  },
  {
   "cell_type": "code",
   "execution_count": 73,
   "id": "2d93747c-9ac5-46f4-ac44-ae952d4c4ea0",
   "metadata": {},
   "outputs": [
    {
     "data": {
      "text/plain": [
       "array([[[ 0,  9, 18],\n",
       "        [ 3, 12, 21],\n",
       "        [ 6, 15, 24]],\n",
       "\n",
       "       [[ 1, 10, 19],\n",
       "        [ 4, 13, 22],\n",
       "        [ 7, 16, 25]],\n",
       "\n",
       "       [[ 2, 11, 20],\n",
       "        [ 5, 14, 23],\n",
       "        [ 8, 17, 26]]])"
      ]
     },
     "execution_count": 73,
     "metadata": {},
     "output_type": "execute_result"
    }
   ],
   "source": [
    "p3.T"
   ]
  },
  {
   "cell_type": "markdown",
   "id": "728f054d-04e3-4ef6-bece-6c2d4abdbeda",
   "metadata": {},
   "source": [
    "# Ravel\n",
    "Converting any dimensions to 1D"
   ]
  },
  {
   "cell_type": "code",
   "execution_count": 77,
   "id": "fafdf9f5-8270-4d40-bf95-787017da5f6a",
   "metadata": {},
   "outputs": [
    {
     "data": {
      "text/plain": [
       "array([[ 0,  1,  2,  3],\n",
       "       [ 4,  5,  6,  7],\n",
       "       [ 8,  9, 10, 11]])"
      ]
     },
     "execution_count": 77,
     "metadata": {},
     "output_type": "execute_result"
    }
   ],
   "source": [
    "p2"
   ]
  },
  {
   "cell_type": "code",
   "execution_count": 83,
   "id": "2b1331d6-ac7e-457f-bd54-b88aaa95689a",
   "metadata": {},
   "outputs": [
    {
     "data": {
      "text/plain": [
       "array([ 0,  1,  2,  3,  4,  5,  6,  7,  8,  9, 10, 11])"
      ]
     },
     "execution_count": 83,
     "metadata": {},
     "output_type": "execute_result"
    }
   ],
   "source": [
    "p2.ravel()"
   ]
  },
  {
   "cell_type": "code",
   "execution_count": 85,
   "id": "6be0d5ae-6a84-4535-b037-642f5d7aabbf",
   "metadata": {},
   "outputs": [
    {
     "data": {
      "text/plain": [
       "array([[[ 0,  1,  2],\n",
       "        [ 3,  4,  5],\n",
       "        [ 6,  7,  8]],\n",
       "\n",
       "       [[ 9, 10, 11],\n",
       "        [12, 13, 14],\n",
       "        [15, 16, 17]],\n",
       "\n",
       "       [[18, 19, 20],\n",
       "        [21, 22, 23],\n",
       "        [24, 25, 26]]])"
      ]
     },
     "execution_count": 85,
     "metadata": {},
     "output_type": "execute_result"
    }
   ],
   "source": [
    "p3"
   ]
  },
  {
   "cell_type": "code",
   "execution_count": 87,
   "id": "3065f449-2dbd-4366-b6bb-c57e1a19b3f7",
   "metadata": {},
   "outputs": [
    {
     "data": {
      "text/plain": [
       "array([ 0,  1,  2,  3,  4,  5,  6,  7,  8,  9, 10, 11, 12, 13, 14, 15, 16,\n",
       "       17, 18, 19, 20, 21, 22, 23, 24, 25, 26])"
      ]
     },
     "execution_count": 87,
     "metadata": {},
     "output_type": "execute_result"
    }
   ],
   "source": [
    "p3.ravel()"
   ]
  },
  {
   "cell_type": "markdown",
   "id": "5bf959eb-a756-440e-a543-468e8f05b768",
   "metadata": {},
   "source": [
    "# Stacking\n",
    "Stacking is the concept of joining arrays in NumPy. Arrays having the same dimensions can be stacked."
   ]
  },
  {
   "cell_type": "code",
   "execution_count": 90,
   "id": "9dde4dbc-03eb-4639-91df-3cb16979b898",
   "metadata": {},
   "outputs": [],
   "source": [
    "#Horizontal Stacking\n",
    "\n",
    "w1 = np.arange(12).reshape(3,4)\n",
    "w2 = np.arange(12,24).reshape(3,4)"
   ]
  },
  {
   "cell_type": "code",
   "execution_count": 92,
   "id": "e5d59078-c4f7-47be-abf2-7edbbf85b9c4",
   "metadata": {},
   "outputs": [
    {
     "data": {
      "text/plain": [
       "array([[ 0,  1,  2,  3],\n",
       "       [ 4,  5,  6,  7],\n",
       "       [ 8,  9, 10, 11]])"
      ]
     },
     "execution_count": 92,
     "metadata": {},
     "output_type": "execute_result"
    }
   ],
   "source": [
    "w1"
   ]
  },
  {
   "cell_type": "code",
   "execution_count": 94,
   "id": "fbc0a429-e7ea-41e3-ac7a-2091aeaa5a23",
   "metadata": {},
   "outputs": [
    {
     "data": {
      "text/plain": [
       "array([[12, 13, 14, 15],\n",
       "       [16, 17, 18, 19],\n",
       "       [20, 21, 22, 23]])"
      ]
     },
     "execution_count": 94,
     "metadata": {},
     "output_type": "execute_result"
    }
   ],
   "source": [
    "w2"
   ]
  },
  {
   "cell_type": "markdown",
   "id": "84588abf-adab-41b8-8ca6-fdf0fcc93836",
   "metadata": {},
   "source": [
    "Use __hstack__ for horizontal stacking"
   ]
  },
  {
   "cell_type": "code",
   "execution_count": 98,
   "id": "017bf763-416c-4dbc-8fe2-def70b0b2299",
   "metadata": {},
   "outputs": [
    {
     "data": {
      "text/plain": [
       "array([[ 0,  1,  2,  3, 12, 13, 14, 15],\n",
       "       [ 4,  5,  6,  7, 16, 17, 18, 19],\n",
       "       [ 8,  9, 10, 11, 20, 21, 22, 23]])"
      ]
     },
     "execution_count": 98,
     "metadata": {},
     "output_type": "execute_result"
    }
   ],
   "source": [
    "np.hstack((w1,w2))"
   ]
  },
  {
   "cell_type": "code",
   "execution_count": 103,
   "id": "a44a469f-c944-4a9f-aca3-740c8053c971",
   "metadata": {},
   "outputs": [
    {
     "data": {
      "text/plain": [
       "array([[ 0,  1,  2,  3],\n",
       "       [ 4,  5,  6,  7],\n",
       "       [ 8,  9, 10, 11]])"
      ]
     },
     "execution_count": 103,
     "metadata": {},
     "output_type": "execute_result"
    }
   ],
   "source": [
    "w1"
   ]
  },
  {
   "cell_type": "code",
   "execution_count": 105,
   "id": "8156003f-39d7-471e-ac81-dd9566a42b48",
   "metadata": {},
   "outputs": [
    {
     "data": {
      "text/plain": [
       "array([[12, 13, 14, 15],\n",
       "       [16, 17, 18, 19],\n",
       "       [20, 21, 22, 23]])"
      ]
     },
     "execution_count": 105,
     "metadata": {},
     "output_type": "execute_result"
    }
   ],
   "source": [
    "w2"
   ]
  },
  {
   "cell_type": "markdown",
   "id": "bad5faf4-755e-4c09-8b60-b458f5a0c8d7",
   "metadata": {},
   "source": [
    "Use **vstack** for vertical stacking"
   ]
  },
  {
   "cell_type": "code",
   "execution_count": 101,
   "id": "2fc080a3-7774-406d-b73b-16ed4f11ff83",
   "metadata": {},
   "outputs": [
    {
     "data": {
      "text/plain": [
       "array([[ 0,  1,  2,  3],\n",
       "       [ 4,  5,  6,  7],\n",
       "       [ 8,  9, 10, 11],\n",
       "       [12, 13, 14, 15],\n",
       "       [16, 17, 18, 19],\n",
       "       [20, 21, 22, 23]])"
      ]
     },
     "execution_count": 101,
     "metadata": {},
     "output_type": "execute_result"
    }
   ],
   "source": [
    "#Vertcial stacking\n",
    "np.vstack((w1,w2))"
   ]
  },
  {
   "cell_type": "markdown",
   "id": "bfd7b19e-d444-4af5-ac71-c2f59600c56a",
   "metadata": {},
   "source": [
    "# Splitting\n",
    "Splitting is opposite of stacking"
   ]
  },
  {
   "cell_type": "code",
   "execution_count": 109,
   "id": "cb1e1955-2c93-4c8c-90bc-e2fb19d7a25f",
   "metadata": {},
   "outputs": [
    {
     "data": {
      "text/plain": [
       "array([[ 0,  1,  2,  3],\n",
       "       [ 4,  5,  6,  7],\n",
       "       [ 8,  9, 10, 11]])"
      ]
     },
     "execution_count": 109,
     "metadata": {},
     "output_type": "execute_result"
    }
   ],
   "source": [
    "# Horizontal splitting\n",
    "w1"
   ]
  },
  {
   "cell_type": "code",
   "execution_count": 115,
   "id": "b21a10ea-e52d-4117-8e88-e5b203809657",
   "metadata": {},
   "outputs": [
    {
     "data": {
      "text/plain": [
       "[array([[0, 1],\n",
       "        [4, 5],\n",
       "        [8, 9]]),\n",
       " array([[ 2,  3],\n",
       "        [ 6,  7],\n",
       "        [10, 11]])]"
      ]
     },
     "execution_count": 115,
     "metadata": {},
     "output_type": "execute_result"
    }
   ],
   "source": [
    "np.hsplit(w1,2) #splitting by 2"
   ]
  },
  {
   "cell_type": "code",
   "execution_count": 123,
   "id": "bedb29f9-9e6d-4a31-8b76-a517e0fefa02",
   "metadata": {},
   "outputs": [
    {
     "data": {
      "text/plain": [
       "[array([[0],\n",
       "        [4],\n",
       "        [8]]),\n",
       " array([[1],\n",
       "        [5],\n",
       "        [9]]),\n",
       " array([[ 2],\n",
       "        [ 6],\n",
       "        [10]]),\n",
       " array([[ 3],\n",
       "        [ 7],\n",
       "        [11]])]"
      ]
     },
     "execution_count": 123,
     "metadata": {},
     "output_type": "execute_result"
    }
   ],
   "source": [
    "np.hsplit(w1,4)"
   ]
  },
  {
   "cell_type": "code",
   "execution_count": 125,
   "id": "d7b340b1-40fd-4d40-a797-154767add433",
   "metadata": {},
   "outputs": [
    {
     "data": {
      "text/plain": [
       "array([[12, 13, 14, 15],\n",
       "       [16, 17, 18, 19],\n",
       "       [20, 21, 22, 23]])"
      ]
     },
     "execution_count": 125,
     "metadata": {},
     "output_type": "execute_result"
    }
   ],
   "source": [
    "#Vertical splitting\n",
    "w2"
   ]
  },
  {
   "cell_type": "code",
   "execution_count": 137,
   "id": "79e79417-e5e7-4c4e-b58a-32b0fd7c44c8",
   "metadata": {},
   "outputs": [
    {
     "data": {
      "text/plain": [
       "[array([[12, 13, 14, 15]]),\n",
       " array([[16, 17, 18, 19]]),\n",
       " array([[20, 21, 22, 23]])]"
      ]
     },
     "execution_count": 137,
     "metadata": {},
     "output_type": "execute_result"
    }
   ],
   "source": [
    "np.vsplit(w2,3) #splitting into 3 rows"
   ]
  },
  {
   "cell_type": "code",
   "execution_count": 141,
   "id": "b9755498-41e9-4245-b9e9-6e665039176e",
   "metadata": {},
   "outputs": [
    {
     "data": {
      "text/plain": [
       "[array([[0, 1, 2, 3]]), array([[4, 5, 6, 7]]), array([[ 8,  9, 10, 11]])]"
      ]
     },
     "execution_count": 141,
     "metadata": {},
     "output_type": "execute_result"
    }
   ],
   "source": [
    "np.vsplit(w1,3)"
   ]
  },
  {
   "cell_type": "code",
   "execution_count": null,
   "id": "bd006f07-c144-412a-9867-48045d41063d",
   "metadata": {},
   "outputs": [],
   "source": []
  },
  {
   "cell_type": "code",
   "execution_count": null,
   "id": "7e022112-30ef-4233-bcf1-57abed12a837",
   "metadata": {},
   "outputs": [],
   "source": []
  },
  {
   "cell_type": "code",
   "execution_count": null,
   "id": "e9212078-fe6d-49b5-b416-c6c31aa96eeb",
   "metadata": {},
   "outputs": [],
   "source": []
  },
  {
   "cell_type": "code",
   "execution_count": null,
   "id": "11db35ec-f9a3-413c-8884-39b261699e86",
   "metadata": {},
   "outputs": [],
   "source": []
  },
  {
   "cell_type": "code",
   "execution_count": null,
   "id": "835a401e-644e-4b2c-9a65-9149c48b9fff",
   "metadata": {},
   "outputs": [],
   "source": []
  },
  {
   "cell_type": "code",
   "execution_count": null,
   "id": "538eee9b-713c-4a7f-9d0f-01041bd252c7",
   "metadata": {},
   "outputs": [],
   "source": []
  },
  {
   "cell_type": "code",
   "execution_count": null,
   "id": "9b51e298-bca7-4361-a30d-7a6526d3f166",
   "metadata": {},
   "outputs": [],
   "source": []
  }
 ],
 "metadata": {
  "kernelspec": {
   "display_name": "Python 3 (ipykernel)",
   "language": "python",
   "name": "python3"
  },
  "language_info": {
   "codemirror_mode": {
    "name": "ipython",
    "version": 3
   },
   "file_extension": ".py",
   "mimetype": "text/x-python",
   "name": "python",
   "nbconvert_exporter": "python",
   "pygments_lexer": "ipython3",
   "version": "3.12.4"
  }
 },
 "nbformat": 4,
 "nbformat_minor": 5
}
