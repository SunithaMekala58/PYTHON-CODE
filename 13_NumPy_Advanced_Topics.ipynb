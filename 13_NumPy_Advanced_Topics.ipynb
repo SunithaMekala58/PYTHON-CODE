{
 "cells": [
  {
   "cell_type": "markdown",
   "id": "3bde1b73-9653-4b59-b45c-299be1107095",
   "metadata": {},
   "source": [
    "# Numpy Arrays Vs Python Sequences\n"
   ]
  },
  {
   "cell_type": "markdown",
   "id": "a08b9b71-8b69-4818-92e1-2f231875701f",
   "metadata": {},
   "source": [
    "__Speed of List Vs Numpy__"
   ]
  },
  {
   "cell_type": "markdown",
   "id": "bedea1ad-895f-4984-b7bd-43f1438a51af",
   "metadata": {},
   "source": [
    "__List__"
   ]
  },
  {
   "cell_type": "code",
   "execution_count": 4,
   "id": "ca4b99f7-6685-4ade-8778-8211e5c7321f",
   "metadata": {},
   "outputs": [
    {
     "name": "stdout",
     "output_type": "stream",
     "text": [
      "3.2112300395965576\n"
     ]
    }
   ],
   "source": [
    "# Element-wise addition\n",
    "\n",
    "a = [i for i in range(10000000)]\n",
    "b = [i for i in range(10000000,20000000)]\n",
    "\n",
    "c = []\n",
    "\n",
    "import time\n",
    "\n",
    "start = time.time()\n",
    "for i in range(len(a)):\n",
    "    c.append(a[i]+b[i])\n",
    "\n",
    "print(time.time()-start)\n"
   ]
  },
  {
   "cell_type": "markdown",
   "id": "e1192661-a15c-4c5c-8887-747f44ee7d0c",
   "metadata": {},
   "source": [
    "__Numpy__"
   ]
  },
  {
   "cell_type": "code",
   "execution_count": 6,
   "id": "8901ea5c-cdf9-4e27-9b46-caf55736bd7e",
   "metadata": {},
   "outputs": [
    {
     "name": "stdout",
     "output_type": "stream",
     "text": [
      "0.45593976974487305\n"
     ]
    }
   ],
   "source": [
    "import numpy as np\n",
    "\n",
    "a = np.arange(10000000)\n",
    "b = np.arange(10000000,20000000)\n",
    "\n",
    "start = time.time()\n",
    "c = a + b\n",
    "print(time.time()-start)\n"
   ]
  },
  {
   "cell_type": "code",
   "execution_count": 7,
   "id": "7f6c56ea-ef6d-4112-abfd-4778e72e91a0",
   "metadata": {},
   "outputs": [
    {
     "data": {
      "text/plain": [
       "120.35911871666826"
      ]
     },
     "execution_count": 7,
     "metadata": {},
     "output_type": "execute_result"
    }
   ],
   "source": [
    "2.7065064907073975 / 0.02248692512512207"
   ]
  },
  {
   "cell_type": "markdown",
   "id": "03de3c28-afa7-4da6-bebe-6c4a04baf409",
   "metadata": {},
   "source": [
    "#Memory used for List Vs Numpy\n",
    "\n",
    "\n",
    "__List__"
   ]
  },
  {
   "cell_type": "code",
   "execution_count": 9,
   "id": "24cd6d6a-03e5-47d2-ace0-cc358ed7cc6c",
   "metadata": {},
   "outputs": [
    {
     "data": {
      "text/plain": [
       "89095160"
      ]
     },
     "execution_count": 9,
     "metadata": {},
     "output_type": "execute_result"
    }
   ],
   "source": [
    "P = [i for i in range(10000000)]\n",
    "\n",
    "import sys\n",
    "\n",
    "sys.getsizeof(P)"
   ]
  },
  {
   "cell_type": "markdown",
   "id": "4095c678-66bb-4f22-91d2-0be2985e2a74",
   "metadata": {},
   "source": [
    "__Numpy__"
   ]
  },
  {
   "cell_type": "code",
   "execution_count": 11,
   "id": "d71c8780-9d6f-4ba8-b029-845a68c004ad",
   "metadata": {},
   "outputs": [
    {
     "data": {
      "text/plain": [
       "40000112"
      ]
     },
     "execution_count": 11,
     "metadata": {},
     "output_type": "execute_result"
    }
   ],
   "source": [
    "R = np.arange(10000000)\n",
    "\n",
    "sys.getsizeof(R)"
   ]
  },
  {
   "cell_type": "code",
   "execution_count": 12,
   "id": "12243b29-a544-44e3-a932-14af1016612f",
   "metadata": {},
   "outputs": [
    {
     "data": {
      "text/plain": [
       "20000112"
      ]
     },
     "execution_count": 12,
     "metadata": {},
     "output_type": "execute_result"
    }
   ],
   "source": [
    "# we can decrease more in numpy\n",
    "\n",
    "R = np.arange(10000000,dtype = np.int16)\n",
    "\n",
    "sys.getsizeof(R)"
   ]
  },
  {
   "cell_type": "markdown",
   "id": "8dbd6303-0eaa-48ef-ae1a-31712bbb4ce4",
   "metadata": {},
   "source": [
    "# Advance Indexing and Slicing"
   ]
  },
  {
   "cell_type": "code",
   "execution_count": 14,
   "id": "570a5f42-c5dc-4740-b802-576514e93417",
   "metadata": {},
   "outputs": [
    {
     "data": {
      "text/plain": [
       "array([[ 0,  1,  2],\n",
       "       [ 3,  4,  5],\n",
       "       [ 6,  7,  8],\n",
       "       [ 9, 10, 11]])"
      ]
     },
     "execution_count": 14,
     "metadata": {},
     "output_type": "execute_result"
    }
   ],
   "source": [
    "# Normal indexing and Slicing\n",
    "\n",
    "w = np.arange(12).reshape(4,3)\n",
    "w"
   ]
  },
  {
   "cell_type": "code",
   "execution_count": 15,
   "id": "cec71cbf-dc4e-48cc-8fef-715d886f2ce1",
   "metadata": {},
   "outputs": [
    {
     "data": {
      "text/plain": [
       "5"
      ]
     },
     "execution_count": 15,
     "metadata": {},
     "output_type": "execute_result"
    }
   ],
   "source": [
    "#Fetching 5 from array\n",
    "w[1,2]"
   ]
  },
  {
   "cell_type": "code",
   "execution_count": 16,
   "id": "edce0fa3-1cf6-45d6-aa45-8ad76d6c60be",
   "metadata": {},
   "outputs": [
    {
     "data": {
      "text/plain": [
       "array([[3, 4, 5],\n",
       "       [6, 7, 8]])"
      ]
     },
     "execution_count": 16,
     "metadata": {},
     "output_type": "execute_result"
    }
   ],
   "source": [
    "#Fetching 4,5,7,8\n",
    "w[1:3]"
   ]
  },
  {
   "cell_type": "code",
   "execution_count": 17,
   "id": "7f8ba2a9-f41f-48cd-9005-703171ff2b54",
   "metadata": {},
   "outputs": [
    {
     "data": {
      "text/plain": [
       "array([[4, 5],\n",
       "       [7, 8]])"
      ]
     },
     "execution_count": 17,
     "metadata": {},
     "output_type": "execute_result"
    }
   ],
   "source": [
    "w[1:3,1:3]"
   ]
  },
  {
   "cell_type": "markdown",
   "id": "693a84f4-1fa8-4e27-a482-60e92e6125c9",
   "metadata": {},
   "source": [
    "# Fancy Indexing"
   ]
  },
  {
   "cell_type": "markdown",
   "id": "eb00d7ce-0a78-4668-9075-7fbcb566107b",
   "metadata": {},
   "source": [
    "Fancy indexing allows you to select or modify specific elements based on complex conditions \n",
    "or combinations of indices. It provides a powerful way to manipulate array data in NumPy. "
   ]
  },
  {
   "cell_type": "code",
   "execution_count": 20,
   "id": "013708e3-8eb5-4366-a4cf-dee36d66940c",
   "metadata": {},
   "outputs": [
    {
     "data": {
      "text/plain": [
       "array([[ 0,  1,  2],\n",
       "       [ 3,  4,  5],\n",
       "       [ 6,  7,  8],\n",
       "       [ 9, 10, 11]])"
      ]
     },
     "execution_count": 20,
     "metadata": {},
     "output_type": "execute_result"
    }
   ],
   "source": [
    "w"
   ]
  },
  {
   "cell_type": "code",
   "execution_count": 21,
   "id": "9c55f515-f81e-4206-bc3d-04a4beee5a75",
   "metadata": {},
   "outputs": [
    {
     "data": {
      "text/plain": [
       "array([[ 0,  1,  2],\n",
       "       [ 6,  7,  8],\n",
       "       [ 9, 10, 11]])"
      ]
     },
     "execution_count": 21,
     "metadata": {},
     "output_type": "execute_result"
    }
   ],
   "source": [
    "#Fetch 1,3,4 row\n",
    "w[[0,2,3]]"
   ]
  },
  {
   "cell_type": "code",
   "execution_count": 22,
   "id": "b54e1a77-d12a-4e81-a2be-f432a572c4ea",
   "metadata": {},
   "outputs": [
    {
     "data": {
      "text/plain": [
       "array([[ 0,  1,  2,  3],\n",
       "       [ 4,  5,  6,  7],\n",
       "       [ 8,  9, 10, 11],\n",
       "       [12, 13, 14, 15],\n",
       "       [16, 17, 18, 19],\n",
       "       [20, 21, 22, 23]])"
      ]
     },
     "execution_count": 22,
     "metadata": {},
     "output_type": "execute_result"
    }
   ],
   "source": [
    "# New Array\n",
    "\n",
    "z = np.arange(24).reshape(6,4)\n",
    "z"
   ]
  },
  {
   "cell_type": "code",
   "execution_count": 23,
   "id": "e2767861-dad6-483f-9eac-1ff4c5fab2c8",
   "metadata": {},
   "outputs": [
    {
     "data": {
      "text/plain": [
       "array([[ 0,  1,  2,  3],\n",
       "       [ 8,  9, 10, 11],\n",
       "       [12, 13, 14, 15],\n",
       "       [20, 21, 22, 23]])"
      ]
     },
     "execution_count": 23,
     "metadata": {},
     "output_type": "execute_result"
    }
   ],
   "source": [
    "#Fetch 1,3,4,6 rows\n",
    "z[[0,2,3,5]]"
   ]
  },
  {
   "cell_type": "code",
   "execution_count": 24,
   "id": "636e159b-3675-49e1-9c1b-911e5d6df6b3",
   "metadata": {},
   "outputs": [
    {
     "data": {
      "text/plain": [
       "array([[ 0,  2,  3],\n",
       "       [ 4,  6,  7],\n",
       "       [ 8, 10, 11],\n",
       "       [12, 14, 15],\n",
       "       [16, 18, 19],\n",
       "       [20, 22, 23]])"
      ]
     },
     "execution_count": 24,
     "metadata": {},
     "output_type": "execute_result"
    }
   ],
   "source": [
    "#fetch 1,3,4 columns\n",
    "z[:,[0,2,3]]"
   ]
  },
  {
   "cell_type": "markdown",
   "id": "532ba287-9c39-4270-b1b7-4d5c09b7a9ca",
   "metadata": {},
   "source": [
    "# Boolean Indexing"
   ]
  },
  {
   "cell_type": "markdown",
   "id": "ac13d731-3f9b-4c53-a37b-aa4b7c320e3e",
   "metadata": {},
   "source": [
    "It allows you to select elements from an array based on a Boolean condition. This allows you \r\n",
    "to extract only the elements of an array that meet a certain condition, making it easy to perform \r\n",
    "operations on specific subsets of data. "
   ]
  },
  {
   "cell_type": "code",
   "execution_count": 27,
   "id": "6aca52a6-49e5-4127-b387-c6a57af0d757",
   "metadata": {},
   "outputs": [
    {
     "data": {
      "text/plain": [
       "array([[60,  5, 11, 92],\n",
       "       [92, 42, 38, 32],\n",
       "       [36, 95, 85, 47],\n",
       "       [95, 66,  4, 29],\n",
       "       [81, 44, 54, 12],\n",
       "       [56, 50, 78, 28]])"
      ]
     },
     "execution_count": 27,
     "metadata": {},
     "output_type": "execute_result"
    }
   ],
   "source": [
    "G = np.random.randint(1,100,24).reshape(6,4)\n",
    "G"
   ]
  },
  {
   "cell_type": "code",
   "execution_count": 28,
   "id": "5c0bb3e5-8051-42eb-8f35-93c9b83cc3f2",
   "metadata": {},
   "outputs": [
    {
     "data": {
      "text/plain": [
       "array([[ True, False, False,  True],\n",
       "       [ True, False, False, False],\n",
       "       [False,  True,  True, False],\n",
       "       [ True,  True, False, False],\n",
       "       [ True, False,  True, False],\n",
       "       [ True, False,  True, False]])"
      ]
     },
     "execution_count": 28,
     "metadata": {},
     "output_type": "execute_result"
    }
   ],
   "source": [
    "#Finding all numbers greater than 50\n",
    "G > 50"
   ]
  },
  {
   "cell_type": "code",
   "execution_count": 29,
   "id": "0c10271e-8832-42ce-b47f-dc7ff087a24f",
   "metadata": {},
   "outputs": [
    {
     "data": {
      "text/plain": [
       "array([60, 92, 92, 95, 85, 95, 66, 81, 54, 56, 78])"
      ]
     },
     "execution_count": 29,
     "metadata": {},
     "output_type": "execute_result"
    }
   ],
   "source": [
    "#Wherever it is True, it gives result, rest of the part removed and we got value.\n",
    "G[G>50]"
   ]
  },
  {
   "cell_type": "markdown",
   "id": "05b6dd9a-ab54-4291-ba00-1b363273f65b",
   "metadata": {},
   "source": [
    "It is the best technique to filter the data in given condition"
   ]
  },
  {
   "cell_type": "code",
   "execution_count": 31,
   "id": "001061a6-1f3a-477c-97f8-403a23a3d468",
   "metadata": {},
   "outputs": [
    {
     "data": {
      "text/plain": [
       "array([[ True, False, False,  True],\n",
       "       [ True,  True,  True,  True],\n",
       "       [ True, False, False, False],\n",
       "       [False,  True,  True, False],\n",
       "       [False,  True,  True,  True],\n",
       "       [ True,  True,  True,  True]])"
      ]
     },
     "execution_count": 31,
     "metadata": {},
     "output_type": "execute_result"
    }
   ],
   "source": [
    "# find out even numbers\n",
    "\n",
    "G % 2 == 0"
   ]
  },
  {
   "cell_type": "code",
   "execution_count": 32,
   "id": "b2668634-0e8b-4b9f-808a-88702773eefc",
   "metadata": {},
   "outputs": [
    {
     "data": {
      "text/plain": [
       "array([[False, False, False, False],\n",
       "       [False,  True, False, False],\n",
       "       [False, False, False, False],\n",
       "       [False, False, False, False],\n",
       "       [False, False, False, False],\n",
       "       [ True, False, False,  True]])"
      ]
     },
     "execution_count": 32,
     "metadata": {},
     "output_type": "execute_result"
    }
   ],
   "source": [
    "G % 7 == 0"
   ]
  },
  {
   "cell_type": "code",
   "execution_count": 33,
   "id": "74a47ff4-827a-4fe7-b293-7ba835f4e84a",
   "metadata": {},
   "outputs": [
    {
     "data": {
      "text/plain": [
       "array([42, 56, 28])"
      ]
     },
     "execution_count": 33,
     "metadata": {},
     "output_type": "execute_result"
    }
   ],
   "source": [
    "#Result\n",
    "G[G % 7 == 0]"
   ]
  },
  {
   "cell_type": "code",
   "execution_count": 34,
   "id": "c08cb824-7234-4fbc-b07c-25227ed2ec87",
   "metadata": {},
   "outputs": [
    {
     "data": {
      "text/plain": [
       "array([60,  5, 11, 92, 92, 38, 32, 36, 95, 85, 47, 95, 66,  4, 29, 81, 44,\n",
       "       54, 12, 50, 78])"
      ]
     },
     "execution_count": 34,
     "metadata": {},
     "output_type": "execute_result"
    }
   ],
   "source": [
    "#Result\n",
    "G[~(G % 7 == 0)]  #(~) = Not"
   ]
  },
  {
   "cell_type": "markdown",
   "id": "495f50e2-ce57-439f-974c-37ae822a4241",
   "metadata": {},
   "source": [
    "# Broadcasting"
   ]
  },
  {
   "cell_type": "markdown",
   "id": "55fedba8-027c-434a-99a5-7f0abbb5fbed",
   "metadata": {},
   "source": [
    "- Used in Vectorization \r\n",
    " \r\n",
    "The term broadcasting describes how NumPy trea s arrays with different shapes during \r\n",
    "arithmetic operati.s. \r\n",
    "The smaller array is “broadcast” across the larger array so that they have compatible shapes."
   ]
  },
  {
   "cell_type": "code",
   "execution_count": 37,
   "id": "2a14ede0-3c8c-49e6-b158-b6686fe15fbc",
   "metadata": {},
   "outputs": [
    {
     "name": "stdout",
     "output_type": "stream",
     "text": [
      "[[0 1 2]\n",
      " [3 4 5]]\n",
      "[[ 6  7  8]\n",
      " [ 9 10 11]]\n",
      "[[ 6  8 10]\n",
      " [12 14 16]]\n"
     ]
    }
   ],
   "source": [
    "# same shape \n",
    "a = np.arange(6).reshape(2,3) \n",
    "b = np.arange(6,12).reshape(2,3) \n",
    " \n",
    "print(a) \n",
    "print(b) \n",
    " \n",
    "print(a+b) "
   ]
  },
  {
   "cell_type": "code",
   "execution_count": 38,
   "id": "f125f2f7-7f21-41bf-a1b2-15be3b16db4a",
   "metadata": {},
   "outputs": [
    {
     "name": "stdout",
     "output_type": "stream",
     "text": [
      "[[0 1 2]\n",
      " [3 4 5]]\n",
      "[[0 1 2]]\n"
     ]
    }
   ],
   "source": [
    "# diff shape \n",
    "a = np.arange(6).reshape(2,3) \n",
    "b = np.arange(3).reshape(1,3) \n",
    " \n",
    "print(a) \n",
    "print(b) "
   ]
  },
  {
   "cell_type": "code",
   "execution_count": 39,
   "id": "0d3eb00e-0603-4ee7-8c03-04d6d7493f42",
   "metadata": {},
   "outputs": [
    {
     "name": "stdout",
     "output_type": "stream",
     "text": [
      "[[0 1 2]\n",
      " [3 4 5]]\n",
      "[[0 1 2]]\n",
      "[[0 2 4]\n",
      " [3 5 7]]\n"
     ]
    }
   ],
   "source": [
    "# diff shape \n",
    "a = np.arange(6).reshape(2,3) \n",
    "b = np.arange(3).reshape(1,3) \n",
    " \n",
    "print(a) \n",
    "print(b) \n",
    "\n",
    "print(a+b)"
   ]
  },
  {
   "cell_type": "markdown",
   "id": "411f8e21-d6cb-473f-b7f2-e58798c790ac",
   "metadata": {},
   "source": [
    "# Broadcasting Rules \r\n",
    "1. Make the two arrays have the same number of dimensions. \r\n",
    " \r\n",
    " If the numbers of dimensions of the two arrays are different, add new dimensions with size \r\n",
    "1 to the head of the array with the smaller dimensi\n",
    "\n",
    "on. \r\n",
    "ex : (3,2) = 2D , (3) =1D ---> Convert into (\n",
    "1,3) \r\n",
    "(3,3,3) = 3D ,(3) = 1D ---> Convert into (1,1,3) \r\n",
    " \r\n",
    "2. Make each dimension of the two arrays the same size. \r\n",
    " \r\n",
    " If the sizes of each dimension of the two arrays do not match, dimensions with size 1 are \r\n",
    "stretched to the size of the ot\n",
    "\n",
    "her array. \r\n",
    "ex : (3,3)=2D ,(3) =1D ---> CONVERTED (1,3) than strech to (3,3) \r\n",
    " \r\n",
    "If there is a dimension whose size is not 1 in either of the two arrays, it cannot be \r\n",
    "broadcasted, and an error is raised."
   ]
  },
  {
   "cell_type": "code",
   "execution_count": 41,
   "id": "ed5ec03c-3b7f-4792-94fb-1c436078cb35",
   "metadata": {},
   "outputs": [
    {
     "name": "stdout",
     "output_type": "stream",
     "text": [
      "[[ 0  1  2]\n",
      " [ 3  4  5]\n",
      " [ 6  7  8]\n",
      " [ 9 10 11]]\n"
     ]
    }
   ],
   "source": [
    "# More examples\n",
    "a = np.arange(12).reshape(4,3)\n",
    "b = np.arange(3)\n",
    "\n",
    "print(a) # 2D"
   ]
  },
  {
   "cell_type": "code",
   "execution_count": 42,
   "id": "6f72bc40-5e40-4ff3-865b-ce1aa40a18fa",
   "metadata": {},
   "outputs": [
    {
     "name": "stdout",
     "output_type": "stream",
     "text": [
      "[0 1 2]\n"
     ]
    }
   ],
   "source": [
    "print(b) #1D"
   ]
  },
  {
   "cell_type": "code",
   "execution_count": 43,
   "id": "00b6796b-620b-4746-806c-7da7a93e8f2d",
   "metadata": {},
   "outputs": [
    {
     "name": "stdout",
     "output_type": "stream",
     "text": [
      "[[ 0  2  4]\n",
      " [ 3  5  7]\n",
      " [ 6  8 10]\n",
      " [ 9 11 13]]\n"
     ]
    }
   ],
   "source": [
    "print(a+b)"
   ]
  },
  {
   "cell_type": "markdown",
   "id": "8cfa9879-313f-43be-8c17-f4fd7e7a75b1",
   "metadata": {},
   "source": [
    "\n",
    "EXPLANATION : Airtematic Operationis  possible because , Here a = (4,3) is 2D and b =(3) is 1D\r\n",
    "id converted (3) to (1,3) and streched to (4,3) "
   ]
  },
  {
   "cell_type": "code",
   "execution_count": 45,
   "id": "1e79be17-8441-4f2c-b0d8-86817ee83327",
   "metadata": {},
   "outputs": [
    {
     "name": "stdout",
     "output_type": "stream",
     "text": [
      "[[ 0  1  2  3]\n",
      " [ 4  5  6  7]\n",
      " [ 8  9 10 11]]\n",
      "[0 1 2]\n"
     ]
    },
    {
     "ename": "ValueError",
     "evalue": "operands could not be broadcast together with shapes (3,4) (3,) ",
     "output_type": "error",
     "traceback": [
      "\u001b[1;31m---------------------------------------------------------------------------\u001b[0m",
      "\u001b[1;31mValueError\u001b[0m                                Traceback (most recent call last)",
      "Cell \u001b[1;32mIn[45], line 9\u001b[0m\n\u001b[0;32m      6\u001b[0m \u001b[38;5;28mprint\u001b[39m(a) \n\u001b[0;32m      7\u001b[0m \u001b[38;5;28mprint\u001b[39m(b) \n\u001b[1;32m----> 9\u001b[0m \u001b[38;5;28mprint\u001b[39m(a\u001b[38;5;241m+\u001b[39mb)\n",
      "\u001b[1;31mValueError\u001b[0m: operands could not be broadcast together with shapes (3,4) (3,) "
     ]
    }
   ],
   "source": [
    "#Could not Broadcast \n",
    " \n",
    "a = np.arange(12).reshape(3,4) \n",
    "b = np.arange(3) \n",
    " \n",
    "print(a) \n",
    "print(b) \n",
    " \n",
    "print(a+b) "
   ]
  },
  {
   "cell_type": "markdown",
   "id": "0e59fadc-7ffc-40d2-a1a1-9b3bc3aa17ae",
   "metadata": {},
   "source": [
    "EXPLANATION : Arithmatic Operation not possible because , Here a = (3,4) is 2D and b =(3) \r\n",
    "is 1D so did converted (3) to (1,3) and streched to (3,3) but , a is not equals to b . so it got failed "
   ]
  },
  {
   "cell_type": "code",
   "execution_count": 46,
   "id": "73e650b8-91a1-4762-ab27-eef3cba8ff3e",
   "metadata": {},
   "outputs": [
    {
     "name": "stdout",
     "output_type": "stream",
     "text": [
      "[[0 1 2]]\n",
      "[[0]\n",
      " [1]\n",
      " [2]]\n",
      "[[0 1 2]\n",
      " [1 2 3]\n",
      " [2 3 4]]\n"
     ]
    }
   ],
   "source": [
    "a = np.arange(3).reshape(1,3) \n",
    "b = np.arange(3).reshape(3,1) \n",
    " \n",
    "print(a) \n",
    "print(b) \n",
    " \n",
    "print(a+b)"
   ]
  },
  {
   "cell_type": "code",
   "execution_count": 48,
   "id": "3f7ac655-0ad6-4c76-a1de-fa13533b7422",
   "metadata": {},
   "outputs": [
    {
     "name": "stdout",
     "output_type": "stream",
     "text": [
      "[1]\n",
      "[[0 1]\n",
      " [2 3]]\n",
      "[[1 2]\n",
      " [3 4]]\n"
     ]
    }
   ],
   "source": [
    "a = np.array([1]) \n",
    "# shape -> (1,1) streched to 2,2 \n",
    "b = np.arange(4).reshape(2,2) \n",
    "# shape -> (2,2) \n",
    " \n",
    "print(a) \n",
    "print(b) \n",
    " \n",
    "print(a+b)"
   ]
  },
  {
   "cell_type": "code",
   "execution_count": null,
   "id": "8a89f3dd-6cf4-4c00-9450-619da772833a",
   "metadata": {},
   "outputs": [],
   "source": [
    "#  doesnt work \n",
    " \n",
    "a = np.arange(12).reshape(3,4) \n",
    "b = np.arange(12).reshape(4,3) \n",
    " \n",
    "print(a) \n",
    "print(b) \n",
    " \n",
    "print(a+b)"
   ]
  },
  {
   "cell_type": "markdown",
   "id": "bd9728de-94a8-431d-aab1-f5546e7a4a41",
   "metadata": {},
   "source": [
    "EXPLANATION : there is no 1 to convert ,so got failed "
   ]
  },
  {
   "cell_type": "code",
   "execution_count": 50,
   "id": "7dc30a5e-ace2-409a-9ef8-1ac3b3231ce6",
   "metadata": {},
   "outputs": [
    {
     "name": "stdout",
     "output_type": "stream",
     "text": [
      "[[ 0  1  2  3]\n",
      " [ 4  5  6  7]\n",
      " [ 8  9 10 11]\n",
      " [12 13 14 15]]\n",
      "[[0 1]\n",
      " [2 3]]\n"
     ]
    },
    {
     "ename": "ValueError",
     "evalue": "operands could not be broadcast together with shapes (4,4) (2,2) ",
     "output_type": "error",
     "traceback": [
      "\u001b[1;31m---------------------------------------------------------------------------\u001b[0m",
      "\u001b[1;31mValueError\u001b[0m                                Traceback (most recent call last)",
      "Cell \u001b[1;32mIn[50], line 8\u001b[0m\n\u001b[0;32m      5\u001b[0m \u001b[38;5;28mprint\u001b[39m(a) \n\u001b[0;32m      6\u001b[0m \u001b[38;5;28mprint\u001b[39m(b) \n\u001b[1;32m----> 8\u001b[0m \u001b[38;5;28mprint\u001b[39m(a\u001b[38;5;241m+\u001b[39mb)\n",
      "\u001b[1;31mValueError\u001b[0m: operands could not be broadcast together with shapes (4,4) (2,2) "
     ]
    }
   ],
   "source": [
    "# Not Work \n",
    "a = np.arange(16).reshape(4,4) \n",
    "b = np.arange(4).reshape(2,2) \n",
    " \n",
    "print(a) \n",
    "print(b) \n",
    " \n",
    "print(a+b)"
   ]
  },
  {
   "cell_type": "markdown",
   "id": "b0b87317-37e1-4d49-a80d-fc20d38165af",
   "metadata": {},
   "source": [
    "EXPLANATION : there is no 1 to convert ,so got failed"
   ]
  },
  {
   "cell_type": "markdown",
   "id": "ff51df5b-c46d-4d15-acc0-8fba047580a2",
   "metadata": {},
   "source": [
    "# Working with mathematical formulas "
   ]
  },
  {
   "cell_type": "code",
   "execution_count": 52,
   "id": "398d5763-445d-4ae2-8299-17eae7585334",
   "metadata": {},
   "outputs": [
    {
     "data": {
      "text/plain": [
       "array([0, 1, 2, 3, 4, 5, 6, 7, 8, 9])"
      ]
     },
     "execution_count": 52,
     "metadata": {},
     "output_type": "execute_result"
    }
   ],
   "source": [
    "k = np.arange(10)\n",
    "k"
   ]
  },
  {
   "cell_type": "code",
   "execution_count": 54,
   "id": "7919dde1-3b94-453c-a64f-bc3ae86ebf03",
   "metadata": {},
   "outputs": [
    {
     "data": {
      "text/plain": [
       "45"
      ]
     },
     "execution_count": 54,
     "metadata": {},
     "output_type": "execute_result"
    }
   ],
   "source": [
    "np.sum(k)"
   ]
  },
  {
   "cell_type": "code",
   "execution_count": 56,
   "id": "226da1f8-eadc-488b-bffb-02c98280d1d6",
   "metadata": {},
   "outputs": [
    {
     "data": {
      "text/plain": [
       "array([ 0.        ,  0.84147098,  0.90929743,  0.14112001, -0.7568025 ,\n",
       "       -0.95892427, -0.2794155 ,  0.6569866 ,  0.98935825,  0.41211849])"
      ]
     },
     "execution_count": 56,
     "metadata": {},
     "output_type": "execute_result"
    }
   ],
   "source": [
    "np.sin(k)"
   ]
  },
  {
   "cell_type": "markdown",
   "id": "e900d0bf-6f0f-4a7b-94eb-2958a3e4b1fd",
   "metadata": {},
   "source": [
    "# Sigmoid"
   ]
  },
  {
   "cell_type": "code",
   "execution_count": 60,
   "id": "62b2ea60-1a52-4471-b605-f8dbbc140845",
   "metadata": {},
   "outputs": [
    {
     "data": {
      "text/plain": [
       "array([0.5       , 0.73105858, 0.88079708, 0.95257413, 0.98201379,\n",
       "       0.99330715, 0.99752738, 0.99908895, 0.99966465, 0.99987661])"
      ]
     },
     "execution_count": 60,
     "metadata": {},
     "output_type": "execute_result"
    }
   ],
   "source": [
    "def sigmoid(array):\n",
    "    return 1/(1+np.exp(-(array)))\n",
    "k = np.arange(10)\n",
    "sigmoid(k)"
   ]
  },
  {
   "cell_type": "code",
   "execution_count": 62,
   "id": "85ae9127-3a8b-4415-a3c8-9507ef145226",
   "metadata": {},
   "outputs": [
    {
     "data": {
      "text/plain": [
       "array([0.5       , 0.73105858, 0.88079708, 0.95257413, 0.98201379,\n",
       "       0.99330715, 0.99752738, 0.99908895, 0.99966465, 0.99987661,\n",
       "       0.9999546 , 0.9999833 , 0.99999386, 0.99999774, 0.99999917,\n",
       "       0.99999969, 0.99999989, 0.99999996, 0.99999998, 0.99999999,\n",
       "       1.        , 1.        , 1.        , 1.        , 1.        ,\n",
       "       1.        , 1.        , 1.        , 1.        , 1.        ,\n",
       "       1.        , 1.        , 1.        , 1.        , 1.        ,\n",
       "       1.        , 1.        , 1.        , 1.        , 1.        ,\n",
       "       1.        , 1.        , 1.        , 1.        , 1.        ,\n",
       "       1.        , 1.        , 1.        , 1.        , 1.        ,\n",
       "       1.        , 1.        , 1.        , 1.        , 1.        ,\n",
       "       1.        , 1.        , 1.        , 1.        , 1.        ,\n",
       "       1.        , 1.        , 1.        , 1.        , 1.        ,\n",
       "       1.        , 1.        , 1.        , 1.        , 1.        ,\n",
       "       1.        , 1.        , 1.        , 1.        , 1.        ,\n",
       "       1.        , 1.        , 1.        , 1.        , 1.        ,\n",
       "       1.        , 1.        , 1.        , 1.        , 1.        ,\n",
       "       1.        , 1.        , 1.        , 1.        , 1.        ,\n",
       "       1.        , 1.        , 1.        , 1.        , 1.        ,\n",
       "       1.        , 1.        , 1.        , 1.        , 1.        ])"
      ]
     },
     "execution_count": 62,
     "metadata": {},
     "output_type": "execute_result"
    }
   ],
   "source": [
    "k = np.arange(100)\n",
    "sigmoid(k)"
   ]
  },
  {
   "cell_type": "markdown",
   "id": "45e3ae25-9108-4854-81ed-67c6ca660a9b",
   "metadata": {},
   "source": [
    "# mean squared error"
   ]
  },
  {
   "cell_type": "code",
   "execution_count": 67,
   "id": "52f43544-1524-498a-93af-0a3ecfcdd5c0",
   "metadata": {},
   "outputs": [],
   "source": [
    "actual = np.random.randint(1,50,25)\n",
    "predicted = np.random.randint(1,50,25)"
   ]
  },
  {
   "cell_type": "code",
   "execution_count": 69,
   "id": "79f21750-adf4-4421-87c7-86b9531d3398",
   "metadata": {},
   "outputs": [
    {
     "data": {
      "text/plain": [
       "array([45, 27, 18, 25, 46, 24,  2, 16,  7, 40, 45,  9, 10, 30,  4, 13, 11,\n",
       "       16, 19, 33, 39, 42, 33, 38, 39])"
      ]
     },
     "execution_count": 69,
     "metadata": {},
     "output_type": "execute_result"
    }
   ],
   "source": [
    "actual"
   ]
  },
  {
   "cell_type": "code",
   "execution_count": 71,
   "id": "0a20d06d-14fe-4fd7-b627-4d7ed9ef9cb3",
   "metadata": {},
   "outputs": [
    {
     "data": {
      "text/plain": [
       "array([41, 39, 29,  6, 31,  1,  4, 13, 44, 33, 14, 47,  9, 18, 13, 29, 29,\n",
       "        1, 34, 28, 33, 24, 46, 12, 20])"
      ]
     },
     "execution_count": 71,
     "metadata": {},
     "output_type": "execute_result"
    }
   ],
   "source": [
    "predicted"
   ]
  },
  {
   "cell_type": "code",
   "execution_count": 73,
   "id": "8cad64bd-d10f-457b-b10d-b7079c9f5998",
   "metadata": {},
   "outputs": [
    {
     "data": {
      "text/plain": [
       "323.16"
      ]
     },
     "execution_count": 73,
     "metadata": {},
     "output_type": "execute_result"
    }
   ],
   "source": [
    "def mse(actual,predicted):\n",
    "    return np.mean((actual-predicted)**2)\n",
    "\n",
    "mse(actual,predicted)"
   ]
  },
  {
   "cell_type": "code",
   "execution_count": 75,
   "id": "922116ab-319f-49a8-8b4f-893ac25a5963",
   "metadata": {},
   "outputs": [
    {
     "data": {
      "text/plain": [
       "array([  4, -12, -11,  19,  15,  23,  -2,   3, -37,   7,  31, -38,   1,\n",
       "        12,  -9, -16, -18,  15, -15,   5,   6,  18, -13,  26,  19])"
      ]
     },
     "execution_count": 75,
     "metadata": {},
     "output_type": "execute_result"
    }
   ],
   "source": [
    "#in detail\n",
    "actual - predicted"
   ]
  },
  {
   "cell_type": "code",
   "execution_count": 77,
   "id": "2ac05293-ce0c-47e2-bd8e-9d645f1a4a33",
   "metadata": {},
   "outputs": [
    {
     "data": {
      "text/plain": [
       "array([  16,  144,  121,  361,  225,  529,    4,    9, 1369,   49,  961,\n",
       "       1444,    1,  144,   81,  256,  324,  225,  225,   25,   36,  324,\n",
       "        169,  676,  361])"
      ]
     },
     "execution_count": 77,
     "metadata": {},
     "output_type": "execute_result"
    }
   ],
   "source": [
    "(actual-predicted) ** 2"
   ]
  },
  {
   "cell_type": "code",
   "execution_count": 79,
   "id": "a1e64d63-d5f8-4cc0-955c-f5792d269838",
   "metadata": {},
   "outputs": [
    {
     "data": {
      "text/plain": [
       "323.16"
      ]
     },
     "execution_count": 79,
     "metadata": {},
     "output_type": "execute_result"
    }
   ],
   "source": [
    "np.mean((actual-predicted)**2)"
   ]
  },
  {
   "cell_type": "markdown",
   "id": "ff781a50-6bf9-49f8-b5fc-480d2b36f3b0",
   "metadata": {},
   "source": [
    "# Working with missing values"
   ]
  },
  {
   "cell_type": "code",
   "execution_count": 88,
   "id": "da74a530-b01e-4c67-9236-3971d521361f",
   "metadata": {},
   "outputs": [
    {
     "data": {
      "text/plain": [
       "array([ 1.,  2.,  3.,  4., nan,  6.])"
      ]
     },
     "execution_count": 88,
     "metadata": {},
     "output_type": "execute_result"
    }
   ],
   "source": [
    "# Working with missing values --> np.nan\n",
    "\n",
    "S = np.array([1,2,3,4,np.nan,6])\n",
    "S"
   ]
  },
  {
   "cell_type": "code",
   "execution_count": 90,
   "id": "1fbca930-8857-4054-85d1-9fce6de2cb60",
   "metadata": {},
   "outputs": [
    {
     "data": {
      "text/plain": [
       "array([False, False, False, False,  True, False])"
      ]
     },
     "execution_count": 90,
     "metadata": {},
     "output_type": "execute_result"
    }
   ],
   "source": [
    "np.isnan(S)"
   ]
  },
  {
   "cell_type": "code",
   "execution_count": 92,
   "id": "045ab25c-bce5-4a49-b9c7-7905755a6a32",
   "metadata": {},
   "outputs": [
    {
     "data": {
      "text/plain": [
       "array([nan])"
      ]
     },
     "execution_count": 92,
     "metadata": {},
     "output_type": "execute_result"
    }
   ],
   "source": [
    "S[np.isnan(S)]"
   ]
  },
  {
   "cell_type": "code",
   "execution_count": 94,
   "id": "b0d486f1-6f63-485f-910f-794652c2d09e",
   "metadata": {},
   "outputs": [
    {
     "data": {
      "text/plain": [
       "array([1., 2., 3., 4., 6.])"
      ]
     },
     "execution_count": 94,
     "metadata": {},
     "output_type": "execute_result"
    }
   ],
   "source": [
    "S[~np.isnan(S)]"
   ]
  },
  {
   "cell_type": "code",
   "execution_count": 100,
   "id": "b65e4374-bfe9-4585-8866-e5a7d9b7bc53",
   "metadata": {},
   "outputs": [
    {
     "data": {
      "text/plain": [
       "array([-10.        ,  -9.7979798 ,  -9.5959596 ,  -9.39393939,\n",
       "        -9.19191919,  -8.98989899,  -8.78787879,  -8.58585859,\n",
       "        -8.38383838,  -8.18181818,  -7.97979798,  -7.77777778,\n",
       "        -7.57575758,  -7.37373737,  -7.17171717,  -6.96969697,\n",
       "        -6.76767677,  -6.56565657,  -6.36363636,  -6.16161616,\n",
       "        -5.95959596,  -5.75757576,  -5.55555556,  -5.35353535,\n",
       "        -5.15151515,  -4.94949495,  -4.74747475,  -4.54545455,\n",
       "        -4.34343434,  -4.14141414,  -3.93939394,  -3.73737374,\n",
       "        -3.53535354,  -3.33333333,  -3.13131313,  -2.92929293,\n",
       "        -2.72727273,  -2.52525253,  -2.32323232,  -2.12121212,\n",
       "        -1.91919192,  -1.71717172,  -1.51515152,  -1.31313131,\n",
       "        -1.11111111,  -0.90909091,  -0.70707071,  -0.50505051,\n",
       "        -0.3030303 ,  -0.1010101 ,   0.1010101 ,   0.3030303 ,\n",
       "         0.50505051,   0.70707071,   0.90909091,   1.11111111,\n",
       "         1.31313131,   1.51515152,   1.71717172,   1.91919192,\n",
       "         2.12121212,   2.32323232,   2.52525253,   2.72727273,\n",
       "         2.92929293,   3.13131313,   3.33333333,   3.53535354,\n",
       "         3.73737374,   3.93939394,   4.14141414,   4.34343434,\n",
       "         4.54545455,   4.74747475,   4.94949495,   5.15151515,\n",
       "         5.35353535,   5.55555556,   5.75757576,   5.95959596,\n",
       "         6.16161616,   6.36363636,   6.56565657,   6.76767677,\n",
       "         6.96969697,   7.17171717,   7.37373737,   7.57575758,\n",
       "         7.77777778,   7.97979798,   8.18181818,   8.38383838,\n",
       "         8.58585859,   8.78787879,   8.98989899,   9.19191919,\n",
       "         9.39393939,   9.5959596 ,   9.7979798 ,  10.        ])"
      ]
     },
     "execution_count": 100,
     "metadata": {},
     "output_type": "execute_result"
    }
   ],
   "source": [
    "# Plotting a 2D plot\n",
    "x = np.linspace(-10,10,100)\n",
    "x"
   ]
  },
  {
   "cell_type": "code",
   "execution_count": 102,
   "id": "eec2547e-c6e0-4c9a-a2b0-07b96ddd01d4",
   "metadata": {},
   "outputs": [],
   "source": [
    "y = x"
   ]
  },
  {
   "cell_type": "code",
   "execution_count": 104,
   "id": "c402dc24-6c0e-4d85-8c49-5e29cc73e291",
   "metadata": {},
   "outputs": [
    {
     "data": {
      "text/plain": [
       "array([-10.        ,  -9.7979798 ,  -9.5959596 ,  -9.39393939,\n",
       "        -9.19191919,  -8.98989899,  -8.78787879,  -8.58585859,\n",
       "        -8.38383838,  -8.18181818,  -7.97979798,  -7.77777778,\n",
       "        -7.57575758,  -7.37373737,  -7.17171717,  -6.96969697,\n",
       "        -6.76767677,  -6.56565657,  -6.36363636,  -6.16161616,\n",
       "        -5.95959596,  -5.75757576,  -5.55555556,  -5.35353535,\n",
       "        -5.15151515,  -4.94949495,  -4.74747475,  -4.54545455,\n",
       "        -4.34343434,  -4.14141414,  -3.93939394,  -3.73737374,\n",
       "        -3.53535354,  -3.33333333,  -3.13131313,  -2.92929293,\n",
       "        -2.72727273,  -2.52525253,  -2.32323232,  -2.12121212,\n",
       "        -1.91919192,  -1.71717172,  -1.51515152,  -1.31313131,\n",
       "        -1.11111111,  -0.90909091,  -0.70707071,  -0.50505051,\n",
       "        -0.3030303 ,  -0.1010101 ,   0.1010101 ,   0.3030303 ,\n",
       "         0.50505051,   0.70707071,   0.90909091,   1.11111111,\n",
       "         1.31313131,   1.51515152,   1.71717172,   1.91919192,\n",
       "         2.12121212,   2.32323232,   2.52525253,   2.72727273,\n",
       "         2.92929293,   3.13131313,   3.33333333,   3.53535354,\n",
       "         3.73737374,   3.93939394,   4.14141414,   4.34343434,\n",
       "         4.54545455,   4.74747475,   4.94949495,   5.15151515,\n",
       "         5.35353535,   5.55555556,   5.75757576,   5.95959596,\n",
       "         6.16161616,   6.36363636,   6.56565657,   6.76767677,\n",
       "         6.96969697,   7.17171717,   7.37373737,   7.57575758,\n",
       "         7.77777778,   7.97979798,   8.18181818,   8.38383838,\n",
       "         8.58585859,   8.78787879,   8.98989899,   9.19191919,\n",
       "         9.39393939,   9.5959596 ,   9.7979798 ,  10.        ])"
      ]
     },
     "execution_count": 104,
     "metadata": {},
     "output_type": "execute_result"
    }
   ],
   "source": [
    "y"
   ]
  },
  {
   "cell_type": "code",
   "execution_count": 106,
   "id": "f3cd478b-64a4-4359-abfd-93b6068c30e9",
   "metadata": {},
   "outputs": [
    {
     "data": {
      "text/plain": [
       "[<matplotlib.lines.Line2D at 0x21b187999a0>]"
      ]
     },
     "execution_count": 106,
     "metadata": {},
     "output_type": "execute_result"
    },
    {
     "data": {
      "image/png": "[encoded data removed]",
      "text/plain": [
       "<Figure size 640x480 with 1 Axes>"
      ]
     },
     "metadata": {},
     "output_type": "display_data"
    }
   ],
   "source": [
    "import matplotlib.pyplot as plt\n",
    "plt.plot(x,y)"
   ]
  },
  {
   "cell_type": "code",
   "execution_count": 108,
   "id": "750003ce-e9ed-4689-abcc-b76daa28292f",
   "metadata": {},
   "outputs": [
    {
     "data": {
      "text/plain": [
       "[<matplotlib.lines.Line2D at 0x21b18ff9a60>]"
      ]
     },
     "execution_count": 108,
     "metadata": {},
     "output_type": "execute_result"
    },
    {
     "data": {
      "image/png": "[encoded data removed]",
      "text/plain": [
       "<Figure size 640x480 with 1 Axes>"
      ]
     },
     "metadata": {},
     "output_type": "display_data"
    }
   ],
   "source": [
    "x = np.linspace(-10,10,100)\n",
    "y = x**2\n",
    "\n",
    "plt.plot(x,y)"
   ]
  },
  {
   "cell_type": "code",
   "execution_count": 110,
   "id": "0d803821-0e7c-4ec6-aad8-d610dd61d5e4",
   "metadata": {},
   "outputs": [
    {
     "name": "stderr",
     "output_type": "stream",
     "text": [
      "C:\\Users\\SUNITHA\\AppData\\Local\\Temp\\ipykernel_16864\\2303801479.py:2: RuntimeWarning: invalid value encountered in log\n",
      "  y = x * np.log(x)\n"
     ]
    },
    {
     "data": {
      "text/plain": [
       "[<matplotlib.lines.Line2D at 0x21b19023e90>]"
      ]
     },
     "execution_count": 110,
     "metadata": {},
     "output_type": "execute_result"
    },
    {
     "data": {
      "image/png": "[encoded data removed]",
      "text/plain": [
       "<Figure size 640x480 with 1 Axes>"
      ]
     },
     "metadata": {},
     "output_type": "display_data"
    }
   ],
   "source": [
    "x = np.linspace(-10,10,100)\n",
    "y = x * np.log(x)\n",
    "\n",
    "plt.plot(x,y)"
   ]
  },
  {
   "cell_type": "code",
   "execution_count": 112,
   "id": "70c2de64-6801-46a8-a1d9-72f3adb29227",
   "metadata": {},
   "outputs": [
    {
     "data": {
      "text/plain": [
       "[<matplotlib.lines.Line2D at 0x21b188264e0>]"
      ]
     },
     "execution_count": 112,
     "metadata": {},
     "output_type": "execute_result"
    },
    {
     "data": {
      "image/png": "[encoded data removed]",
      "text/plain": [
       "<Figure size 640x480 with 1 Axes>"
      ]
     },
     "metadata": {},
     "output_type": "display_data"
    }
   ],
   "source": [
    "# sigmoid\n",
    "x = np.linspace(-10,10,100)\n",
    "y = 1/(1+np.exp(-x))\n",
    "\n",
    "plt.plot(x,y)"
   ]
  },
  {
   "cell_type": "code",
   "execution_count": 19,
   "id": "b3a5d992-305e-4934-baf2-a66f2b4353f6",
   "metadata": {},
   "outputs": [],
   "source": [
    "import numpy as np\n",
    "import matplotlib.pyplot as plt"
   ]
  },
  {
   "cell_type": "markdown",
   "id": "b683c367-df59-4ab8-9bac-95b08c8ae407",
   "metadata": {},
   "source": [
    "# Meshgrid\n",
    "\n",
    "Meshgrids are a way to create coordinate matrices from coordinate vectors.\n",
    "\n",
    "The np.meshgrid function is used primarily for \r\n",
    " \r\n",
    " Creating/Plotting 2D functions f(x,.\n",
    " \r\n",
    " Generating combinations 2 or more \n",
    " numbers.\n",
    " s \r\n",
    "Example: How you might think to create a 2D function f(x,y) "
   ]
  },
  {
   "cell_type": "code",
   "execution_count": 22,
   "id": "b7183387-08bd-48ff-a6c9-fc3cdb1444c8",
   "metadata": {},
   "outputs": [],
   "source": [
    "x = np.linspace(0,10,100)\n",
    "y = np.linspace(0,10,100)"
   ]
  },
  {
   "cell_type": "markdown",
   "id": "88c5d4ff-4adf-47de-959b-54ee6a2ea9ee",
   "metadata": {},
   "source": [
    "Try to create 2D function"
   ]
  },
  {
   "cell_type": "code",
   "execution_count": 28,
   "id": "3b3e4162-591b-43f6-9672-e99eb5a9d9e9",
   "metadata": {},
   "outputs": [],
   "source": [
    "f = x**2+y**2"
   ]
  },
  {
   "cell_type": "markdown",
   "id": "eff78b5e-ec1f-406a-9c26-ec4f5283c160",
   "metadata": {},
   "source": [
    "Plot"
   ]
  },
  {
   "cell_type": "code",
   "execution_count": 31,
   "id": "671a470c-2909-4505-86d4-cd18593f768c",
   "metadata": {},
   "outputs": [
    {
     "data": {
      "image/png": "[encoded data removed]",
      "text/plain": [
       "<Figure size 400x200 with 1 Axes>"
      ]
     },
     "metadata": {},
     "output_type": "display_data"
    }
   ],
   "source": [
    "plt.figure(figsize = (4,2))\n",
    "plt.plot(f)\n",
    "plt.show()"
   ]
  },
  {
   "cell_type": "code",
   "execution_count": 33,
   "id": "60565099-46f6-4501-920a-ed245b39d9ef",
   "metadata": {},
   "outputs": [],
   "source": [
    "x = np.arange(3)\n",
    "y = np.arange(3)"
   ]
  },
  {
   "cell_type": "code",
   "execution_count": 35,
   "id": "a696b795-285b-4236-a762-cb98880c1c5b",
   "metadata": {},
   "outputs": [
    {
     "data": {
      "text/plain": [
       "array([0, 1, 2])"
      ]
     },
     "execution_count": 35,
     "metadata": {},
     "output_type": "execute_result"
    }
   ],
   "source": [
    "x"
   ]
  },
  {
   "cell_type": "code",
   "execution_count": 37,
   "id": "434454cb-ddcd-4fe8-9aee-245d65e18103",
   "metadata": {},
   "outputs": [
    {
     "data": {
      "text/plain": [
       "array([0, 1, 2])"
      ]
     },
     "execution_count": 37,
     "metadata": {},
     "output_type": "execute_result"
    }
   ],
   "source": [
    "y"
   ]
  },
  {
   "cell_type": "markdown",
   "id": "aca75116-b549-4049-98c4-04de3c17e81e",
   "metadata": {},
   "source": [
    "Generating a meshgrid"
   ]
  },
  {
   "cell_type": "code",
   "execution_count": 52,
   "id": "c680108d-65de-4e36-b4af-c46741d67895",
   "metadata": {},
   "outputs": [],
   "source": [
    "xv, yv = np.meshgrid(x,y)"
   ]
  },
  {
   "cell_type": "code",
   "execution_count": 54,
   "id": "233ceb4a-e151-4618-a80c-ca024fe2f5fc",
   "metadata": {},
   "outputs": [
    {
     "data": {
      "text/plain": [
       "array([[0, 1, 2],\n",
       "       [0, 1, 2],\n",
       "       [0, 1, 2]])"
      ]
     },
     "execution_count": 54,
     "metadata": {},
     "output_type": "execute_result"
    }
   ],
   "source": [
    "xv"
   ]
  },
  {
   "cell_type": "code",
   "execution_count": 56,
   "id": "84afc1c6-0744-4ec8-96f9-26ee7b52ba08",
   "metadata": {},
   "outputs": [
    {
     "data": {
      "text/plain": [
       "array([[0, 0, 0],\n",
       "       [1, 1, 1],\n",
       "       [2, 2, 2]])"
      ]
     },
     "execution_count": 56,
     "metadata": {},
     "output_type": "execute_result"
    }
   ],
   "source": [
    "yv"
   ]
  },
  {
   "cell_type": "code",
   "execution_count": 58,
   "id": "bf522634-04db-4a83-b051-4c2208ea98bc",
   "metadata": {},
   "outputs": [],
   "source": [
    "x = np.linspace(-2,2,100)\n",
    "y = np.linspace(-1,1,100)\n",
    "xv,yv = np.meshgrid(x,y)\n",
    "f = np.exp(-xv**2-yv**2)"
   ]
  },
  {
   "cell_type": "code",
   "execution_count": 62,
   "id": "a9fc763c-b2f7-404a-938a-1df152163092",
   "metadata": {},
   "outputs": [
    {
     "data": {
      "image/png": "[encoded data removed]",
      "text/plain": [
       "<Figure size 600x300 with 2 Axes>"
      ]
     },
     "metadata": {},
     "output_type": "display_data"
    }
   ],
   "source": [
    "plt.figure(figsize = (6,3))\n",
    "plt.pcolormesh(xv,yv,f,shading = 'auto')\n",
    "plt.colorbar()\n",
    "plt.grid()\n",
    "plt.show()"
   ]
  },
  {
   "cell_type": "code",
   "execution_count": 70,
   "id": "88835413-3b59-48a3-9920-ccd7f19ae2aa",
   "metadata": {},
   "outputs": [
    {
     "data": {
      "image/png": "[encoded data removed]",
      "text/plain": [
       "<Figure size 640x480 with 2 Axes>"
      ]
     },
     "metadata": {},
     "output_type": "display_data"
    }
   ],
   "source": [
    "x = np.linspace(-4,4,9)\n",
    "y = np.linspace(-5,5,11)\n",
    "x_1,y_1 = np.meshgrid(x,y)\n",
    "random_data = np.random.random((11,9))\n",
    "plt.contourf(x_1,y_1,random_data,cmap = 'jet')\n",
    "\n",
    "plt.colorbar()\n",
    "plt.show()"
   ]
  },
  {
   "cell_type": "code",
   "execution_count": 72,
   "id": "9caf4131-9125-4f35-b29b-ad308e299ff2",
   "metadata": {},
   "outputs": [
    {
     "name": "stderr",
     "output_type": "stream",
     "text": [
      "C:\\Users\\SUNITHA\\AppData\\Local\\Temp\\ipykernel_19376\\125972602.py:1: RuntimeWarning: invalid value encountered in divide\n",
      "  sine = (np.sin(x_1**2 + y_1**2))/(x_1**2 + y_1**2)\n"
     ]
    },
    {
     "data": {
      "image/png": "[encoded data removed]",
      "text/plain": [
       "<Figure size 640x480 with 2 Axes>"
      ]
     },
     "metadata": {},
     "output_type": "display_data"
    }
   ],
   "source": [
    "sine = (np.sin(x_1**2 + y_1**2))/(x_1**2 + y_1**2) \n",
    "plt.contourf(x_1, y_1, sine, cmap = 'jet') \n",
    " \n",
    "plt.colorbar() \n",
    "plt.show()"
   ]
  },
  {
   "cell_type": "markdown",
   "id": "98f229c0-c8c2-4d56-a48a-b7483ce977c2",
   "metadata": {},
   "source": [
    "We observe that x_1 is a row repeated matrix whereas y_1 is a column repeated matrix. One \r\n",
    "row of x_1 and one column of y_1 is enough to determine the positions of all the points as the \r\n",
    "other values will get repeated over and over. "
   ]
  },
  {
   "cell_type": "markdown",
   "id": "caa33a71-81b8-4d33-bae9-03633dcf7d75",
   "metadata": {},
   "source": [
    "# np.sort\n",
    "\n",
    "Returns a sorted copy of an array"
   ]
  },
  {
   "cell_type": "code",
   "execution_count": 77,
   "id": "fe241795-c1c6-43c2-a32f-7aaa2fbe17c6",
   "metadata": {},
   "outputs": [
    {
     "data": {
      "text/plain": [
       "array([29, 73, 10, 75, 43,  1, 60, 90, 32, 99, 76, 30, 45, 41, 38])"
      ]
     },
     "execution_count": 77,
     "metadata": {},
     "output_type": "execute_result"
    }
   ],
   "source": [
    "a = np.random.randint(1,100,15) #1D\n",
    "a"
   ]
  },
  {
   "cell_type": "code",
   "execution_count": 81,
   "id": "9fa61560-bda1-4e18-a3d1-13c7c89f60c3",
   "metadata": {},
   "outputs": [
    {
     "data": {
      "text/plain": [
       "array([[57, 51, 51, 78],\n",
       "       [22,  6, 76, 42],\n",
       "       [77, 61, 29, 85],\n",
       "       [32, 27, 63, 59],\n",
       "       [45, 29,  7, 11],\n",
       "       [68, 31,  8, 60]])"
      ]
     },
     "execution_count": 81,
     "metadata": {},
     "output_type": "execute_result"
    }
   ],
   "source": [
    "b = np.random.randint(1,100,24).reshape(6,4) #2D\n",
    "b"
   ]
  },
  {
   "cell_type": "code",
   "execution_count": 83,
   "id": "d05a7d7a-3b5b-4d96-8f26-2c4ff71a7b4d",
   "metadata": {},
   "outputs": [
    {
     "data": {
      "text/plain": [
       "array([ 1, 10, 29, 30, 32, 38, 41, 43, 45, 60, 73, 75, 76, 90, 99])"
      ]
     },
     "execution_count": 83,
     "metadata": {},
     "output_type": "execute_result"
    }
   ],
   "source": [
    "np.sort(a) #default is ascending order"
   ]
  },
  {
   "cell_type": "code",
   "execution_count": 87,
   "id": "f44175c5-05e7-4624-9d89-1aa4e4e68b9b",
   "metadata": {},
   "outputs": [
    {
     "data": {
      "text/plain": [
       "array([99, 90, 76, 75, 73, 60, 45, 43, 41, 38, 32, 30, 29, 10,  1])"
      ]
     },
     "execution_count": 87,
     "metadata": {},
     "output_type": "execute_result"
    }
   ],
   "source": [
    "np.sort(a)[::-1] #descending order"
   ]
  },
  {
   "cell_type": "code",
   "execution_count": 91,
   "id": "883fb52a-a84d-447e-b946-dd82726385ec",
   "metadata": {},
   "outputs": [
    {
     "data": {
      "text/plain": [
       "array([[51, 51, 57, 78],\n",
       "       [ 6, 22, 42, 76],\n",
       "       [29, 61, 77, 85],\n",
       "       [27, 32, 59, 63],\n",
       "       [ 7, 11, 29, 45],\n",
       "       [ 8, 31, 60, 68]])"
      ]
     },
     "execution_count": 91,
     "metadata": {},
     "output_type": "execute_result"
    }
   ],
   "source": [
    "np.sort(b) #row wise sorting"
   ]
  },
  {
   "cell_type": "code",
   "execution_count": 95,
   "id": "a5885e63-9af1-4e56-b288-5a1e1b61901f",
   "metadata": {},
   "outputs": [
    {
     "data": {
      "text/plain": [
       "array([[22,  6,  7, 11],\n",
       "       [32, 27,  8, 42],\n",
       "       [45, 29, 29, 59],\n",
       "       [57, 31, 51, 60],\n",
       "       [68, 51, 63, 78],\n",
       "       [77, 61, 76, 85]])"
      ]
     },
     "execution_count": 95,
     "metadata": {},
     "output_type": "execute_result"
    }
   ],
   "source": [
    "np.sort(b,axis = 0) #column wise sorting"
   ]
  },
  {
   "cell_type": "markdown",
   "id": "8f34540c-4283-4e23-918a-f2a951daf5ba",
   "metadata": {},
   "source": [
    "# np.append\n",
    "\n",
    "The numpy.append() appends values along the mentioned axis at the end of the array"
   ]
  },
  {
   "cell_type": "code",
   "execution_count": 99,
   "id": "4c592237-425a-4008-b220-ceb15064292d",
   "metadata": {},
   "outputs": [
    {
     "data": {
      "text/plain": [
       "array([29, 73, 10, 75, 43,  1, 60, 90, 32, 99, 76, 30, 45, 41, 38])"
      ]
     },
     "execution_count": 99,
     "metadata": {},
     "output_type": "execute_result"
    }
   ],
   "source": [
    "a"
   ]
  },
  {
   "cell_type": "code",
   "execution_count": 101,
   "id": "913c7b7f-28cb-47ac-9de8-79286df24ea7",
   "metadata": {},
   "outputs": [
    {
     "data": {
      "text/plain": [
       "array([ 29,  73,  10,  75,  43,   1,  60,  90,  32,  99,  76,  30,  45,\n",
       "        41,  38, 200])"
      ]
     },
     "execution_count": 101,
     "metadata": {},
     "output_type": "execute_result"
    }
   ],
   "source": [
    "np.append(a,200)"
   ]
  },
  {
   "cell_type": "code",
   "execution_count": 104,
   "id": "67df016c-b78b-49f2-93aa-e77ff02dc802",
   "metadata": {},
   "outputs": [
    {
     "data": {
      "text/plain": [
       "array([[57, 51, 51, 78],\n",
       "       [22,  6, 76, 42],\n",
       "       [77, 61, 29, 85],\n",
       "       [32, 27, 63, 59],\n",
       "       [45, 29,  7, 11],\n",
       "       [68, 31,  8, 60]])"
      ]
     },
     "execution_count": 104,
     "metadata": {},
     "output_type": "execute_result"
    }
   ],
   "source": [
    "b"
   ]
  },
  {
   "cell_type": "code",
   "execution_count": 112,
   "id": "a155ee64-6530-4d24-8aea-534e71435964",
   "metadata": {},
   "outputs": [
    {
     "data": {
      "text/plain": [
       "array([57., 51., 51., 78., 22.,  6., 76., 42., 77., 61., 29., 85., 32.,\n",
       "       27., 63., 59., 45., 29.,  7., 11., 68., 31.,  8., 60.,  1.,  1.,\n",
       "        1.,  1.,  1.,  1.])"
      ]
     },
     "execution_count": 112,
     "metadata": {},
     "output_type": "execute_result"
    }
   ],
   "source": [
    "np.append(b, np.ones((b.shape[0],1)))  #adding extra column :1"
   ]
  },
  {
   "cell_type": "code",
   "execution_count": 114,
   "id": "85b693c7-011d-4983-8f91-89469bc5d3eb",
   "metadata": {},
   "outputs": [
    {
     "data": {
      "text/plain": [
       "array([[57., 51., 51., 78.,  1.],\n",
       "       [22.,  6., 76., 42.,  1.],\n",
       "       [77., 61., 29., 85.,  1.],\n",
       "       [32., 27., 63., 59.,  1.],\n",
       "       [45., 29.,  7., 11.,  1.],\n",
       "       [68., 31.,  8., 60.,  1.]])"
      ]
     },
     "execution_count": 114,
     "metadata": {},
     "output_type": "execute_result"
    }
   ],
   "source": [
    "np.append(b,np.ones((b.shape[0],1)),axis=1)"
   ]
  },
  {
   "cell_type": "code",
   "execution_count": null,
   "id": "12c5709a-64e8-469d-b943-90f1dfeabe4c",
   "metadata": {},
   "outputs": [],
   "source": []
  },
  {
   "cell_type": "code",
   "execution_count": null,
   "id": "d79bf9a6-b3ac-471c-a409-ab7faa8e8f89",
   "metadata": {},
   "outputs": [],
   "source": []
  },
  {
   "cell_type": "code",
   "execution_count": null,
   "id": "4ba2913f-3119-4361-9055-8d28b59df3d9",
   "metadata": {},
   "outputs": [],
   "source": []
  },
  {
   "cell_type": "code",
   "execution_count": null,
   "id": "cb881f29-f8b5-4d34-a44b-1282bf3b8981",
   "metadata": {},
   "outputs": [],
   "source": []
  }
 ],
 "metadata": {
  "kernelspec": {
   "display_name": "Python 3 (ipykernel)",
   "language": "python",
   "name": "python3"
  },
  "language_info": {
   "codemirror_mode": {
    "name": "ipython",
    "version": 3
   },
   "file_extension": ".py",
   "mimetype": "text/x-python",
   "name": "python",
   "nbconvert_exporter": "python",
   "pygments_lexer": "ipython3",
   "version": "3.12.4"
  }
 },
 "nbformat": 4,
 "nbformat_minor": 5
}
