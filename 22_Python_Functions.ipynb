{
 "cells": [
  {
   "cell_type": "markdown",
   "id": "6de7a199-3626-4df0-b07d-70cd69431e53",
   "metadata": {},
   "source": [
    "## Python functions    (By Sunitha Mekala)"
   ]
  },
  {
   "cell_type": "code",
   "execution_count": 4,
   "id": "37151c51-3aa5-46c0-9711-cec0844d49ca",
   "metadata": {},
   "outputs": [],
   "source": [
    "def greeting():  # define function\n",
    "    print('hello') # print the statement\n",
    "    print('good morning') \n",
    "# here we dont display the output as the funtion is not called."
   ]
  },
  {
   "cell_type": "code",
   "execution_count": 6,
   "id": "dfaf1917-d8f7-4a05-86ef-1336a4847727",
   "metadata": {},
   "outputs": [
    {
     "name": "stdout",
     "output_type": "stream",
     "text": [
      "hello\n",
      "good morning\n"
     ]
    }
   ],
   "source": [
    "def greeting():\n",
    "    print('hello')\n",
    "    print('good morning')\n",
    "greeting()\n",
    "# Here greeting() function is called so the output is displayed."
   ]
  },
  {
   "cell_type": "code",
   "execution_count": 8,
   "id": "e9a03e93-f95f-4684-9a64-7feaffcbc810",
   "metadata": {},
   "outputs": [
    {
     "name": "stdout",
     "output_type": "stream",
     "text": [
      "hello\n",
      "good morning\n",
      "hello\n",
      "good morning\n",
      "hello\n",
      "good morning\n"
     ]
    }
   ],
   "source": [
    "# displaying the same output multiple times, but this is not the right way, eg: if we have\n",
    "# to display 100 times\n",
    "def greeting():\n",
    "    print('hello')\n",
    "    print('good morning')\n",
    "greeting()\n",
    "\n",
    "def greeting():\n",
    "    print('hello')\n",
    "    print('good morning')\n",
    "greeting()\n",
    "\n",
    "def greeting():\n",
    "    print('hello')\n",
    "    print('good morning')\n",
    "greeting()"
   ]
  },
  {
   "cell_type": "code",
   "execution_count": 10,
   "id": "f61e74c5-513a-42d6-aff7-5a88df596e86",
   "metadata": {},
   "outputs": [
    {
     "name": "stdout",
     "output_type": "stream",
     "text": [
      "hello\n",
      "good morning\n",
      "\n",
      "hello\n",
      "good morning\n",
      "\n",
      "hello\n",
      "good morning\n",
      "\n"
     ]
    }
   ],
   "source": [
    "def greet():\n",
    "    print('hello')\n",
    "    print('good morning')\n",
    "greet()\n",
    "print() # displays the space between particular output\n",
    "greet()\n",
    "print()\n",
    "greet()\n",
    "print()"
   ]
  },
  {
   "cell_type": "markdown",
   "id": "41c84489-2284-46ba-afa5-d3cf714ebf31",
   "metadata": {},
   "source": [
    "## Defining functions with arguments"
   ]
  },
  {
   "cell_type": "code",
   "execution_count": 15,
   "id": "ce5d3e28-fe5d-4a16-893d-5cfc0d1189a6",
   "metadata": {},
   "outputs": [
    {
     "name": "stdout",
     "output_type": "stream",
     "text": [
      "11\n"
     ]
    }
   ],
   "source": [
    "def add(x,y):\n",
    "    c=x+y\n",
    "    print(c)  \n",
    "add(5,6)"
   ]
  },
  {
   "cell_type": "code",
   "execution_count": 17,
   "id": "31cc7498-a1b4-4946-aa32-a70585239a07",
   "metadata": {},
   "outputs": [
    {
     "name": "stdout",
     "output_type": "stream",
     "text": [
      "10\n"
     ]
    }
   ],
   "source": [
    "def add(x,y,z):\n",
    "    c=x+y+z\n",
    "    print(c)  \n",
    "add(1,4,5)"
   ]
  },
  {
   "cell_type": "code",
   "execution_count": 19,
   "id": "904c752f-f3b2-455c-96f9-0efa64004e6f",
   "metadata": {},
   "outputs": [
    {
     "name": "stdout",
     "output_type": "stream",
     "text": [
      "hello\n",
      "good morning\n",
      "10\n"
     ]
    }
   ],
   "source": [
    "def greeting():\n",
    "    print('hello')\n",
    "    print('good morning')\n",
    "greeting()\n",
    "\n",
    "def add(x,y,z):\n",
    "    c=x+y+z\n",
    "    print(c)  \n",
    "add(1,4,5)"
   ]
  },
  {
   "cell_type": "code",
   "execution_count": 21,
   "id": "b95c5459-c9b2-4be7-935b-35e0afe4f9f4",
   "metadata": {},
   "outputs": [
    {
     "name": "stdout",
     "output_type": "stream",
     "text": [
      "hello\n",
      "good morning\n",
      "10\n"
     ]
    }
   ],
   "source": [
    "def greeting():\n",
    "    print('hello')\n",
    "    print('good morning')\n",
    "    \n",
    "def add(x,y,z):\n",
    "    c=x+y+z\n",
    "    print(c)  \n",
    "\n",
    "greeting()\n",
    "add(1,4,5)"
   ]
  },
  {
   "cell_type": "code",
   "execution_count": 23,
   "id": "ff5c6ce5-573a-48f7-8e0b-2bd4996ecc8f",
   "metadata": {},
   "outputs": [
    {
     "name": "stdout",
     "output_type": "stream",
     "text": [
      "hello\n",
      "good noon\n",
      "9\n",
      "4\n"
     ]
    }
   ],
   "source": [
    "def greeting():\n",
    "    print('hello')\n",
    "    print('good noon')\n",
    "    \n",
    "def add(x,y):\n",
    "    c=x+y\n",
    "    print(c)\n",
    "\n",
    "def sub(x,y,z):\n",
    "    d = x-y-z\n",
    "    print(d)\n",
    "    \n",
    "greeting()    \n",
    "add(5,4)\n",
    "sub(10,2,4)\n",
    "# you can create mutliple function and call them as many time as you want"
   ]
  },
  {
   "cell_type": "markdown",
   "id": "58cc4c88-6f4f-4d8a-a633-03cf3ba1026a",
   "metadata": {},
   "source": [
    "### Instead of print() its better to use return statement"
   ]
  },
  {
   "cell_type": "code",
   "execution_count": 26,
   "id": "01024a30-2189-4b72-9a01-af527cabec2f",
   "metadata": {},
   "outputs": [
    {
     "data": {
      "text/plain": [
       "54"
      ]
     },
     "execution_count": 26,
     "metadata": {},
     "output_type": "execute_result"
    }
   ],
   "source": [
    "def add(x,y):\n",
    "    c=x+y\n",
    "    return c\n",
    "\n",
    "add(50,4)"
   ]
  },
  {
   "cell_type": "code",
   "execution_count": 30,
   "id": "33ba5bb3-8942-484c-ac64-d0e43f0d9770",
   "metadata": {},
   "outputs": [
    {
     "ename": "TypeError",
     "evalue": "sub() missing 1 required positional argument: 'z'",
     "output_type": "error",
     "traceback": [
      "\u001b[1;31m---------------------------------------------------------------------------\u001b[0m",
      "\u001b[1;31mTypeError\u001b[0m                                 Traceback (most recent call last)",
      "Cell \u001b[1;32mIn[30], line 7\u001b[0m\n\u001b[0;32m      4\u001b[0m     \u001b[38;5;28;01mreturn\u001b[39;00m c\n\u001b[0;32m      5\u001b[0m     \u001b[38;5;28;01mreturn\u001b[39;00m d\n\u001b[1;32m----> 7\u001b[0m sub(\u001b[38;5;241m50\u001b[39m,\u001b[38;5;241m4\u001b[39m)\n\u001b[0;32m      8\u001b[0m add(\u001b[38;5;241m50\u001b[39m,\u001b[38;5;241m4\u001b[39m)\n",
      "\u001b[1;31mTypeError\u001b[0m: sub() missing 1 required positional argument: 'z'"
     ]
    }
   ],
   "source": [
    "def add(x,y):\n",
    "    c=x+y\n",
    "    d=x-y\n",
    "    return c\n",
    "    return d\n",
    "\n",
    "sub(50,4)\n",
    "add(50,4)\n",
    "\n",
    "# diplays the error as the sub function is not defined"
   ]
  },
  {
   "cell_type": "code",
   "execution_count": 34,
   "id": "dba33e45-b0d6-4bfe-a37f-bf2d309c7aba",
   "metadata": {},
   "outputs": [
    {
     "name": "stdout",
     "output_type": "stream",
     "text": [
      "46\n",
      "54\n"
     ]
    }
   ],
   "source": [
    "def add(x,y):\n",
    "    c=x+y\n",
    "    return c\n",
    "    \n",
    "def sub(x,y):\n",
    "    d=x-y\n",
    "    return d\n",
    "\n",
    "su = sub(50,4)\n",
    "ad = add(50,4)\n",
    "\n",
    "print(su)\n",
    "print(ad)"
   ]
  },
  {
   "cell_type": "markdown",
   "id": "4777a3a3-7804-45f4-b8c0-3c8902e164f5",
   "metadata": {},
   "source": [
    "### Here i would like to return 2 values add_sub and function can return multiple values"
   ]
  },
  {
   "cell_type": "code",
   "execution_count": 39,
   "id": "f2e20aec-93be-497f-a14c-7d01c4b211b5",
   "metadata": {},
   "outputs": [
    {
     "name": "stdout",
     "output_type": "stream",
     "text": [
      "43\n",
      "37\n"
     ]
    }
   ],
   "source": [
    "def add_sub(x,y):\n",
    "    c=x+y\n",
    "    d=x-y\n",
    "    return c,d\n",
    "\n",
    "result1, result2 = add_sub(40,3)\n",
    "print(result1)\n",
    "print(result2)"
   ]
  },
  {
   "cell_type": "code",
   "execution_count": 41,
   "id": "01b3fed9-abc8-4992-8356-eedc3234ed95",
   "metadata": {},
   "outputs": [
    {
     "name": "stdout",
     "output_type": "stream",
     "text": [
      "43\n",
      "37\n",
      "120\n"
     ]
    }
   ],
   "source": [
    "def add_sub_mul(x,y):\n",
    "    c=x+y\n",
    "    d=x-y\n",
    "    e=x*y\n",
    "    return c,d,e\n",
    "\n",
    "result1, result2, result3 = add_sub_mul(40,3)\n",
    "print(result1)\n",
    "print(result2)\n",
    "print(result3)"
   ]
  },
  {
   "cell_type": "code",
   "execution_count": 43,
   "id": "951569d4-23fd-4d68-bc9e-b51bb95bf221",
   "metadata": {},
   "outputs": [
    {
     "name": "stdout",
     "output_type": "stream",
     "text": [
      "53\n"
     ]
    }
   ],
   "source": [
    "def add(x,y):\n",
    "    c=x+y\n",
    "    return c\n",
    "\n",
    "score = add(50,3)\n",
    "print(score)"
   ]
  },
  {
   "cell_type": "markdown",
   "id": "42f45391-88a3-4f6e-8342-b64fb7fdc273",
   "metadata": {},
   "source": [
    "## Actual Arguments \n",
    "\n",
    "## a) Positional Arguments"
   ]
  },
  {
   "cell_type": "code",
   "execution_count": 48,
   "id": "23e98a10-d33c-485f-9114-ecc2bad5cb1d",
   "metadata": {},
   "outputs": [
    {
     "name": "stdout",
     "output_type": "stream",
     "text": [
      "nit\n",
      "22\n"
     ]
    }
   ],
   "source": [
    "#Postional arguments\n",
    "def person(name,age):\n",
    "    print(name)\n",
    "    print(age)\n",
    "    \n",
    "person('nit',22)"
   ]
  },
  {
   "cell_type": "code",
   "execution_count": 50,
   "id": "b16863fa-2ba0-41a4-a12c-5b5218917acd",
   "metadata": {},
   "outputs": [
    {
     "name": "stdout",
     "output_type": "stream",
     "text": [
      "22\n",
      "nit\n"
     ]
    }
   ],
   "source": [
    "def person(name,age):\n",
    "    print(name)\n",
    "    print(age)\n",
    "    \n",
    "person(22,'nit')\n",
    "# Here name stores 22 and age stores 'nit'"
   ]
  },
  {
   "cell_type": "markdown",
   "id": "878526ed-2a58-4f78-a3db-fe17991386c9",
   "metadata": {},
   "source": [
    "## Positional arguments error"
   ]
  },
  {
   "cell_type": "code",
   "execution_count": 57,
   "id": "9865cc8b-006b-4864-9db4-03b11ab38a45",
   "metadata": {},
   "outputs": [
    {
     "ename": "TypeError",
     "evalue": "person() missing 1 required positional argument: 'age'",
     "output_type": "error",
     "traceback": [
      "\u001b[1;31m---------------------------------------------------------------------------\u001b[0m",
      "\u001b[1;31mTypeError\u001b[0m                                 Traceback (most recent call last)",
      "Cell \u001b[1;32mIn[57], line 5\u001b[0m\n\u001b[0;32m      2\u001b[0m     \u001b[38;5;28mprint\u001b[39m(name)\n\u001b[0;32m      3\u001b[0m     \u001b[38;5;28mprint\u001b[39m(age)\n\u001b[1;32m----> 5\u001b[0m person(\u001b[38;5;124m'\u001b[39m\u001b[38;5;124mnit\u001b[39m\u001b[38;5;124m'\u001b[39m)\n",
      "\u001b[1;31mTypeError\u001b[0m: person() missing 1 required positional argument: 'age'"
     ]
    }
   ],
   "source": [
    "def person(name,age):\n",
    "    print(name)\n",
    "    print(age)\n",
    "    \n",
    "person('nit')"
   ]
  },
  {
   "cell_type": "markdown",
   "id": "c56c3ec3-fe14-43cb-ae36-576633f41946",
   "metadata": {},
   "source": [
    "## b) Keyword argument"
   ]
  },
  {
   "cell_type": "code",
   "execution_count": 64,
   "id": "26b16f41-8824-4e71-b6fd-90a37932d630",
   "metadata": {},
   "outputs": [
    {
     "name": "stdout",
     "output_type": "stream",
     "text": [
      "22\n"
     ]
    },
    {
     "ename": "TypeError",
     "evalue": "unsupported operand type(s) for -: 'str' and 'int'",
     "output_type": "error",
     "traceback": [
      "\u001b[1;31m---------------------------------------------------------------------------\u001b[0m",
      "\u001b[1;31mTypeError\u001b[0m                                 Traceback (most recent call last)",
      "Cell \u001b[1;32mIn[64], line 5\u001b[0m\n\u001b[0;32m      2\u001b[0m     \u001b[38;5;28mprint\u001b[39m(name)\n\u001b[0;32m      3\u001b[0m     \u001b[38;5;28mprint\u001b[39m(age\u001b[38;5;241m-\u001b[39m\u001b[38;5;241m5\u001b[39m)\n\u001b[1;32m----> 5\u001b[0m person(\u001b[38;5;241m22\u001b[39m,\u001b[38;5;124m'\u001b[39m\u001b[38;5;124mnit\u001b[39m\u001b[38;5;124m'\u001b[39m)\n",
      "Cell \u001b[1;32mIn[64], line 3\u001b[0m, in \u001b[0;36mperson\u001b[1;34m(name, age)\u001b[0m\n\u001b[0;32m      1\u001b[0m \u001b[38;5;28;01mdef\u001b[39;00m \u001b[38;5;21mperson\u001b[39m(name,age):\n\u001b[0;32m      2\u001b[0m     \u001b[38;5;28mprint\u001b[39m(name)\n\u001b[1;32m----> 3\u001b[0m     \u001b[38;5;28mprint\u001b[39m(age\u001b[38;5;241m-\u001b[39m\u001b[38;5;241m5\u001b[39m)\n",
      "\u001b[1;31mTypeError\u001b[0m: unsupported operand type(s) for -: 'str' and 'int'"
     ]
    }
   ],
   "source": [
    "def person(name,age):\n",
    "    print(name)\n",
    "    print(age-5)\n",
    "    \n",
    "person(22,'nit')\n",
    "# Here name stores 22 and age stores 'nit', so print(age-5) means str-5, which gives error"
   ]
  },
  {
   "cell_type": "code",
   "execution_count": 66,
   "id": "fbb7d4ad-de6a-4ea4-a753-8c0fab53e9ee",
   "metadata": {},
   "outputs": [
    {
     "name": "stdout",
     "output_type": "stream",
     "text": [
      "nit\n",
      "17\n"
     ]
    }
   ],
   "source": [
    "# As we got the above error we can follow this way\n",
    "def person(name,age):\n",
    "    print(name)\n",
    "    print(age-5)\n",
    "    \n",
    "person(age = 22, name = 'nit')"
   ]
  },
  {
   "cell_type": "markdown",
   "id": "96481b24-3b9f-42c9-b7f1-fa10f2edd48b",
   "metadata": {},
   "source": [
    "## c) Default Arugment"
   ]
  },
  {
   "cell_type": "code",
   "execution_count": 69,
   "id": "15a72886-7150-4f93-b1f1-3a77faccdac2",
   "metadata": {},
   "outputs": [
    {
     "name": "stdout",
     "output_type": "stream",
     "text": [
      "nit\n",
      "18\n"
     ]
    }
   ],
   "source": [
    "def person(name,age=18): # instead of passing actual argument by default we are setting the age\n",
    "    print(name)\n",
    "    print(age)\n",
    "    \n",
    "person('nit') "
   ]
  },
  {
   "cell_type": "code",
   "execution_count": 73,
   "id": "2b428b65-4759-4e8f-b4ad-4fa2ed69dc87",
   "metadata": {},
   "outputs": [
    {
     "name": "stdout",
     "output_type": "stream",
     "text": [
      "nit\n",
      "20\n"
     ]
    }
   ],
   "source": [
    "def person(name,age=18):\n",
    "    print(name)\n",
    "    print(age)\n",
    "    \n",
    "person('nit',20)\n",
    "\n",
    "#Here even though default age 18 is set, first preference it checks for the actual argument passed"
   ]
  },
  {
   "cell_type": "code",
   "execution_count": null,
   "id": "17164e9c-319b-4c7b-8bd6-665fa93528c8",
   "metadata": {},
   "outputs": [],
   "source": []
  }
 ],
 "metadata": {
  "kernelspec": {
   "display_name": "Python 3 (ipykernel)",
   "language": "python",
   "name": "python3"
  },
  "language_info": {
   "codemirror_mode": {
    "name": "ipython",
    "version": 3
   },
   "file_extension": ".py",
   "mimetype": "text/x-python",
   "name": "python",
   "nbconvert_exporter": "python",
   "pygments_lexer": "ipython3",
   "version": "3.12.4"
  }
 },
 "nbformat": 4,
 "nbformat_minor": 5
}
