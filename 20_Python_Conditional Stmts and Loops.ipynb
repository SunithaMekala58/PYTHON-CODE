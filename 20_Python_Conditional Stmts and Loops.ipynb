{
 "cells": [
  {
   "cell_type": "markdown",
   "id": "b3476e6e-ee08-46b2-89a2-d9b837426762",
   "metadata": {},
   "source": [
    "# CONDITIONAL STATEMENTS AND LOOPS IN PYTHON - (BY SUNITHA MEKALA)"
   ]
  },
  {
   "cell_type": "markdown",
   "id": "056d7791-4649-4111-940e-864bba33df85",
   "metadata": {},
   "source": [
    "### if\n",
    "\n",
    "### if else\n",
    "\n",
    "### if elif else\n",
    "\n",
    "### nested if"
   ]
  },
  {
   "cell_type": "code",
   "execution_count": 3,
   "id": "95c2ba58-02f0-443b-b9b1-d5ab44a6b401",
   "metadata": {},
   "outputs": [
    {
     "name": "stdout",
     "output_type": "stream",
     "text": [
      "Data Science\n"
     ]
    }
   ],
   "source": [
    "if True: # indentiation is always 4 spaces\n",
    "    print('Data Science')"
   ]
  },
  {
   "cell_type": "code",
   "execution_count": 4,
   "id": "86570920-e22a-4df4-a256-a8635d3dfce5",
   "metadata": {},
   "outputs": [
    {
     "name": "stdout",
     "output_type": "stream",
     "text": [
      "bye for now\n"
     ]
    }
   ],
   "source": [
    "if False:\n",
    "    print('Data Science')\n",
    "print('bye for now')"
   ]
  },
  {
   "cell_type": "code",
   "execution_count": 5,
   "id": "d550a9f4-828e-47a2-9f3c-c1a36ffee257",
   "metadata": {},
   "outputs": [
    {
     "name": "stdout",
     "output_type": "stream",
     "text": [
      "Data Science\n",
      "bye for now\n"
     ]
    }
   ],
   "source": [
    "if True: # indentiation is always 4 spaces\n",
    "    print('Data Science')\n",
    "print('bye for now')"
   ]
  },
  {
   "cell_type": "markdown",
   "id": "1b892a25-4587-4a88-bfdd-6f684360c843",
   "metadata": {},
   "source": [
    "Lets do one program as if number is divide by 2 then reminder is 0 then it is even number \n",
    "if reminder is not 0 then it is odd number"
   ]
  },
  {
   "cell_type": "code",
   "execution_count": 7,
   "id": "02c0430b-db51-4eac-94d1-a7afabfa6abe",
   "metadata": {},
   "outputs": [
    {
     "name": "stdout",
     "output_type": "stream",
     "text": [
      "Even number\n"
     ]
    }
   ],
   "source": [
    "#to print only even number\n",
    "\n",
    "x = 14\n",
    "r = x % 2 \n",
    "\n",
    "if r == 0:\n",
    "    print('Even number')\n",
    "\n",
    "if r == 1:\n",
    "    print('Odd Number')"
   ]
  },
  {
   "cell_type": "code",
   "execution_count": 8,
   "id": "0b6bc5e3-6a6b-45b9-b472-d25a8eaaa8b3",
   "metadata": {},
   "outputs": [
    {
     "name": "stdout",
     "output_type": "stream",
     "text": [
      "Even number\n"
     ]
    }
   ],
   "source": [
    "#to print only even number\n",
    "\n",
    "x = 14\n",
    "r = x % 2 \n",
    "\n",
    "if r == 0:\n",
    "    print('Even number')\n",
    "else:\n",
    "    print('Odd Number')"
   ]
  },
  {
   "cell_type": "code",
   "execution_count": 9,
   "id": "5e3b8575-bb35-4e67-8da2-6d2f7ded7cbe",
   "metadata": {},
   "outputs": [],
   "source": [
    "#to print only even number\n",
    "x = 11\n",
    "r = x % 2 \n",
    "\n",
    "if r == 0:\n",
    "    print('Even number')    "
   ]
  },
  {
   "cell_type": "markdown",
   "id": "e8a0da67-86cd-432d-8f9a-db52a0a0f836",
   "metadata": {},
   "source": [
    "Note : for the above code no output as the condition dosent satisfy"
   ]
  },
  {
   "cell_type": "code",
   "execution_count": 11,
   "id": "75b31351-6ff2-4ba4-afea-5f3f78131735",
   "metadata": {},
   "outputs": [
    {
     "name": "stdout",
     "output_type": "stream",
     "text": [
      "Even number\n",
      "odd number\n"
     ]
    }
   ],
   "source": [
    "x = 8\n",
    "r = x % 2 \n",
    "\n",
    "if r == 0:\n",
    "    print('Even number')\n",
    "print('odd number')"
   ]
  },
  {
   "cell_type": "code",
   "execution_count": 12,
   "id": "08f8fc33-33e7-40ff-bb3a-4faaf8919586",
   "metadata": {},
   "outputs": [
    {
     "name": "stdout",
     "output_type": "stream",
     "text": [
      "Even number\n"
     ]
    }
   ],
   "source": [
    "x = 8\n",
    "r = x % 2 \n",
    "\n",
    "if r == 0:\n",
    "    print('Even number')\n",
    "if r == 1:\n",
    "    print('odd number')"
   ]
  },
  {
   "cell_type": "code",
   "execution_count": 13,
   "id": "f5a3f869-61b7-483c-b349-b1e7d4e4a257",
   "metadata": {},
   "outputs": [
    {
     "name": "stdout",
     "output_type": "stream",
     "text": [
      "odd number\n"
     ]
    }
   ],
   "source": [
    "x = 7\n",
    "r = x % 2 \n",
    "\n",
    "if r == 0:\n",
    "    print('Even number')\n",
    "if r == 1:\n",
    "    print('odd number')"
   ]
  },
  {
   "cell_type": "code",
   "execution_count": 14,
   "id": "ee2eb40f-4b9e-459e-b906-5fef1b48f8d8",
   "metadata": {},
   "outputs": [
    {
     "name": "stdout",
     "output_type": "stream",
     "text": [
      "odd number\n"
     ]
    }
   ],
   "source": [
    "x = 13\n",
    "r = x % 2 \n",
    "\n",
    "if r == 0:\n",
    "    print('Even number')\n",
    "    \n",
    "if r != 0:\n",
    "    print('odd number')"
   ]
  },
  {
   "cell_type": "markdown",
   "id": "b4c3b25d-57d9-41ef-9185-503d222150f6",
   "metadata": {},
   "source": [
    "if we observe the code its too many line cuz many of the coder always they wanted to reduce the code length which is very good practise. instead of 2 if we can use if-- else "
   ]
  },
  {
   "cell_type": "code",
   "execution_count": 16,
   "id": "f6086a9c-0103-4274-8c9b-09a50f8c0130",
   "metadata": {},
   "outputs": [
    {
     "name": "stdout",
     "output_type": "stream",
     "text": [
      " Even number\n"
     ]
    }
   ],
   "source": [
    "x = 2\n",
    "r = x % 2\n",
    "\n",
    "if r == 0:\n",
    "    print( ' Even number')\n",
    "else:\n",
    "    print('Odd Number')"
   ]
  },
  {
   "cell_type": "code",
   "execution_count": 17,
   "id": "b85420d0-7d55-440a-895f-be2a005352cb",
   "metadata": {},
   "outputs": [
    {
     "name": "stdout",
     "output_type": "stream",
     "text": [
      "Odd Number\n"
     ]
    }
   ],
   "source": [
    "x = 3\n",
    "r = x % 2\n",
    "\n",
    "if r == 0:\n",
    "    print('Even number')\n",
    "    if x>5:\n",
    "        print('greater number')\n",
    "else:\n",
    "    print('Odd Number')"
   ]
  },
  {
   "cell_type": "code",
   "execution_count": 18,
   "id": "b6b26cb2-8a28-4bde-b06b-82cc04a437e8",
   "metadata": {},
   "outputs": [
    {
     "name": "stdout",
     "output_type": "stream",
     "text": [
      "Even number\n"
     ]
    }
   ],
   "source": [
    "x = 4\n",
    "r = x % 2\n",
    "\n",
    "if r == 0:\n",
    "    print('Even number')\n",
    "    if x>5:\n",
    "        print('greater number')\n",
    "else:\n",
    "    print('Odd Number')"
   ]
  },
  {
   "cell_type": "markdown",
   "id": "0721bc9b-24c2-4903-8194-d5b745fdb341",
   "metadata": {},
   "source": [
    "NESTED IF (if we have 2 condition so we need to implment with nested if )"
   ]
  },
  {
   "cell_type": "code",
   "execution_count": 20,
   "id": "b16f51a7-b09a-4f9d-81c8-d44861d3c7c9",
   "metadata": {},
   "outputs": [
    {
     "name": "stdout",
     "output_type": "stream",
     "text": [
      "Even number\n",
      "greater number\n"
     ]
    }
   ],
   "source": [
    "x = 6\n",
    "r = x % 2\n",
    "if r == 0:\n",
    "    print('Even number')\n",
    "    if x>5:\n",
    "        print('greater number')\n",
    "    else:\n",
    "        print('not greater')\n",
    "else:\n",
    "    print('Odd number')"
   ]
  },
  {
   "cell_type": "code",
   "execution_count": 21,
   "id": "2127b1f5-f756-44e0-8280-25bdd26f028a",
   "metadata": {},
   "outputs": [
    {
     "name": "stdout",
     "output_type": "stream",
     "text": [
      "Even number\n",
      "not greater\n"
     ]
    }
   ],
   "source": [
    "x = 2\n",
    "r = x % 2\n",
    "\n",
    "if r == 0:\n",
    "    print('Even number')\n",
    "    if x>5:\n",
    "        print('greater number')\n",
    "    else:\n",
    "        print('not greater')\n",
    "else:\n",
    "    print('Odd Number')    "
   ]
  },
  {
   "cell_type": "markdown",
   "id": "3379098f-1b92-4484-af58-8cc121d1b7dd",
   "metadata": {},
   "source": [
    "We do have concept of ( IF - ELIF- ELSE) e.g i want to print ( 1--> one , 2 --> two, 3--> three, 4--> four, 5- five)"
   ]
  },
  {
   "cell_type": "code",
   "execution_count": 23,
   "id": "39da3e49-202b-42cc-9cb1-20c0334fe385",
   "metadata": {},
   "outputs": [
    {
     "name": "stdout",
     "output_type": "stream",
     "text": [
      "one\n"
     ]
    }
   ],
   "source": [
    "x = 1\n",
    "\n",
    "if(x == 1):\n",
    "    print('one')\n",
    "if(x == 2):\n",
    "    print('Two')\n",
    "if(x == 3):\n",
    "    print('Three')\n",
    "if(x == 4):\n",
    "    print('four')"
   ]
  },
  {
   "cell_type": "code",
   "execution_count": 24,
   "id": "151722f6-2803-4bb8-8335-5405bf7f8fab",
   "metadata": {},
   "outputs": [],
   "source": [
    "x = 5\n",
    "\n",
    "if(x == 1):\n",
    "    print('one')\n",
    "elif(x == 2):\n",
    "    print('Two')\n",
    "elif(x == 3):\n",
    "    print('Three')\n",
    "elif(x == 4):\n",
    "    print('four')"
   ]
  },
  {
   "cell_type": "markdown",
   "id": "6a1debf1-9d38-4ecb-81aa-e74b7865576a",
   "metadata": {},
   "source": [
    "Note: We will not get the output, as 5 is not matched."
   ]
  },
  {
   "cell_type": "code",
   "execution_count": 26,
   "id": "ead320d2-8461-4de9-a8ce-3c7f4a098955",
   "metadata": {},
   "outputs": [
    {
     "name": "stdout",
     "output_type": "stream",
     "text": [
      "wrong output\n"
     ]
    }
   ],
   "source": [
    "x = 5\n",
    "\n",
    "if(x == 1):\n",
    "    print('one')\n",
    "elif(x == 2):\n",
    "    print('Two')\n",
    "elif(x == 3):\n",
    "    print('Three')\n",
    "elif(x == 4):\n",
    "    print('four')\n",
    "else:\n",
    "    print('wrong output')"
   ]
  },
  {
   "cell_type": "code",
   "execution_count": 27,
   "id": "fdd9226d-db1e-4af3-a10e-c98e5384b7be",
   "metadata": {},
   "outputs": [
    {
     "name": "stdout",
     "output_type": "stream",
     "text": [
      "data science\n"
     ]
    }
   ],
   "source": [
    "print('data science')"
   ]
  },
  {
   "cell_type": "code",
   "execution_count": 28,
   "id": "de5378c1-99c1-422d-a7c4-00bf248e9e52",
   "metadata": {},
   "outputs": [
    {
     "name": "stdout",
     "output_type": "stream",
     "text": [
      "data science\n",
      "data science\n"
     ]
    }
   ],
   "source": [
    "print('data science')\n",
    "print('data science')"
   ]
  },
  {
   "cell_type": "markdown",
   "id": "694d8c83-cea2-47ab-aac2-431328e68550",
   "metadata": {},
   "source": [
    "LOOPS -- in programing world some time we keep on repeating , may be you want to repeat 5 statement so one way is copy & paste multiple times or other way is. if you want to print the datascience 10 times then what you will you cant copy for 10 times , if you want to print 1000 times then you cant do manualy . \n",
    "that is the reason why we need to apply loop ->\n",
    "2 type of loops --  While loop & For loop"
   ]
  },
  {
   "cell_type": "code",
   "execution_count": 30,
   "id": "9b1a8918-f7c0-4797-9bec-7f6d36d01353",
   "metadata": {},
   "outputs": [
    {
     "name": "stdout",
     "output_type": "stream",
     "text": [
      "data science\n",
      "data science\n",
      "data science\n",
      "data science\n",
      "data science\n"
     ]
    }
   ],
   "source": [
    "i = 1        # initialising\n",
    "while i<=5:\n",
    "    print('data science')\n",
    "    i = i + 1  #increment"
   ]
  },
  {
   "cell_type": "code",
   "execution_count": 31,
   "id": "52f6c0cf-9e63-4bd1-9b29-930bad8dd62b",
   "metadata": {},
   "outputs": [
    {
     "name": "stdout",
     "output_type": "stream",
     "text": [
      "data science\n",
      "data science\n",
      "data science\n",
      "data science\n",
      "data science\n"
     ]
    }
   ],
   "source": [
    "i = 5          # initializing\n",
    "while i>=1:    # condition\n",
    "    print('data science')\n",
    "    i = i - 1  # decrement"
   ]
  },
  {
   "cell_type": "code",
   "execution_count": 32,
   "id": "b5f3de8c-6d24-4b56-828a-2c2a9bdfa364",
   "metadata": {},
   "outputs": [
    {
     "name": "stdout",
     "output_type": "stream",
     "text": [
      "data science : 1\n",
      "data science : 2\n",
      "data science : 3\n",
      "data science : 4\n",
      "data science : 5\n"
     ]
    }
   ],
   "source": [
    "i = 1          # initializing\n",
    "while i<=5:    # condition\n",
    "    print('data science',':',i)\n",
    "    i = i + 1  # increment"
   ]
  },
  {
   "cell_type": "code",
   "execution_count": 33,
   "id": "fb5bd112-d7d7-4b0a-83e2-e47d5dd517c5",
   "metadata": {},
   "outputs": [
    {
     "name": "stdout",
     "output_type": "stream",
     "text": [
      "data science : 5\n",
      "data science : 4\n",
      "data science : 3\n",
      "data science : 2\n",
      "data science : 1\n"
     ]
    }
   ],
   "source": [
    "i = 5          # initializing\n",
    "while i>=1:    # condition\n",
    "    print('data science',':',i)\n",
    "    i = i - 1  # decrement"
   ]
  },
  {
   "cell_type": "markdown",
   "id": "a0a3b93c-6db1-4209-8e0b-a64a47ef362c",
   "metadata": {},
   "source": [
    "can we use multiple while loop || nested while loop \n",
    "to understand nested while indepth, \n",
    "you can use pycharm debug with f8 option"
   ]
  },
  {
   "cell_type": "code",
   "execution_count": 76,
   "id": "6816bfe4-4459-4520-a990-b4bf1694e514",
   "metadata": {},
   "outputs": [
    {
     "name": "stdout",
     "output_type": "stream",
     "text": [
      "data science\n",
      "technology\n",
      "technology\n",
      "technology\n",
      "technology\n",
      "\n",
      "data science\n",
      "technology\n",
      "technology\n",
      "technology\n",
      "technology\n",
      "\n",
      "data science\n",
      "technology\n",
      "technology\n",
      "technology\n",
      "technology\n",
      "\n",
      "data science\n",
      "technology\n",
      "technology\n",
      "technology\n",
      "technology\n",
      "\n",
      "data science\n",
      "technology\n",
      "technology\n",
      "technology\n",
      "technology\n",
      "\n"
     ]
    }
   ],
   "source": [
    "i = 1\n",
    "\n",
    "while i<=5:\n",
    "    print('data science')\n",
    "    j = 1\n",
    "    while j<=4:\n",
    "        print('technology')\n",
    "        j = j + 1\n",
    "        \n",
    "    i = i + 1\n",
    "    print()"
   ]
  },
  {
   "cell_type": "code",
   "execution_count": 78,
   "id": "8c301c2a-842d-4124-956e-31bc7cba9c5f",
   "metadata": {},
   "outputs": [
    {
     "name": "stdout",
     "output_type": "stream",
     "text": [
      " data science technology technology technology technology\n",
      " data science technology technology technology technology\n",
      " data science technology technology technology technology\n",
      " data science technology technology technology technology\n",
      " data science technology technology technology technology\n"
     ]
    }
   ],
   "source": [
    "i = 1\n",
    "while i<=5:\n",
    "    print(' data science', end = \"\") # when we mention end then new line will not create\n",
    "    j = 1\n",
    "    while j<=4:\n",
    "        print(' technology', end=\"\")\n",
    "        j = j + 1\n",
    "        \n",
    "    i = i + 1\n",
    "    print()"
   ]
  },
  {
   "cell_type": "code",
   "execution_count": 80,
   "id": "56669a4e-35eb-4ca5-9d78-493e7b0fbf72",
   "metadata": {},
   "outputs": [
    {
     "name": "stdout",
     "output_type": "stream",
     "text": [
      " data science  * technology  * technology  * technology  * technology  *\n",
      " data science  * technology  * technology  * technology  * technology  *\n",
      " data science  * technology  * technology  * technology  * technology  *\n",
      " data science  * technology  * technology  * technology  * technology  *\n",
      " data science  * technology  * technology  * technology  * technology  *\n"
     ]
    }
   ],
   "source": [
    "i = 1\n",
    "while i<=5:\n",
    "    print(' data science', end = \"  *\") # when we mention end then new line will not create\n",
    "    j = 1\n",
    "    while j<=4:\n",
    "        print(' technology', end=\"  *\")\n",
    "        j = j + 1\n",
    "        \n",
    "    i = i + 1\n",
    "    print()"
   ]
  },
  {
   "cell_type": "code",
   "execution_count": 82,
   "id": "154b2682-ea9a-4be1-9b33-fe09b61b08b9",
   "metadata": {},
   "outputs": [
    {
     "name": "stdout",
     "output_type": "stream",
     "text": [
      "0 1 2 3 \n",
      "0 2 4 6 \n",
      "0 3 6 9 \n",
      "0 4 8 12 \n"
     ]
    }
   ],
   "source": [
    "i = 1\n",
    "while i <= 4 :\n",
    "    j = 0\n",
    "    while  j <= 3 :\n",
    "        print(i*j, end=\" \")\n",
    "        j += 1\n",
    "    print()\n",
    "    i += 1"
   ]
  },
  {
   "cell_type": "markdown",
   "id": "1d2c64af-4e7a-42d0-8d68-3dfa1eaac8a3",
   "metadata": {},
   "source": [
    "FOR LOOP  -\n",
    "normally while loop it work with condition but for loop it will work with sequence (list, string,int)\n"
   ]
  },
  {
   "cell_type": "code",
   "execution_count": 86,
   "id": "945c7dbc-4153-4888-bbe3-70ca4d916c37",
   "metadata": {},
   "outputs": [
    {
     "name": "stdout",
     "output_type": "stream",
     "text": [
      "n\n",
      "i\n",
      "t\n"
     ]
    }
   ],
   "source": [
    "name = 'nit'\n",
    "\n",
    "for i in name:\n",
    "    print(i)"
   ]
  },
  {
   "cell_type": "code",
   "execution_count": 88,
   "id": "06e01758-c45c-4442-9b75-63a118628912",
   "metadata": {},
   "outputs": [
    {
     "name": "stdout",
     "output_type": "stream",
     "text": [
      "1\n",
      "3.5\n",
      "hallo\n"
     ]
    }
   ],
   "source": [
    "name1 = [1,3.5,'hallo']\n",
    "\n",
    "for i in name1:\n",
    "    print(i)"
   ]
  },
  {
   "cell_type": "code",
   "execution_count": 90,
   "id": "8144f974-c473-4612-81e4-ed6297abcefe",
   "metadata": {},
   "outputs": [
    {
     "name": "stdout",
     "output_type": "stream",
     "text": [
      "2\n",
      "3\n",
      "7.8\n",
      "hi\n"
     ]
    }
   ],
   "source": [
    "for i in [2, 3, 7.8, 'hi']:\n",
    "    print(i)"
   ]
  },
  {
   "cell_type": "code",
   "execution_count": 92,
   "id": "6d349cb3-5212-4f7f-91a3-c48ef07c1642",
   "metadata": {},
   "outputs": [
    {
     "name": "stdout",
     "output_type": "stream",
     "text": [
      "0\n",
      "1\n",
      "2\n",
      "3\n",
      "4\n"
     ]
    }
   ],
   "source": [
    "for i in range(5):\n",
    "    print(i)"
   ]
  },
  {
   "cell_type": "code",
   "execution_count": 94,
   "id": "c8a069f0-c15e-4f2c-9010-9837cacea09b",
   "metadata": {},
   "outputs": [
    {
     "name": "stdout",
     "output_type": "stream",
     "text": [
      "1\n",
      "2\n",
      "3\n",
      "4\n"
     ]
    }
   ],
   "source": [
    "for i in range(1,5):\n",
    "    print(i)"
   ]
  },
  {
   "cell_type": "code",
   "execution_count": 96,
   "id": "bbaad950-0a8a-41dc-892a-2fc07adc67ab",
   "metadata": {},
   "outputs": [
    {
     "name": "stdout",
     "output_type": "stream",
     "text": [
      "1\n",
      "4\n",
      "7\n"
     ]
    }
   ],
   "source": [
    "for i in range(1,10,3):\n",
    "    print(i)"
   ]
  },
  {
   "cell_type": "code",
   "execution_count": 98,
   "id": "16fe55f6-de24-4b56-9b05-97b9bbb82461",
   "metadata": {},
   "outputs": [
    {
     "name": "stdout",
     "output_type": "stream",
     "text": [
      "1\n",
      "2\n",
      "3\n",
      "4\n",
      "6\n",
      "7\n",
      "8\n",
      "9\n"
     ]
    }
   ],
   "source": [
    "# print the numer which is not divisible by 5\n",
    "\n",
    "for i in range(1,11):\n",
    "    \n",
    "    if i%5 != 0 :\n",
    "      print(i)"
   ]
  },
  {
   "cell_type": "code",
   "execution_count": 100,
   "id": "682e26bf-2f24-4872-94ef-bee3c439784a",
   "metadata": {},
   "outputs": [
    {
     "name": "stdout",
     "output_type": "stream",
     "text": [
      "5\n",
      "10\n",
      "15\n",
      "20\n",
      "25\n",
      "30\n",
      "35\n",
      "40\n",
      "45\n",
      "50\n"
     ]
    }
   ],
   "source": [
    "# can you write the python code for 5 multiplication table \n",
    "\n",
    "for i in range(1,51):\n",
    "    \n",
    "    if i%5 == 0:\n",
    "      print(i)"
   ]
  },
  {
   "cell_type": "markdown",
   "id": "48b81a96-eadf-4071-868f-0aec5010597f",
   "metadata": {},
   "source": [
    "## LETS DISCUSS ABOUT 3 KEYWORDS -- BREAK || CONTINUE || PASS\n",
    "BREAK STATEMNT - if you apply break statment in a loop then it will end the loop\n",
    "\n",
    "Pass = skips block of code( function, class etc)\n",
    "\n",
    "Continue= skips 1 step/iteration during loop \n",
    "\n",
    "Break= jumps out of the function/loop"
   ]
  },
  {
   "cell_type": "code",
   "execution_count": 114,
   "id": "78227a6b-2df1-46bc-bfe1-896093ffbd28",
   "metadata": {},
   "outputs": [
    {
     "name": "stdout",
     "output_type": "stream",
     "text": [
      "1\n",
      "2\n",
      "3\n",
      "4\n",
      "5\n",
      "6\n",
      "7\n",
      "8\n",
      "9\n",
      "10\n"
     ]
    }
   ],
   "source": [
    "for i in range(1,11):\n",
    "    print(i)    "
   ]
  },
  {
   "cell_type": "code",
   "execution_count": 116,
   "id": "984d2aa7-b91e-4984-a23c-f325d5116798",
   "metadata": {},
   "outputs": [],
   "source": [
    "for i in range(1,11):\n",
    "    if i == 5:\n",
    "        break #==> WHILE YOU WORK WITH COMPUTER VISION PROJECT"
   ]
  },
  {
   "cell_type": "code",
   "execution_count": 118,
   "id": "ff444d3c-fbfd-4844-b039-5ab684d836e7",
   "metadata": {},
   "outputs": [
    {
     "name": "stdout",
     "output_type": "stream",
     "text": [
      "1\n",
      "2\n",
      "3\n",
      "4\n"
     ]
    }
   ],
   "source": [
    "for i in range(1,11):\n",
    "    if i == 5:\n",
    "        break #==> WHILE YOU WORK WITH COMPUTER VISION PROJECT \n",
    "    print(i)"
   ]
  },
  {
   "cell_type": "code",
   "execution_count": 120,
   "id": "6fe7cd7a-119a-4554-80d9-7b20a6d61f90",
   "metadata": {},
   "outputs": [
    {
     "name": "stdout",
     "output_type": "stream",
     "text": [
      "5\n"
     ]
    }
   ],
   "source": [
    "for i in range(1,11):\n",
    "    if i == 5:\n",
    "        break #==> WHILE YOU WORK WITH COMPUTER VISION PROJECT \n",
    "print(i)"
   ]
  },
  {
   "cell_type": "markdown",
   "id": "14942cef-fc39-43fa-94f8-1734777bf44d",
   "metadata": {},
   "source": [
    "#in continue ,  loop wont be terminate"
   ]
  },
  {
   "cell_type": "code",
   "execution_count": 123,
   "id": "f52bc7c8-7b36-4f5a-9fe5-ffd29d163b38",
   "metadata": {},
   "outputs": [
    {
     "name": "stdout",
     "output_type": "stream",
     "text": [
      "1\n",
      "2\n",
      "3\n",
      "4\n",
      "6\n",
      "7\n",
      "8\n",
      "9\n",
      "10\n"
     ]
    }
   ],
   "source": [
    "for i in range(1,11):\n",
    "    if i == 5:\n",
    "        continue \n",
    "    print(i)"
   ]
  },
  {
   "cell_type": "code",
   "execution_count": 125,
   "id": "8ec4c280-b7c9-4792-97dc-71ac4c5a30d2",
   "metadata": {},
   "outputs": [
    {
     "name": "stdout",
     "output_type": "stream",
     "text": [
      "hello  1\n",
      "hello  2\n",
      "hello  3\n",
      "hello  4\n",
      "hello  6\n",
      "hello  7\n",
      "hello  8\n",
      "hello  9\n",
      "hello  10\n"
     ]
    }
   ],
   "source": [
    "for i in range(1,11):\n",
    "    if i == 5:\n",
    "        continue \n",
    "    print('hello ',i)    "
   ]
  },
  {
   "cell_type": "markdown",
   "id": "c1b08999-47bd-48ee-82d3-6dfbdd6c36fb",
   "metadata": {},
   "source": [
    "#PASS Statement - pass the code & it wont go"
   ]
  },
  {
   "cell_type": "code",
   "execution_count": null,
   "id": "ae86409c-3d2a-4fb0-8059-bd2e05a4a06b",
   "metadata": {},
   "outputs": [],
   "source": [
    "for i in range(1,11):"
   ]
  },
  {
   "cell_type": "code",
   "execution_count": 131,
   "id": "d66411f6-589e-407d-a6ba-6a49b6fdb77a",
   "metadata": {},
   "outputs": [],
   "source": [
    "for i in range(1,11):\n",
    "    pass"
   ]
  },
  {
   "cell_type": "code",
   "execution_count": 133,
   "id": "8adb6699-c0b6-4fda-90bf-0adf0068ad04",
   "metadata": {},
   "outputs": [
    {
     "name": "stdout",
     "output_type": "stream",
     "text": [
      "# # # #\n",
      "# # # #\n",
      "# # # #\n",
      "# # # #\n"
     ]
    }
   ],
   "source": [
    "print('# # # #')\n",
    "print('# # # #')\n",
    "print('# # # #')\n",
    "print('# # # #')"
   ]
  },
  {
   "cell_type": "code",
   "execution_count": 139,
   "id": "20aacba8-b94c-40b4-86b1-a50eeaf20428",
   "metadata": {},
   "outputs": [
    {
     "name": "stdout",
     "output_type": "stream",
     "text": [
      "# # # # "
     ]
    }
   ],
   "source": [
    "for j in range(4):\n",
    "    print('#', end = \" \")"
   ]
  },
  {
   "cell_type": "code",
   "execution_count": 141,
   "id": "5e76f8f5-f0f5-4ef7-8c66-63ed06260299",
   "metadata": {},
   "outputs": [
    {
     "name": "stdout",
     "output_type": "stream",
     "text": [
      "#  #  #  #  #  #  #  #  "
     ]
    }
   ],
   "source": [
    "for j in range(4):\n",
    "    print('#', end=\"  \")\n",
    "    \n",
    "for j in range(4):\n",
    "    print('#', end=\"  \")"
   ]
  },
  {
   "cell_type": "code",
   "execution_count": 143,
   "id": "92cd0780-ccbe-4b6a-84df-6c5e1767e11e",
   "metadata": {},
   "outputs": [
    {
     "name": "stdout",
     "output_type": "stream",
     "text": [
      "#  #  #  #  \n",
      "#  #  #  #  "
     ]
    }
   ],
   "source": [
    "for j in range(4):\n",
    "    print('#', end=\"  \")\n",
    "    \n",
    "print()\n",
    "\n",
    "for j in range(4):\n",
    "    print('#', end=\"  \")"
   ]
  },
  {
   "cell_type": "code",
   "execution_count": 145,
   "id": "2de7847b-29d7-4dd8-902e-17b14d4141f5",
   "metadata": {},
   "outputs": [
    {
     "name": "stdout",
     "output_type": "stream",
     "text": [
      "#  #  #  #  \n",
      "#  #  #  #  \n",
      "#  #  #  #  \n",
      "#  #  #  #  "
     ]
    }
   ],
   "source": [
    "for j in range(4):\n",
    "    print('#', end=\"  \")\n",
    "    \n",
    "print()\n",
    "\n",
    "for j in range(4):\n",
    "    print('#', end=\"  \")\n",
    "\n",
    "print()\n",
    "\n",
    "for j in range(4):\n",
    "    print('#', end=\"  \")\n",
    "    \n",
    "print()\n",
    "\n",
    "for j in range(4):\n",
    "    print('#', end=\"  \")"
   ]
  },
  {
   "cell_type": "code",
   "execution_count": 157,
   "id": "b2181d8e-d3af-4fe3-80a0-92e0081fdc4f",
   "metadata": {},
   "outputs": [
    {
     "name": "stdout",
     "output_type": "stream",
     "text": [
      "# # # # \n",
      "# # # # \n",
      "# # # # \n",
      "# # # # \n"
     ]
    }
   ],
   "source": [
    "for i in range(4):\n",
    "    for j in range(4):\n",
    "        print('#', end = \" \")\n",
    "    print()"
   ]
  },
  {
   "cell_type": "code",
   "execution_count": 159,
   "id": "901a5ef1-e7f1-4cbf-8877-21f85cd973aa",
   "metadata": {},
   "outputs": [
    {
     "name": "stdout",
     "output_type": "stream",
     "text": [
      "\n",
      "# \n",
      "# # \n",
      "# # # \n",
      "# # # # \n"
     ]
    }
   ],
   "source": [
    "for i in range(5):\n",
    "    for j in range(i):\n",
    "        print('#', end = \" \")\n",
    "    print()\n"
   ]
  },
  {
   "cell_type": "code",
   "execution_count": 173,
   "id": "8d4218c4-f7ab-488f-9ddc-7a1fc484a7c9",
   "metadata": {},
   "outputs": [
    {
     "name": "stdout",
     "output_type": "stream",
     "text": [
      "#  \n",
      "#  #  \n",
      "#  #  #  \n",
      "#  #  #  #  \n"
     ]
    }
   ],
   "source": [
    "for i in range(4):\n",
    "    for j in range(i + 1):\n",
    "        print('#', end=\"  \")\n",
    "    print()"
   ]
  },
  {
   "cell_type": "code",
   "execution_count": 175,
   "id": "8744ec90-3bfa-4330-a286-8aa1485ac113",
   "metadata": {},
   "outputs": [
    {
     "name": "stdout",
     "output_type": "stream",
     "text": [
      "#  #  #  #  \n",
      "#  #  #  \n",
      "#  #  \n",
      "#  \n"
     ]
    }
   ],
   "source": [
    "for i in range(4):\n",
    "    for j in range(4 - i):\n",
    "        print('#', end=\"  \")\n",
    "    print()"
   ]
  },
  {
   "cell_type": "markdown",
   "id": "8ee7e2b5-e9c3-4630-8eee-20bfc11e7923",
   "metadata": {},
   "source": [
    "# For|Else in python\n",
    "in other language for else not supportable but in python it is supportable\n",
    "eg- lets print the number from 1- 20 & we dont want print number which is divisible by 5"
   ]
  },
  {
   "cell_type": "code",
   "execution_count": 178,
   "id": "d71fa1fd-f770-4a03-ad5f-b94812a00e1a",
   "metadata": {},
   "outputs": [
    {
     "name": "stdout",
     "output_type": "stream",
     "text": [
      "15\n"
     ]
    }
   ],
   "source": [
    "nums = [12,15,18,21,26]\n",
    "\n",
    "for num in nums:\n",
    "    if num % 5 == 0:\n",
    "        print(num)  "
   ]
  },
  {
   "cell_type": "code",
   "execution_count": 183,
   "id": "ad7bf722-c373-4dea-a0ff-17e320800371",
   "metadata": {},
   "outputs": [
    {
     "name": "stdout",
     "output_type": "stream",
     "text": [
      "25\n"
     ]
    }
   ],
   "source": [
    "nums = [12,14,18,21,25,20]\n",
    "for num in nums:\n",
    "    if num % 5 == 0:\n",
    "        print(num)  \n",
    "        break #it will print only 1 number then it break    "
   ]
  },
  {
   "cell_type": "code",
   "execution_count": 185,
   "id": "805f9c56-df3c-40d8-80d9-08546e79bd10",
   "metadata": {},
   "outputs": [],
   "source": [
    "nums = [7,14,18,21,23,27] #hear there is no number which is divisible by 5 we got output as blank\n",
    "for num in nums:\n",
    "    if num % 5 == 0:\n",
    "        print(num)  \n",
    "       # break"
   ]
  },
  {
   "cell_type": "code",
   "execution_count": 187,
   "id": "1fa1f0e9-e0c3-49a1-b52f-00eebe711a9e",
   "metadata": {},
   "outputs": [
    {
     "name": "stdout",
     "output_type": "stream",
     "text": [
      "Number Not Found\n",
      "Number Not Found\n",
      "Number Not Found\n",
      "Number Not Found\n",
      "Number Not Found\n",
      "Number Not Found\n",
      "Number Not Found\n"
     ]
    }
   ],
   "source": [
    "nums = [7,14,18,21,23,27,22] #hear there is no number which is divisible by 5 we got output as blank\n",
    "for num in nums:\n",
    "    if num % 5 == 0:\n",
    "        print(num)  \n",
    "        break\n",
    "    else:\n",
    "        print('Number Not Found') #every iteration it cheking condition"
   ]
  },
  {
   "cell_type": "code",
   "execution_count": 189,
   "id": "5703d438-43f3-4dfc-a06e-f8a093691cf7",
   "metadata": {},
   "outputs": [
    {
     "name": "stdout",
     "output_type": "stream",
     "text": [
      "Not Found\n"
     ]
    }
   ],
   "source": [
    "nums = [7,14,18,21,23,27] #hear there is no number which is divisible by 5 we got output as blank\n",
    "for num in nums:\n",
    "    if num % 5 == 0:\n",
    "        print(num)  \n",
    "        #break\n",
    "else:\n",
    "        print('Not Found') # hear else we dont write in if block but we can write in for block only"
   ]
  },
  {
   "cell_type": "markdown",
   "id": "4b9c9804-7fe2-4a1d-a76c-426071925f17",
   "metadata": {},
   "source": [
    "### prime number - how to check given number is prime number or not"
   ]
  },
  {
   "cell_type": "code",
   "execution_count": 194,
   "id": "f0ba2e69-87e7-4e17-afab-a84e6fb6d9ef",
   "metadata": {},
   "outputs": [
    {
     "name": "stdout",
     "output_type": "stream",
     "text": [
      "Not prime Number\n"
     ]
    }
   ],
   "source": [
    "num = 12\n",
    "\n",
    "for i in range(2,num):\n",
    "    if num % i == 0:\n",
    "        print('Not prime Number')\n",
    "        break\n",
    "else:\n",
    "    print('Prime Number')"
   ]
  }
 ],
 "metadata": {
  "kernelspec": {
   "display_name": "Python 3 (ipykernel)",
   "language": "python",
   "name": "python3"
  },
  "language_info": {
   "codemirror_mode": {
    "name": "ipython",
    "version": 3
   },
   "file_extension": ".py",
   "mimetype": "text/x-python",
   "name": "python",
   "nbconvert_exporter": "python",
   "pygments_lexer": "ipython3",
   "version": "3.12.4"
  }
 },
 "nbformat": 4,
 "nbformat_minor": 5
}
