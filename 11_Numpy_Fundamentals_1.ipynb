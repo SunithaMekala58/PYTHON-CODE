{
 "cells": [
  {
   "cell_type": "markdown",
   "id": "6b54622c-071c-4160-9e65-968fc4a14ac7",
   "metadata": {},
   "source": [
    "# NumPy\n",
    "It is a Python library that provides a multidimensional array object, various derived objects (such as masked arrays and matrices) and an assortment of routines for fast operations on arrays, including mathematical, logical, shape manipulation, sorting, selecting, I/O, discrete fourier transforms, basic linear algebra, basic statistical operations, random simulation and much more."
   ]
  },
  {
   "cell_type": "markdown",
   "id": "85d100bb-89d6-40df-ab49-1ff8a3998c7c",
   "metadata": {},
   "source": [
    "# Creating Numpy array"
   ]
  },
  {
   "cell_type": "code",
   "execution_count": 3,
   "id": "fa74818d-1a0b-46a0-b885-b1d74e8d2594",
   "metadata": {},
   "outputs": [],
   "source": [
    "import numpy as np"
   ]
  },
  {
   "cell_type": "code",
   "execution_count": 4,
   "id": "f44653e9-760d-42e0-a9fd-11b5e9b0208f",
   "metadata": {},
   "outputs": [
    {
     "data": {
      "text/plain": [
       "'1.26.4'"
      ]
     },
     "execution_count": 4,
     "metadata": {},
     "output_type": "execute_result"
    }
   ],
   "source": [
    "np.__version__"
   ]
  },
  {
   "cell_type": "code",
   "execution_count": 5,
   "id": "556182a4-3b07-49a9-8e1f-59c40ad51d02",
   "metadata": {},
   "outputs": [
    {
     "data": {
      "text/plain": [
       "'3.12.4 | packaged by Anaconda, Inc. | (main, Jun 18 2024, 15:03:56) [MSC v.1929 64 bit (AMD64)]'"
      ]
     },
     "execution_count": 5,
     "metadata": {},
     "output_type": "execute_result"
    }
   ],
   "source": [
    "import sys\n",
    "sys.version"
   ]
  },
  {
   "cell_type": "code",
   "execution_count": 6,
   "id": "cba46f4d-e9f8-4acb-b97a-dc13ff5ec87c",
   "metadata": {},
   "outputs": [
    {
     "data": {
      "text/plain": [
       "[0, 1, 2, 3, 4, 5]"
      ]
     },
     "execution_count": 6,
     "metadata": {},
     "output_type": "execute_result"
    }
   ],
   "source": [
    "my_list = [0,1,2,3,4,5]\n",
    "my_list"
   ]
  },
  {
   "cell_type": "code",
   "execution_count": 7,
   "id": "9fe615c7-374a-4c20-94a3-5c2dd04c8d50",
   "metadata": {},
   "outputs": [
    {
     "data": {
      "text/plain": [
       "list"
      ]
     },
     "execution_count": 7,
     "metadata": {},
     "output_type": "execute_result"
    }
   ],
   "source": [
    "type(my_list)"
   ]
  },
  {
   "cell_type": "code",
   "execution_count": 8,
   "id": "0df0db93-596d-4a67-b987-e3c9e0577e41",
   "metadata": {},
   "outputs": [
    {
     "data": {
      "text/plain": [
       "array([  2,   4,  56, 422,  32,   1])"
      ]
     },
     "execution_count": 8,
     "metadata": {},
     "output_type": "execute_result"
    }
   ],
   "source": [
    "np.array([2,4,56,422,32,1]) # 1D Array"
   ]
  },
  {
   "cell_type": "code",
   "execution_count": 9,
   "id": "56239c04-4174-4752-9e06-83d40d35bc93",
   "metadata": {},
   "outputs": [
    {
     "name": "stdout",
     "output_type": "stream",
     "text": [
      "[  2   4  56 422  32   1]\n"
     ]
    }
   ],
   "source": [
    "a = np.array([2,4,56,422,32,1]) # Vector\n",
    "print(a)"
   ]
  },
  {
   "cell_type": "code",
   "execution_count": 10,
   "id": "b6153807-40e1-4c74-99d2-34445b8a389d",
   "metadata": {},
   "outputs": [
    {
     "data": {
      "text/plain": [
       "numpy.ndarray"
      ]
     },
     "execution_count": 10,
     "metadata": {},
     "output_type": "execute_result"
    }
   ],
   "source": [
    "type(a)"
   ]
  },
  {
   "cell_type": "code",
   "execution_count": 11,
   "id": "42faf8c2-4c8e-4ba9-8233-9f012d551eda",
   "metadata": {},
   "outputs": [
    {
     "name": "stdout",
     "output_type": "stream",
     "text": [
      "[[45 34 22  2]\n",
      " [24 55  3 22]]\n"
     ]
    }
   ],
   "source": [
    "# 2D Array (Matrix)\n",
    "new = np.array([[45,34,22,2],[24,55,3,22]])\n",
    "print(new)"
   ]
  },
  {
   "cell_type": "code",
   "execution_count": 12,
   "id": "1b880b0a-0e11-453a-bee6-72ec1965fc2b",
   "metadata": {},
   "outputs": [
    {
     "data": {
      "text/plain": [
       "array([[  2,   3,  33,   4,  45],\n",
       "       [ 23,  45,  56,  66,   2],\n",
       "       [357, 523,  32,  24,   2],\n",
       "       [ 32,  32,  44,  33, 234]])"
      ]
     },
     "execution_count": 12,
     "metadata": {},
     "output_type": "execute_result"
    }
   ],
   "source": [
    "# 3D  (Tensor)\n",
    "np.array([[2,3,33,4,45],[23,45,56,66,2],[357,523,32,24,2],[32,32,44,33,234]])"
   ]
  },
  {
   "cell_type": "markdown",
   "id": "62f356b4-c86d-4d93-ba5e-ff0a88cfdb09",
   "metadata": {},
   "source": [
    "# dtype"
   ]
  },
  {
   "cell_type": "markdown",
   "id": "cbed4830-4c7f-4ed0-8f9d-60e0fb9f8082",
   "metadata": {},
   "source": [
    "The desired datatype for the array. If not given, then the type will be determined as the minimum type required to hold the objects in the sequence."
   ]
  },
  {
   "cell_type": "code",
   "execution_count": 15,
   "id": "c37d3e06-e815-4e83-85f9-66e33ab8675b",
   "metadata": {},
   "outputs": [
    {
     "data": {
      "text/plain": [
       "array([11., 23., 44.])"
      ]
     },
     "execution_count": 15,
     "metadata": {},
     "output_type": "execute_result"
    }
   ],
   "source": [
    "np.array([11,23,44],dtype = float)"
   ]
  },
  {
   "cell_type": "code",
   "execution_count": 16,
   "id": "3ade6b9e-0149-40ef-a8d9-626d7082e24d",
   "metadata": {},
   "outputs": [
    {
     "data": {
      "text/plain": [
       "array([ True,  True,  True])"
      ]
     },
     "execution_count": 16,
     "metadata": {},
     "output_type": "execute_result"
    }
   ],
   "source": [
    "np.array([11,23,44],dtype = bool) # Here its True becoz, python treats Non-Zero"
   ]
  },
  {
   "cell_type": "code",
   "execution_count": 17,
   "id": "0e1a8f95-4409-4975-8446-034f2d0247b8",
   "metadata": {},
   "outputs": [
    {
     "data": {
      "text/plain": [
       "array([ True,  True, False])"
      ]
     },
     "execution_count": 17,
     "metadata": {},
     "output_type": "execute_result"
    }
   ],
   "source": [
    "np.array([1,2,0],dtype = bool)"
   ]
  },
  {
   "cell_type": "code",
   "execution_count": 18,
   "id": "5567adb2-b684-48ea-b875-feec6ac08b63",
   "metadata": {},
   "outputs": [
    {
     "data": {
      "text/plain": [
       "array([24.+0.j, 55.+0.j, 89.+0.j])"
      ]
     },
     "execution_count": 18,
     "metadata": {},
     "output_type": "execute_result"
    }
   ],
   "source": [
    "np.array([24,55,89],dtype = complex)"
   ]
  },
  {
   "cell_type": "markdown",
   "id": "d510886d-482d-473b-95e6-b381273ee581",
   "metadata": {},
   "source": [
    "# arange\n",
    "\n",
    "arange can be called with a varying number of positional arguments."
   ]
  },
  {
   "cell_type": "code",
   "execution_count": 20,
   "id": "14a53d6c-ab26-4c3a-adff-921cb51bc177",
   "metadata": {},
   "outputs": [
    {
     "data": {
      "text/plain": [
       "array([ 0,  1,  2,  3,  4,  5,  6,  7,  8,  9, 10, 11, 12, 13, 14])"
      ]
     },
     "execution_count": 20,
     "metadata": {},
     "output_type": "execute_result"
    }
   ],
   "source": [
    "np.arange(15) #displays from 0 to 14, excluding 15"
   ]
  },
  {
   "cell_type": "code",
   "execution_count": 21,
   "id": "bf87848f-b829-468c-8e1a-355ee6953212",
   "metadata": {},
   "outputs": [
    {
     "data": {
      "text/plain": [
       "array([0., 1., 2., 3.])"
      ]
     },
     "execution_count": 21,
     "metadata": {},
     "output_type": "execute_result"
    }
   ],
   "source": [
    "np.arange(3.7)"
   ]
  },
  {
   "cell_type": "code",
   "execution_count": 22,
   "id": "bcbb81a9-ccdf-4a07-ba07-f0ef50b37873",
   "metadata": {},
   "outputs": [
    {
     "data": {
      "text/plain": [
       "array([ 1,  2,  3,  4,  5,  6,  7,  8,  9, 10, 11, 12, 13, 14, 15, 16, 17,\n",
       "       18, 19, 20, 21, 22, 23, 24])"
      ]
     },
     "execution_count": 22,
     "metadata": {},
     "output_type": "execute_result"
    }
   ],
   "source": [
    "np.arange(1,25) #includes 1 , excludes the last numbr 25"
   ]
  },
  {
   "cell_type": "code",
   "execution_count": 23,
   "id": "622b4a6e-faee-4110-a5cb-456ca109b7a6",
   "metadata": {},
   "outputs": [
    {
     "data": {
      "text/plain": [
       "array([ 1,  5,  9, 13, 17, 21])"
      ]
     },
     "execution_count": 23,
     "metadata": {},
     "output_type": "execute_result"
    }
   ],
   "source": [
    "np.arange(1,25,4) #strides -> Alternate numbers"
   ]
  },
  {
   "cell_type": "code",
   "execution_count": 24,
   "id": "b50322e6-feca-4411-a747-8a7c0b6b1b7d",
   "metadata": {},
   "outputs": [
    {
     "data": {
      "text/plain": [
       "array([-30, -29, -28, -27, -26, -25, -24, -23, -22, -21, -20, -19, -18,\n",
       "       -17, -16, -15, -14, -13, -12, -11, -10,  -9,  -8,  -7,  -6,  -5,\n",
       "        -4,  -3,  -2,  -1,   0,   1,   2,   3,   4,   5,   6,   7,   8,\n",
       "         9,  10,  11,  12,  13,  14,  15,  16,  17,  18,  19])"
      ]
     },
     "execution_count": 24,
     "metadata": {},
     "output_type": "execute_result"
    }
   ],
   "source": [
    "ar = np.arange(-30,20)\n",
    "ar"
   ]
  },
  {
   "cell_type": "markdown",
   "id": "6007a252-0ed8-4833-8cac-e0589c645f51",
   "metadata": {},
   "source": [
    "# reshape\n",
    "Both of the number products should be equal to number of items present inside the array."
   ]
  },
  {
   "cell_type": "code",
   "execution_count": 26,
   "id": "37adf87b-675e-45a3-807e-7dca7900ec43",
   "metadata": {},
   "outputs": [
    {
     "data": {
      "text/plain": [
       "array([[ 2,  3,  4,  5,  6,  7,  8],\n",
       "       [ 9, 10, 11, 12, 13, 14, 15]])"
      ]
     },
     "execution_count": 26,
     "metadata": {},
     "output_type": "execute_result"
    }
   ],
   "source": [
    "np.arange(2,16).reshape(2,7) #converted into 2 rows and 7 columns"
   ]
  },
  {
   "cell_type": "code",
   "execution_count": 27,
   "id": "e96b68c6-05f4-45d1-9147-a435fbf0e6a7",
   "metadata": {},
   "outputs": [
    {
     "data": {
      "text/plain": [
       "array([[1, 2, 3, 4],\n",
       "       [5, 6, 7, 8]])"
      ]
     },
     "execution_count": 27,
     "metadata": {},
     "output_type": "execute_result"
    }
   ],
   "source": [
    "np.arange(1,9).reshape(2,4)"
   ]
  },
  {
   "cell_type": "markdown",
   "id": "dd379c1b-dc18-4451-860d-69777d9c380d",
   "metadata": {},
   "source": [
    "# ones and zeros\n",
    "You can initialise the values and create values."
   ]
  },
  {
   "cell_type": "code",
   "execution_count": 29,
   "id": "41a072db-53a8-49e4-b9b5-203ecf070be9",
   "metadata": {},
   "outputs": [
    {
     "data": {
      "text/plain": [
       "array([[1., 1., 1., 1.],\n",
       "       [1., 1., 1., 1.]])"
      ]
     },
     "execution_count": 29,
     "metadata": {},
     "output_type": "execute_result"
    }
   ],
   "source": [
    "np.ones((2,4)) #we have to mention inside the tuple"
   ]
  },
  {
   "cell_type": "code",
   "execution_count": 30,
   "id": "ac25b103-fa63-44e2-af66-722418452d6f",
   "metadata": {},
   "outputs": [
    {
     "data": {
      "text/plain": [
       "array([1., 1., 1., 1., 1., 1.])"
      ]
     },
     "execution_count": 30,
     "metadata": {},
     "output_type": "execute_result"
    }
   ],
   "source": [
    "np.ones(6) #parameter tuning"
   ]
  },
  {
   "cell_type": "code",
   "execution_count": 31,
   "id": "cf7bf592-af20-4076-951c-0a44cd792297",
   "metadata": {},
   "outputs": [
    {
     "data": {
      "text/plain": [
       "array([[1, 1, 1, 1],\n",
       "       [1, 1, 1, 1],\n",
       "       [1, 1, 1, 1]])"
      ]
     },
     "execution_count": 31,
     "metadata": {},
     "output_type": "execute_result"
    }
   ],
   "source": [
    "np.ones((3,4),dtype = int) #hyper parameter tunning"
   ]
  },
  {
   "cell_type": "code",
   "execution_count": 32,
   "id": "2592db0c-7128-45ac-98a2-aaf3b4bbea01",
   "metadata": {},
   "outputs": [
    {
     "data": {
      "text/plain": [
       "array([0., 0., 0., 0., 0.])"
      ]
     },
     "execution_count": 32,
     "metadata": {},
     "output_type": "execute_result"
    }
   ],
   "source": [
    "np.zeros(5) #parameter tuning"
   ]
  },
  {
   "cell_type": "code",
   "execution_count": 33,
   "id": "4f1b169c-05dc-4e26-8ad2-38e256b519a4",
   "metadata": {},
   "outputs": [
    {
     "data": {
      "text/plain": [
       "array([[0, 0, 0, 0, 0],\n",
       "       [0, 0, 0, 0, 0],\n",
       "       [0, 0, 0, 0, 0],\n",
       "       [0, 0, 0, 0, 0]])"
      ]
     },
     "execution_count": 33,
     "metadata": {},
     "output_type": "execute_result"
    }
   ],
   "source": [
    "np.zeros((4,5),dtype = int) #hyper parameter tuning"
   ]
  },
  {
   "cell_type": "markdown",
   "id": "e1ea81bb-107a-417c-8d43-58be40c75a4e",
   "metadata": {},
   "source": [
    "# Creating an empty array with 2 elements\n",
    "The function empty creates an array whose initial content is random and depends on the state of the memory."
   ]
  },
  {
   "cell_type": "code",
   "execution_count": 35,
   "id": "3443728b-9592-4172-a1c8-558187ab4725",
   "metadata": {},
   "outputs": [
    {
     "data": {
      "text/plain": [
       "array([ 2.88292265e+222, -9.25513009e-068])"
      ]
     },
     "execution_count": 35,
     "metadata": {},
     "output_type": "execute_result"
    }
   ],
   "source": [
    "np.empty(2)"
   ]
  },
  {
   "cell_type": "code",
   "execution_count": 36,
   "id": "14432e03-d58c-4ab8-8c70-b2283561ddc0",
   "metadata": {},
   "outputs": [
    {
     "data": {
      "text/plain": [
       "array([0.64304513, 0.45554365, 0.84790175, 0.55450357])"
      ]
     },
     "execution_count": 36,
     "metadata": {},
     "output_type": "execute_result"
    }
   ],
   "source": [
    "# another type ----- random()\n",
    "np.random.random(4)"
   ]
  },
  {
   "cell_type": "code",
   "execution_count": 37,
   "id": "e3d9f428-0c4d-4484-bfbe-1ffc410c4477",
   "metadata": {},
   "outputs": [
    {
     "data": {
      "text/plain": [
       "array([0.54614804, 0.40880174, 0.18901113, 0.45494704, 0.05454388,\n",
       "       0.89476722])"
      ]
     },
     "execution_count": 37,
     "metadata": {},
     "output_type": "execute_result"
    }
   ],
   "source": [
    "np.random.rand(6)"
   ]
  },
  {
   "cell_type": "code",
   "execution_count": 38,
   "id": "230cb919-f126-421d-951a-a50d19312895",
   "metadata": {},
   "outputs": [
    {
     "data": {
      "text/plain": [
       "array([[[0.74217154, 0.49742751],\n",
       "        [0.23025652, 0.94427134],\n",
       "        [0.9866435 , 0.19862822],\n",
       "        [0.95283396, 0.20883928],\n",
       "        [0.22465607, 0.46604815]],\n",
       "\n",
       "       [[0.45675954, 0.94215974],\n",
       "        [0.19297797, 0.2660364 ],\n",
       "        [0.41289973, 0.58025075],\n",
       "        [0.18070855, 0.25298506],\n",
       "        [0.26889199, 0.56868552]],\n",
       "\n",
       "       [[0.93987545, 0.4813488 ],\n",
       "        [0.68127547, 0.1747263 ],\n",
       "        [0.76805832, 0.95498486],\n",
       "        [0.62370531, 0.2970613 ],\n",
       "        [0.82575268, 0.79361885]]])"
      ]
     },
     "execution_count": 38,
     "metadata": {},
     "output_type": "execute_result"
    }
   ],
   "source": [
    "np.random.rand(3,5,2)"
   ]
  },
  {
   "cell_type": "code",
   "execution_count": 39,
   "id": "1ea563a0-a746-44f9-8108-137b24e075db",
   "metadata": {},
   "outputs": [
    {
     "data": {
      "text/plain": [
       "4"
      ]
     },
     "execution_count": 39,
     "metadata": {},
     "output_type": "execute_result"
    }
   ],
   "source": [
    "np.random.randint(3,5) #includes 3 or 4 and exludes 5"
   ]
  },
  {
   "cell_type": "code",
   "execution_count": 40,
   "id": "520de5ef-e985-44b3-8350-5a08e3e0c221",
   "metadata": {},
   "outputs": [
    {
     "data": {
      "text/plain": [
       "3"
      ]
     },
     "execution_count": 40,
     "metadata": {},
     "output_type": "execute_result"
    }
   ],
   "source": [
    "np.random.randint(3,5) #includes 3 or 4 and exludes 5"
   ]
  },
  {
   "cell_type": "code",
   "execution_count": 41,
   "id": "6e223d8e-3fb4-4542-b448-997f529a9f24",
   "metadata": {},
   "outputs": [
    {
     "data": {
      "text/plain": [
       "array([], shape=(0, 10, 3), dtype=float64)"
      ]
     },
     "execution_count": 41,
     "metadata": {},
     "output_type": "execute_result"
    }
   ],
   "source": [
    "np.random.rand(0,10,3)"
   ]
  },
  {
   "cell_type": "markdown",
   "id": "68d80902-4761-4b3f-875c-0cff97fc5f11",
   "metadata": {},
   "source": [
    "# linspace\n",
    "It is also called as Linearly space, linearly separable, in a given range at equal distance it creates points."
   ]
  },
  {
   "cell_type": "code",
   "execution_count": 43,
   "id": "b7ef15f5-60e9-4892-8539-0a0bfb7ab8d2",
   "metadata": {},
   "outputs": [
    {
     "data": {
      "text/plain": [
       "array([-10.,  12.])"
      ]
     },
     "execution_count": 43,
     "metadata": {},
     "output_type": "execute_result"
    }
   ],
   "source": [
    "np.linspace(-10,12,2) #here parameters are lower range, upper range, number of items to generate"
   ]
  },
  {
   "cell_type": "code",
   "execution_count": 44,
   "id": "b765da38-d6ba-40dc-9114-c827461ba891",
   "metadata": {},
   "outputs": [
    {
     "data": {
      "text/plain": [
       "array([ 4. ,  6.4,  8.8, 11.2, 13.6, 16. ])"
      ]
     },
     "execution_count": 44,
     "metadata": {},
     "output_type": "execute_result"
    }
   ],
   "source": [
    "np.linspace(4,16,6)"
   ]
  },
  {
   "cell_type": "code",
   "execution_count": 45,
   "id": "21f254b9-35f0-409e-b426-c30bd980e6cf",
   "metadata": {},
   "outputs": [
    {
     "data": {
      "text/plain": [
       "array([ 0. ,  2.4,  4.8,  7.2,  9.6, 12. ])"
      ]
     },
     "execution_count": 45,
     "metadata": {},
     "output_type": "execute_result"
    }
   ],
   "source": [
    "np.linspace(0,12,num = 6)"
   ]
  },
  {
   "cell_type": "markdown",
   "id": "84d59c3f-a60d-4da0-a768-0f489d253a59",
   "metadata": {},
   "source": [
    "# identity\n",
    "identity matrix is that diagonal items will be ones and everything will be zeros"
   ]
  },
  {
   "cell_type": "code",
   "execution_count": 47,
   "id": "1b2dc2fd-9c9e-4604-b774-ad64ae355481",
   "metadata": {},
   "outputs": [
    {
     "data": {
      "text/plain": [
       "array([[1., 0., 0., 0.],\n",
       "       [0., 1., 0., 0.],\n",
       "       [0., 0., 1., 0.],\n",
       "       [0., 0., 0., 1.]])"
      ]
     },
     "execution_count": 47,
     "metadata": {},
     "output_type": "execute_result"
    }
   ],
   "source": [
    "np.identity(4)"
   ]
  },
  {
   "cell_type": "markdown",
   "id": "88b929e6-44e6-40df-a159-359a3f48f945",
   "metadata": {},
   "source": [
    "# Array attributes"
   ]
  },
  {
   "cell_type": "code",
   "execution_count": 49,
   "id": "090d6093-420a-4d66-909f-4ee82587dcc9",
   "metadata": {},
   "outputs": [
    {
     "data": {
      "text/plain": [
       "array([0, 1, 2, 3, 4, 5, 6, 7, 8, 9])"
      ]
     },
     "execution_count": 49,
     "metadata": {},
     "output_type": "execute_result"
    }
   ],
   "source": [
    "a1 = np.arange(10) #1D\n",
    "a1"
   ]
  },
  {
   "cell_type": "code",
   "execution_count": 50,
   "id": "2fa596da-d2b5-4cf9-85ab-a25ca9e6b5fb",
   "metadata": {},
   "outputs": [
    {
     "data": {
      "text/plain": [
       "array([[ 0.,  1.,  2.,  3.,  4.,  5.],\n",
       "       [ 6.,  7.,  8.,  9., 10., 11.]])"
      ]
     },
     "execution_count": 50,
     "metadata": {},
     "output_type": "execute_result"
    }
   ],
   "source": [
    "a2 = np.arange(12,dtype = float).reshape(2,6) #Matrix\n",
    "a2"
   ]
  },
  {
   "cell_type": "code",
   "execution_count": 51,
   "id": "7a1086fe-46d3-47d4-9010-2c11518783b0",
   "metadata": {},
   "outputs": [
    {
     "data": {
      "text/plain": [
       "array([[[0, 1],\n",
       "        [2, 3]],\n",
       "\n",
       "       [[4, 5],\n",
       "        [6, 7]]])"
      ]
     },
     "execution_count": 51,
     "metadata": {},
     "output_type": "execute_result"
    }
   ],
   "source": [
    "a3 = np.arange(8).reshape(2,2,2) #3D - Tensor\n",
    "a3"
   ]
  },
  {
   "cell_type": "markdown",
   "id": "fb969e65-4c62-42c3-8fd6-1a26ecfa270b",
   "metadata": {},
   "source": [
    "# ndim\n",
    "To findout given array number of dimensions"
   ]
  },
  {
   "cell_type": "code",
   "execution_count": 53,
   "id": "fac400a6-08ce-497e-a31e-98c52c04ef6f",
   "metadata": {},
   "outputs": [
    {
     "data": {
      "text/plain": [
       "array([0, 1, 2, 3, 4, 5, 6, 7, 8, 9])"
      ]
     },
     "execution_count": 53,
     "metadata": {},
     "output_type": "execute_result"
    }
   ],
   "source": [
    "a1"
   ]
  },
  {
   "cell_type": "code",
   "execution_count": 54,
   "id": "d3973ea5-80cb-4e6e-bb5f-8090b4050a98",
   "metadata": {},
   "outputs": [
    {
     "data": {
      "text/plain": [
       "1"
      ]
     },
     "execution_count": 54,
     "metadata": {},
     "output_type": "execute_result"
    }
   ],
   "source": [
    "a1.ndim #a1 is 1D"
   ]
  },
  {
   "cell_type": "code",
   "execution_count": 55,
   "id": "8c1b2b5e-f0cd-4d6f-bf9a-d4649e6403cc",
   "metadata": {},
   "outputs": [
    {
     "data": {
      "text/plain": [
       "array([[ 0.,  1.,  2.,  3.,  4.,  5.],\n",
       "       [ 6.,  7.,  8.,  9., 10., 11.]])"
      ]
     },
     "execution_count": 55,
     "metadata": {},
     "output_type": "execute_result"
    }
   ],
   "source": [
    "a2\n"
   ]
  },
  {
   "cell_type": "code",
   "execution_count": 56,
   "id": "83e616a5-d703-4602-9cde-e2f3f219baee",
   "metadata": {},
   "outputs": [
    {
     "data": {
      "text/plain": [
       "2"
      ]
     },
     "execution_count": 56,
     "metadata": {},
     "output_type": "execute_result"
    }
   ],
   "source": [
    "a2.ndim #a2 is 2D"
   ]
  },
  {
   "cell_type": "code",
   "execution_count": 57,
   "id": "ac5c0837-833c-4f19-a3e6-6871cf943916",
   "metadata": {},
   "outputs": [
    {
     "data": {
      "text/plain": [
       "array([[[0, 1],\n",
       "        [2, 3]],\n",
       "\n",
       "       [[4, 5],\n",
       "        [6, 7]]])"
      ]
     },
     "execution_count": 57,
     "metadata": {},
     "output_type": "execute_result"
    }
   ],
   "source": [
    "a3"
   ]
  },
  {
   "cell_type": "code",
   "execution_count": 58,
   "id": "76989b9b-12ac-47c4-97ed-5977b0a7951e",
   "metadata": {},
   "outputs": [
    {
     "data": {
      "text/plain": [
       "3"
      ]
     },
     "execution_count": 58,
     "metadata": {},
     "output_type": "execute_result"
    }
   ],
   "source": [
    "a3.ndim #a3 is 3D"
   ]
  },
  {
   "cell_type": "markdown",
   "id": "c95b8f32-9299-4da6-a9b9-089c40ce93a2",
   "metadata": {},
   "source": [
    "# shape\n",
    "gives each item which consist of number of rows and number of columns"
   ]
  },
  {
   "cell_type": "code",
   "execution_count": 60,
   "id": "cda1aa25-c37b-4274-b5c8-a8e4d6e971eb",
   "metadata": {},
   "outputs": [
    {
     "data": {
      "text/plain": [
       "array([0, 1, 2, 3, 4, 5, 6, 7, 8, 9])"
      ]
     },
     "execution_count": 60,
     "metadata": {},
     "output_type": "execute_result"
    }
   ],
   "source": [
    "a1"
   ]
  },
  {
   "cell_type": "code",
   "execution_count": 61,
   "id": "56cbc084-87c5-4ba6-aa63-bcca9108d886",
   "metadata": {},
   "outputs": [
    {
     "data": {
      "text/plain": [
       "(10,)"
      ]
     },
     "execution_count": 61,
     "metadata": {},
     "output_type": "execute_result"
    }
   ],
   "source": [
    "a1.shape"
   ]
  },
  {
   "cell_type": "code",
   "execution_count": 62,
   "id": "f47e4eb9-c8e2-46d3-98e5-681975a11d27",
   "metadata": {},
   "outputs": [
    {
     "data": {
      "text/plain": [
       "array([[ 0.,  1.,  2.,  3.,  4.,  5.],\n",
       "       [ 6.,  7.,  8.,  9., 10., 11.]])"
      ]
     },
     "execution_count": 62,
     "metadata": {},
     "output_type": "execute_result"
    }
   ],
   "source": [
    "a2"
   ]
  },
  {
   "cell_type": "code",
   "execution_count": 63,
   "id": "d3a8145b-5591-4802-8ce7-4f2ceaebd2db",
   "metadata": {},
   "outputs": [
    {
     "data": {
      "text/plain": [
       "(2, 6)"
      ]
     },
     "execution_count": 63,
     "metadata": {},
     "output_type": "execute_result"
    }
   ],
   "source": [
    "a2.shape"
   ]
  },
  {
   "cell_type": "code",
   "execution_count": 64,
   "id": "59ea14ad-e58f-4645-93fa-cd798c82a627",
   "metadata": {},
   "outputs": [
    {
     "data": {
      "text/plain": [
       "array([[[0, 1],\n",
       "        [2, 3]],\n",
       "\n",
       "       [[4, 5],\n",
       "        [6, 7]]])"
      ]
     },
     "execution_count": 64,
     "metadata": {},
     "output_type": "execute_result"
    }
   ],
   "source": [
    "a3"
   ]
  },
  {
   "cell_type": "code",
   "execution_count": 65,
   "id": "04e1c9b8-7102-4fc6-a188-3b0a720f0d44",
   "metadata": {},
   "outputs": [
    {
     "data": {
      "text/plain": [
       "(2, 2, 2)"
      ]
     },
     "execution_count": 65,
     "metadata": {},
     "output_type": "execute_result"
    }
   ],
   "source": [
    "a3.shape"
   ]
  },
  {
   "cell_type": "markdown",
   "id": "c0df5f9e-517c-4f7f-b562-db4b97fc03a4",
   "metadata": {},
   "source": [
    "# size\n",
    "gives the number of items"
   ]
  },
  {
   "cell_type": "code",
   "execution_count": 67,
   "id": "638b07c7-8bd0-4b35-80c2-8a294289099f",
   "metadata": {},
   "outputs": [
    {
     "data": {
      "text/plain": [
       "array([[[0, 1],\n",
       "        [2, 3]],\n",
       "\n",
       "       [[4, 5],\n",
       "        [6, 7]]])"
      ]
     },
     "execution_count": 67,
     "metadata": {},
     "output_type": "execute_result"
    }
   ],
   "source": [
    "a3"
   ]
  },
  {
   "cell_type": "code",
   "execution_count": 68,
   "id": "f14de782-52f8-4f70-b065-d08726e7a91b",
   "metadata": {},
   "outputs": [
    {
     "data": {
      "text/plain": [
       "8"
      ]
     },
     "execution_count": 68,
     "metadata": {},
     "output_type": "execute_result"
    }
   ],
   "source": [
    "a3.size"
   ]
  },
  {
   "cell_type": "code",
   "execution_count": 69,
   "id": "97c5d39f-8a9f-425f-addb-31be14835684",
   "metadata": {},
   "outputs": [
    {
     "data": {
      "text/plain": [
       "array([[ 0.,  1.,  2.,  3.,  4.,  5.],\n",
       "       [ 6.,  7.,  8.,  9., 10., 11.]])"
      ]
     },
     "execution_count": 69,
     "metadata": {},
     "output_type": "execute_result"
    }
   ],
   "source": [
    "a2"
   ]
  },
  {
   "cell_type": "code",
   "execution_count": 70,
   "id": "c5309284-fd49-4eee-8a79-8ba5322c0f7a",
   "metadata": {},
   "outputs": [
    {
     "data": {
      "text/plain": [
       "12"
      ]
     },
     "execution_count": 70,
     "metadata": {},
     "output_type": "execute_result"
    }
   ],
   "source": [
    "a2.size"
   ]
  },
  {
   "cell_type": "markdown",
   "id": "107c4e0b-87f3-4285-9fc2-41bc72680e0e",
   "metadata": {},
   "source": [
    "# item size\n",
    "Memory occupied by the item"
   ]
  },
  {
   "cell_type": "code",
   "execution_count": 72,
   "id": "cd604b49-2c05-4c25-a5ac-0972f519f0fa",
   "metadata": {},
   "outputs": [
    {
     "data": {
      "text/plain": [
       "array([0, 1, 2, 3, 4, 5, 6, 7, 8, 9])"
      ]
     },
     "execution_count": 72,
     "metadata": {},
     "output_type": "execute_result"
    }
   ],
   "source": [
    "a1"
   ]
  },
  {
   "cell_type": "code",
   "execution_count": 73,
   "id": "d6cff3e2-2951-4192-ab34-888df5eb17df",
   "metadata": {},
   "outputs": [
    {
     "data": {
      "text/plain": [
       "4"
      ]
     },
     "execution_count": 73,
     "metadata": {},
     "output_type": "execute_result"
    }
   ],
   "source": [
    "a1.itemsize #bytes"
   ]
  },
  {
   "cell_type": "code",
   "execution_count": 74,
   "id": "4c05dd5c-d758-4497-8ef4-2a43b2faf6a0",
   "metadata": {},
   "outputs": [
    {
     "data": {
      "text/plain": [
       "array([[ 0.,  1.,  2.,  3.,  4.,  5.],\n",
       "       [ 6.,  7.,  8.,  9., 10., 11.]])"
      ]
     },
     "execution_count": 74,
     "metadata": {},
     "output_type": "execute_result"
    }
   ],
   "source": [
    "a2"
   ]
  },
  {
   "cell_type": "code",
   "execution_count": 75,
   "id": "419d9635-4ada-46aa-bb21-11411fcf4fee",
   "metadata": {},
   "outputs": [
    {
     "data": {
      "text/plain": [
       "8"
      ]
     },
     "execution_count": 75,
     "metadata": {},
     "output_type": "execute_result"
    }
   ],
   "source": [
    "a2.itemsize #float 64 gives 8bytes"
   ]
  },
  {
   "cell_type": "code",
   "execution_count": 76,
   "id": "c5ea5308-888f-4c41-9e28-3d1854762d3d",
   "metadata": {},
   "outputs": [
    {
     "data": {
      "text/plain": [
       "array([[[0, 1],\n",
       "        [2, 3]],\n",
       "\n",
       "       [[4, 5],\n",
       "        [6, 7]]])"
      ]
     },
     "execution_count": 76,
     "metadata": {},
     "output_type": "execute_result"
    }
   ],
   "source": [
    "a3"
   ]
  },
  {
   "cell_type": "code",
   "execution_count": 77,
   "id": "a7d37ad9-fb3f-49d8-922b-1b6e56cd8275",
   "metadata": {},
   "outputs": [
    {
     "data": {
      "text/plain": [
       "4"
      ]
     },
     "execution_count": 77,
     "metadata": {},
     "output_type": "execute_result"
    }
   ],
   "source": [
    "a3.itemsize #integer 32 gives 4 bytes"
   ]
  },
  {
   "cell_type": "markdown",
   "id": "6f2142fb-4ea6-404b-adc8-f281f870fd0f",
   "metadata": {},
   "source": [
    "# dtype\n",
    "gives data type of the item"
   ]
  },
  {
   "cell_type": "code",
   "execution_count": 79,
   "id": "8e30087c-1a6f-49d9-9ae0-b89923776df2",
   "metadata": {},
   "outputs": [
    {
     "name": "stdout",
     "output_type": "stream",
     "text": [
      "int32\n",
      "float64\n",
      "int32\n"
     ]
    }
   ],
   "source": [
    "print(a1.dtype)\n",
    "print(a2.dtype)\n",
    "print(a3.dtype)"
   ]
  },
  {
   "cell_type": "markdown",
   "id": "98d45c74-2e5c-417b-af5d-193250f08f70",
   "metadata": {},
   "source": [
    "# Changing data type"
   ]
  },
  {
   "cell_type": "code",
   "execution_count": 81,
   "id": "5fa2b045-d991-4349-819c-f7f710901f2e",
   "metadata": {},
   "outputs": [
    {
     "data": {
      "text/plain": [
       "array([33. , 22. ,  2.5])"
      ]
     },
     "execution_count": 81,
     "metadata": {},
     "output_type": "execute_result"
    }
   ],
   "source": [
    "#astype\n",
    "\n",
    "x = np.array([33,22,2.5])\n",
    "x"
   ]
  },
  {
   "cell_type": "code",
   "execution_count": 82,
   "id": "4d21e187-db2a-4d32-9f2a-4df0dbc45b67",
   "metadata": {},
   "outputs": [
    {
     "data": {
      "text/plain": [
       "array([33, 22,  2])"
      ]
     },
     "execution_count": 82,
     "metadata": {},
     "output_type": "execute_result"
    }
   ],
   "source": [
    "x.astype(int)"
   ]
  },
  {
   "cell_type": "markdown",
   "id": "c9ce5081-b2dd-4673-9a12-7246991c7ccb",
   "metadata": {},
   "source": [
    "# Array operations"
   ]
  },
  {
   "cell_type": "code",
   "execution_count": 84,
   "id": "918a0d04-62ba-4456-963b-491d1fba31bf",
   "metadata": {},
   "outputs": [],
   "source": [
    "z1 = np.arange(12).reshape(3,4)\n",
    "z2 = np.arange(12,24).reshape(3,4)"
   ]
  },
  {
   "cell_type": "code",
   "execution_count": 85,
   "id": "abbe7d6e-1c29-4952-af62-e61952254362",
   "metadata": {},
   "outputs": [
    {
     "data": {
      "text/plain": [
       "array([[ 0,  1,  2,  3],\n",
       "       [ 4,  5,  6,  7],\n",
       "       [ 8,  9, 10, 11]])"
      ]
     },
     "execution_count": 85,
     "metadata": {},
     "output_type": "execute_result"
    }
   ],
   "source": [
    "z1"
   ]
  },
  {
   "cell_type": "code",
   "execution_count": 86,
   "id": "83756acb-40ff-4916-b73b-adc79cf35159",
   "metadata": {},
   "outputs": [
    {
     "data": {
      "text/plain": [
       "array([[12, 13, 14, 15],\n",
       "       [16, 17, 18, 19],\n",
       "       [20, 21, 22, 23]])"
      ]
     },
     "execution_count": 86,
     "metadata": {},
     "output_type": "execute_result"
    }
   ],
   "source": [
    "z2"
   ]
  },
  {
   "cell_type": "markdown",
   "id": "20c2e04e-52e4-490c-84a7-b0bd6d30b8ad",
   "metadata": {},
   "source": [
    "# scalar operations\n",
    "\n",
    "Scalar operations on Numpy array include performing addition or subtraction or multiplication on each element of a Numpy array."
   ]
  },
  {
   "cell_type": "code",
   "execution_count": 88,
   "id": "c3377cc0-1613-4acd-adaf-2bb7e643c7b3",
   "metadata": {},
   "outputs": [
    {
     "data": {
      "text/plain": [
       "array([[ 2,  3,  4,  5],\n",
       "       [ 6,  7,  8,  9],\n",
       "       [10, 11, 12, 13]])"
      ]
     },
     "execution_count": 88,
     "metadata": {},
     "output_type": "execute_result"
    }
   ],
   "source": [
    "#arithmetic\n",
    "z1 + 2"
   ]
  },
  {
   "cell_type": "code",
   "execution_count": 89,
   "id": "e90df3d8-3cab-4236-8ced-e7db116fd338",
   "metadata": {},
   "outputs": [
    {
     "data": {
      "text/plain": [
       "array([[-2, -1,  0,  1],\n",
       "       [ 2,  3,  4,  5],\n",
       "       [ 6,  7,  8,  9]])"
      ]
     },
     "execution_count": 89,
     "metadata": {},
     "output_type": "execute_result"
    }
   ],
   "source": [
    "#subtraction\n",
    "z1 - 2"
   ]
  },
  {
   "cell_type": "code",
   "execution_count": 90,
   "id": "ed129414-fc6e-4859-bd48-498e028452fb",
   "metadata": {},
   "outputs": [
    {
     "data": {
      "text/plain": [
       "array([[ 0,  2,  4,  6],\n",
       "       [ 8, 10, 12, 14],\n",
       "       [16, 18, 20, 22]])"
      ]
     },
     "execution_count": 90,
     "metadata": {},
     "output_type": "execute_result"
    }
   ],
   "source": [
    "#Multiplication\n",
    "z1 * 2"
   ]
  },
  {
   "cell_type": "code",
   "execution_count": 91,
   "id": "937bbde0-539e-46d9-8a65-c1decce340e6",
   "metadata": {},
   "outputs": [
    {
     "data": {
      "text/plain": [
       "array([[ 0,  1,  2,  3],\n",
       "       [ 4,  5,  6,  7],\n",
       "       [ 8,  9, 10, 11]])"
      ]
     },
     "execution_count": 91,
     "metadata": {},
     "output_type": "execute_result"
    }
   ],
   "source": [
    "z1"
   ]
  },
  {
   "cell_type": "code",
   "execution_count": 92,
   "id": "04d0f8fa-7c24-4e43-8ccb-ff9280d76c31",
   "metadata": {},
   "outputs": [
    {
     "data": {
      "text/plain": [
       "array([[  0,   1,   4,   9],\n",
       "       [ 16,  25,  36,  49],\n",
       "       [ 64,  81, 100, 121]])"
      ]
     },
     "execution_count": 92,
     "metadata": {},
     "output_type": "execute_result"
    }
   ],
   "source": [
    "#power\n",
    "z1 ** 2"
   ]
  },
  {
   "cell_type": "code",
   "execution_count": 93,
   "id": "640a7a47-ac5c-408d-adb6-3229be2145a4",
   "metadata": {},
   "outputs": [
    {
     "data": {
      "text/plain": [
       "array([[0, 1, 0, 1],\n",
       "       [0, 1, 0, 1],\n",
       "       [0, 1, 0, 1]], dtype=int32)"
      ]
     },
     "execution_count": 93,
     "metadata": {},
     "output_type": "execute_result"
    }
   ],
   "source": [
    "#Modulo\n",
    "z1 % 2 #if divisible by 2 gives remainder 0, then it gives output as 0, otherwise gives 1"
   ]
  },
  {
   "cell_type": "markdown",
   "id": "fcdf0ff2-165e-49db-a3a2-de65ff36f76a",
   "metadata": {},
   "source": [
    "# Relational Operators\n",
    "The relational operators are also called as comparision operators, their main function is to return either a true or false based on the value of operands."
   ]
  },
  {
   "cell_type": "code",
   "execution_count": 95,
   "id": "c00230b1-7178-471a-8c0d-1f59e18188c9",
   "metadata": {},
   "outputs": [
    {
     "data": {
      "text/plain": [
       "array([[12, 13, 14, 15],\n",
       "       [16, 17, 18, 19],\n",
       "       [20, 21, 22, 23]])"
      ]
     },
     "execution_count": 95,
     "metadata": {},
     "output_type": "execute_result"
    }
   ],
   "source": [
    "z2"
   ]
  },
  {
   "cell_type": "code",
   "execution_count": 96,
   "id": "4f91f2d8-e5a6-42d5-b299-73afef3600c9",
   "metadata": {},
   "outputs": [
    {
     "data": {
      "text/plain": [
       "array([[ True,  True,  True,  True],\n",
       "       [ True,  True,  True,  True],\n",
       "       [ True,  True,  True,  True]])"
      ]
     },
     "execution_count": 96,
     "metadata": {},
     "output_type": "execute_result"
    }
   ],
   "source": [
    "z2 > 2"
   ]
  },
  {
   "cell_type": "code",
   "execution_count": 97,
   "id": "b216c47d-e79b-489f-8827-c5b61ab24782",
   "metadata": {},
   "outputs": [
    {
     "data": {
      "text/plain": [
       "array([[False, False, False, False],\n",
       "       [False, False, False, False],\n",
       "       [False,  True,  True,  True]])"
      ]
     },
     "execution_count": 97,
     "metadata": {},
     "output_type": "execute_result"
    }
   ],
   "source": [
    "z2 > 20"
   ]
  },
  {
   "cell_type": "markdown",
   "id": "d7841e97-0304-41b4-b491-7ae494d03243",
   "metadata": {},
   "source": [
    "# Vector Operation\n",
    "We can apply on both numpy arrays"
   ]
  },
  {
   "cell_type": "code",
   "execution_count": 99,
   "id": "b7e49dd3-6fc6-4b18-80a5-5691a28e63f6",
   "metadata": {},
   "outputs": [
    {
     "data": {
      "text/plain": [
       "array([[ 0,  1,  2,  3],\n",
       "       [ 4,  5,  6,  7],\n",
       "       [ 8,  9, 10, 11]])"
      ]
     },
     "execution_count": 99,
     "metadata": {},
     "output_type": "execute_result"
    }
   ],
   "source": [
    "z1"
   ]
  },
  {
   "cell_type": "code",
   "execution_count": 100,
   "id": "2e35773a-4337-4225-8286-28d344df948d",
   "metadata": {},
   "outputs": [
    {
     "data": {
      "text/plain": [
       "array([[12, 13, 14, 15],\n",
       "       [16, 17, 18, 19],\n",
       "       [20, 21, 22, 23]])"
      ]
     },
     "execution_count": 100,
     "metadata": {},
     "output_type": "execute_result"
    }
   ],
   "source": [
    "z2"
   ]
  },
  {
   "cell_type": "code",
   "execution_count": 101,
   "id": "77e998ce-f32e-49e9-b762-03b6f5e86793",
   "metadata": {},
   "outputs": [
    {
     "data": {
      "text/plain": [
       "array([[12, 14, 16, 18],\n",
       "       [20, 22, 24, 26],\n",
       "       [28, 30, 32, 34]])"
      ]
     },
     "execution_count": 101,
     "metadata": {},
     "output_type": "execute_result"
    }
   ],
   "source": [
    "#Arithmetic\n",
    "z1 + z2 #both numpy array Shape is same and we can add item wise"
   ]
  },
  {
   "cell_type": "code",
   "execution_count": 102,
   "id": "6ddc507a-3f0e-44cc-8250-e32a4c4c8dac",
   "metadata": {},
   "outputs": [
    {
     "data": {
      "text/plain": [
       "array([[  0,  13,  28,  45],\n",
       "       [ 64,  85, 108, 133],\n",
       "       [160, 189, 220, 253]])"
      ]
     },
     "execution_count": 102,
     "metadata": {},
     "output_type": "execute_result"
    }
   ],
   "source": [
    "z1 * z2"
   ]
  },
  {
   "cell_type": "code",
   "execution_count": 103,
   "id": "71c52c3d-ac64-4a1a-91cc-dff942c3e47d",
   "metadata": {},
   "outputs": [
    {
     "data": {
      "text/plain": [
       "array([[-12, -12, -12, -12],\n",
       "       [-12, -12, -12, -12],\n",
       "       [-12, -12, -12, -12]])"
      ]
     },
     "execution_count": 103,
     "metadata": {},
     "output_type": "execute_result"
    }
   ],
   "source": [
    "z1 - z2"
   ]
  },
  {
   "cell_type": "code",
   "execution_count": 104,
   "id": "bb3bc164-fe6c-4b4d-b765-1a82c8471ce5",
   "metadata": {},
   "outputs": [
    {
     "data": {
      "text/plain": [
       "array([[0.        , 0.07692308, 0.14285714, 0.2       ],\n",
       "       [0.25      , 0.29411765, 0.33333333, 0.36842105],\n",
       "       [0.4       , 0.42857143, 0.45454545, 0.47826087]])"
      ]
     },
     "execution_count": 104,
     "metadata": {},
     "output_type": "execute_result"
    }
   ],
   "source": [
    "z1 / z2"
   ]
  },
  {
   "cell_type": "markdown",
   "id": "134feca7-a4a4-4e86-907b-296cb87fffd3",
   "metadata": {},
   "source": [
    "# Array Functions"
   ]
  },
  {
   "cell_type": "code",
   "execution_count": 106,
   "id": "b2907f3d-e1fd-4a94-a879-40b1d4951116",
   "metadata": {},
   "outputs": [
    {
     "data": {
      "text/plain": [
       "array([[94.,  3., 68.],\n",
       "       [26., 92.,  3.],\n",
       "       [54., 63., 92.]])"
      ]
     },
     "execution_count": 106,
     "metadata": {},
     "output_type": "execute_result"
    }
   ],
   "source": [
    "k1 = np.random.random((3,3))\n",
    "k1 = np.round(k1*100)\n",
    "k1"
   ]
  },
  {
   "cell_type": "code",
   "execution_count": 107,
   "id": "fe74b300-a25e-4afa-bdab-e56543db4f48",
   "metadata": {},
   "outputs": [
    {
     "data": {
      "text/plain": [
       "94.0"
      ]
     },
     "execution_count": 107,
     "metadata": {},
     "output_type": "execute_result"
    }
   ],
   "source": [
    "#Max\n",
    "np.max(k1)"
   ]
  },
  {
   "cell_type": "code",
   "execution_count": 108,
   "id": "ab1d49ad-c5b1-467b-a9cf-727ba86af391",
   "metadata": {},
   "outputs": [
    {
     "data": {
      "text/plain": [
       "3.0"
      ]
     },
     "execution_count": 108,
     "metadata": {},
     "output_type": "execute_result"
    }
   ],
   "source": [
    "#min\n",
    "np.min(k1)"
   ]
  },
  {
   "cell_type": "code",
   "execution_count": 109,
   "id": "0b32d84a-b5bd-449b-8a63-590a1e404446",
   "metadata": {},
   "outputs": [
    {
     "data": {
      "text/plain": [
       "495.0"
      ]
     },
     "execution_count": 109,
     "metadata": {},
     "output_type": "execute_result"
    }
   ],
   "source": [
    "#sum\n",
    "np.sum(k1)"
   ]
  },
  {
   "cell_type": "code",
   "execution_count": 110,
   "id": "a0b0c4cc-2a84-426c-82b4-8c88e03737cb",
   "metadata": {},
   "outputs": [
    {
     "data": {
      "text/plain": [
       "43068781776384.0"
      ]
     },
     "execution_count": 110,
     "metadata": {},
     "output_type": "execute_result"
    }
   ],
   "source": [
    "#product\n",
    "np.prod(k1)"
   ]
  },
  {
   "cell_type": "markdown",
   "id": "2676dc8d-ab4b-42f1-9c0f-60fea948d0e4",
   "metadata": {},
   "source": [
    "In Numpy 0 represents column, 1 is row"
   ]
  },
  {
   "cell_type": "code",
   "execution_count": 112,
   "id": "16f9cf3e-ed1f-463f-9601-b03a2237fff4",
   "metadata": {},
   "outputs": [
    {
     "data": {
      "text/plain": [
       "array([[94.,  3., 68.],\n",
       "       [26., 92.,  3.],\n",
       "       [54., 63., 92.]])"
      ]
     },
     "execution_count": 112,
     "metadata": {},
     "output_type": "execute_result"
    }
   ],
   "source": [
    "k1"
   ]
  },
  {
   "cell_type": "code",
   "execution_count": 113,
   "id": "a589b0f2-742a-4bf2-b077-ab296756f6bd",
   "metadata": {},
   "outputs": [
    {
     "data": {
      "text/plain": [
       "array([94., 92., 92.])"
      ]
     },
     "execution_count": 113,
     "metadata": {},
     "output_type": "execute_result"
    }
   ],
   "source": [
    "# if we want the maximum of every row\n",
    "np.max(k1, axis = 1)"
   ]
  },
  {
   "cell_type": "code",
   "execution_count": 114,
   "id": "41696e2b-9998-4709-acb8-15cdd1b7a1f9",
   "metadata": {},
   "outputs": [
    {
     "data": {
      "text/plain": [
       "array([94., 92., 92.])"
      ]
     },
     "execution_count": 114,
     "metadata": {},
     "output_type": "execute_result"
    }
   ],
   "source": [
    "# if we want the maximum of every column\n",
    "np.max(k1, axis = 0)"
   ]
  },
  {
   "cell_type": "code",
   "execution_count": 115,
   "id": "6724e9f7-4a19-431b-b81c-a41c24f2c490",
   "metadata": {},
   "outputs": [
    {
     "data": {
      "text/plain": [
       "array([131976.,  17388.,  18768.])"
      ]
     },
     "execution_count": 115,
     "metadata": {},
     "output_type": "execute_result"
    }
   ],
   "source": [
    "#product of every column\n",
    "np.prod(k1, axis = 0)"
   ]
  },
  {
   "cell_type": "code",
   "execution_count": 116,
   "id": "d8d05b86-27d8-40df-ad0d-f7931839ca87",
   "metadata": {},
   "outputs": [
    {
     "data": {
      "text/plain": [
       "array([26.,  3.,  3.])"
      ]
     },
     "execution_count": 116,
     "metadata": {},
     "output_type": "execute_result"
    }
   ],
   "source": [
    "k1.min(axis = 0)"
   ]
  },
  {
   "cell_type": "markdown",
   "id": "0ec334f8-4ee2-49fd-847a-52751e798e3c",
   "metadata": {},
   "source": [
    "# Statistics related functions"
   ]
  },
  {
   "cell_type": "code",
   "execution_count": 118,
   "id": "8b5b0e65-7416-4426-8f93-4ca38d0a40fd",
   "metadata": {},
   "outputs": [
    {
     "data": {
      "text/plain": [
       "array([[94.,  3., 68.],\n",
       "       [26., 92.,  3.],\n",
       "       [54., 63., 92.]])"
      ]
     },
     "execution_count": 118,
     "metadata": {},
     "output_type": "execute_result"
    }
   ],
   "source": [
    "k1"
   ]
  },
  {
   "cell_type": "code",
   "execution_count": 119,
   "id": "c5677806-c0bc-460b-a7e2-c82385a06d73",
   "metadata": {},
   "outputs": [
    {
     "data": {
      "text/plain": [
       "array([58.        , 52.66666667, 54.33333333])"
      ]
     },
     "execution_count": 119,
     "metadata": {},
     "output_type": "execute_result"
    }
   ],
   "source": [
    "# mean\n",
    "k1.mean(axis = 0)"
   ]
  },
  {
   "cell_type": "code",
   "execution_count": 120,
   "id": "776fba7a-e47e-4d2b-8159-d08e396fb0a9",
   "metadata": {},
   "outputs": [
    {
     "data": {
      "text/plain": [
       "63.0"
      ]
     },
     "execution_count": 120,
     "metadata": {},
     "output_type": "execute_result"
    }
   ],
   "source": [
    "#median\n",
    "np.median(k1)"
   ]
  },
  {
   "cell_type": "code",
   "execution_count": 121,
   "id": "577cd83a-d473-4d29-9cef-30f12662187b",
   "metadata": {},
   "outputs": [
    {
     "data": {
      "text/plain": [
       "34.54787338687514"
      ]
     },
     "execution_count": 121,
     "metadata": {},
     "output_type": "execute_result"
    }
   ],
   "source": [
    "#Standard deviation\n",
    "np.std(k1)"
   ]
  },
  {
   "cell_type": "code",
   "execution_count": 122,
   "id": "d9fd6039-b186-4e41-9e5d-4036193e1844",
   "metadata": {},
   "outputs": [
    {
     "data": {
      "text/plain": [
       "array([27.90459938, 37.06151043, 37.59728123])"
      ]
     },
     "execution_count": 122,
     "metadata": {},
     "output_type": "execute_result"
    }
   ],
   "source": [
    "np.std(k1, axis = 0)"
   ]
  },
  {
   "cell_type": "code",
   "execution_count": 123,
   "id": "55132a35-485d-42de-a343-bcb87070af38",
   "metadata": {},
   "outputs": [
    {
     "data": {
      "text/plain": [
       "1193.5555555555557"
      ]
     },
     "execution_count": 123,
     "metadata": {},
     "output_type": "execute_result"
    }
   ],
   "source": [
    "#Variance\n",
    "np.var(k1)"
   ]
  },
  {
   "cell_type": "markdown",
   "id": "8719b08a-c01b-4783-ba88-b2137f0af6b6",
   "metadata": {},
   "source": [
    "# Trigonometry functions"
   ]
  },
  {
   "cell_type": "code",
   "execution_count": 125,
   "id": "4c9d51a2-5d98-4e03-9911-10922bd4fa58",
   "metadata": {},
   "outputs": [
    {
     "data": {
      "text/plain": [
       "array([[-0.24525199,  0.14112001, -0.89792768],\n",
       "       [ 0.76255845, -0.77946607,  0.14112001],\n",
       "       [-0.55878905,  0.1673557 , -0.77946607]])"
      ]
     },
     "execution_count": 125,
     "metadata": {},
     "output_type": "execute_result"
    }
   ],
   "source": [
    "np.sin(k1)"
   ]
  },
  {
   "cell_type": "code",
   "execution_count": 126,
   "id": "561196e2-93ab-48b9-b840-8855b5a6983e",
   "metadata": {},
   "outputs": [
    {
     "data": {
      "text/plain": [
       "array([[ 0.96945937, -0.9899925 ,  0.44014302],\n",
       "       [ 0.64691932, -0.62644445, -0.9899925 ],\n",
       "       [-0.82930983,  0.98589658, -0.62644445]])"
      ]
     },
     "execution_count": 126,
     "metadata": {},
     "output_type": "execute_result"
    }
   ],
   "source": [
    "np.cos(k1)"
   ]
  },
  {
   "cell_type": "code",
   "execution_count": 127,
   "id": "75e08cb0-cce2-4318-801a-894399887924",
   "metadata": {},
   "outputs": [
    {
     "data": {
      "text/plain": [
       "array([[-0.2529781 , -0.14254654, -2.0400816 ],\n",
       "       [ 1.17875355,  1.24427006, -0.14254654],\n",
       "       [ 0.6738001 ,  0.16974975,  1.24427006]])"
      ]
     },
     "execution_count": 127,
     "metadata": {},
     "output_type": "execute_result"
    }
   ],
   "source": [
    "np.tan(k1)"
   ]
  },
  {
   "cell_type": "markdown",
   "id": "9888763d-03b4-4d4b-a0cd-28a1434aeb5c",
   "metadata": {},
   "source": [
    "# dot product\n",
    "The numpy module of Python provides a function to perform the dot product of two arrays."
   ]
  },
  {
   "cell_type": "code",
   "execution_count": 129,
   "id": "a4eba0b8-8d60-4aa5-81d2-e9bb8b09a46c",
   "metadata": {},
   "outputs": [],
   "source": [
    "s2 = np.arange(12).reshape(3,4)\n",
    "s3 = np.arange(12,24).reshape(4,3)"
   ]
  },
  {
   "cell_type": "code",
   "execution_count": 130,
   "id": "826a908d-777d-4c17-857a-a1bda370bf07",
   "metadata": {},
   "outputs": [
    {
     "data": {
      "text/plain": [
       "array([[ 0,  1,  2,  3],\n",
       "       [ 4,  5,  6,  7],\n",
       "       [ 8,  9, 10, 11]])"
      ]
     },
     "execution_count": 130,
     "metadata": {},
     "output_type": "execute_result"
    }
   ],
   "source": [
    "s2"
   ]
  },
  {
   "cell_type": "code",
   "execution_count": 131,
   "id": "38653ac2-1fdb-4b60-9173-77c50f57f416",
   "metadata": {},
   "outputs": [
    {
     "data": {
      "text/plain": [
       "array([[12, 13, 14],\n",
       "       [15, 16, 17],\n",
       "       [18, 19, 20],\n",
       "       [21, 22, 23]])"
      ]
     },
     "execution_count": 131,
     "metadata": {},
     "output_type": "execute_result"
    }
   ],
   "source": [
    "s3"
   ]
  },
  {
   "cell_type": "code",
   "execution_count": 132,
   "id": "432fa9e3-3839-4e94-9d22-0f7df40be9ee",
   "metadata": {},
   "outputs": [
    {
     "data": {
      "text/plain": [
       "array([[114, 120, 126],\n",
       "       [378, 400, 422],\n",
       "       [642, 680, 718]])"
      ]
     },
     "execution_count": 132,
     "metadata": {},
     "output_type": "execute_result"
    }
   ],
   "source": [
    "np.dot(s2,s3) #dot product of s2, s3"
   ]
  },
  {
   "cell_type": "markdown",
   "id": "fb9ee7af-82ca-412d-a438-d0055c6ca1ca",
   "metadata": {},
   "source": [
    "# Log and exponents"
   ]
  },
  {
   "cell_type": "code",
   "execution_count": 134,
   "id": "0668e3ee-8db3-4c0c-8c9d-46bce3cc9af9",
   "metadata": {},
   "outputs": [
    {
     "data": {
      "text/plain": [
       "array([[1.00000000e+00, 2.71828183e+00, 7.38905610e+00, 2.00855369e+01],\n",
       "       [5.45981500e+01, 1.48413159e+02, 4.03428793e+02, 1.09663316e+03],\n",
       "       [2.98095799e+03, 8.10308393e+03, 2.20264658e+04, 5.98741417e+04]])"
      ]
     },
     "execution_count": 134,
     "metadata": {},
     "output_type": "execute_result"
    }
   ],
   "source": [
    "np.exp(s2)"
   ]
  },
  {
   "cell_type": "markdown",
   "id": "e0b3fb5f-050e-4cee-ad7a-0e584a62068a",
   "metadata": {},
   "source": [
    "__round/floor/ceil__\n",
    "\n",
    "1. __round__\n",
    "   The numpy.round() function rounds the elements of an array to the nearest integer or to the specified number of decimals."
   ]
  },
  {
   "cell_type": "code",
   "execution_count": 136,
   "id": "2bf3aa72-0556-4884-b73a-2a78c8bb7330",
   "metadata": {},
   "outputs": [
    {
     "name": "stdout",
     "output_type": "stream",
     "text": [
      "[1. 3. 4. 5.]\n"
     ]
    }
   ],
   "source": [
    "#Round to the nearest integer\n",
    "arr = np.array([1.2,2.7,3.5,4.9])\n",
    "rounded_arr = np.round(arr)\n",
    "print(rounded_arr)"
   ]
  },
  {
   "cell_type": "code",
   "execution_count": 137,
   "id": "c69adbd4-9f43-42e6-962d-d3524bd7ba28",
   "metadata": {},
   "outputs": [
    {
     "name": "stdout",
     "output_type": "stream",
     "text": [
      "[1.23 2.57 3.89]\n"
     ]
    }
   ],
   "source": [
    "#Round to two decimals \n",
    "arr = np.array([1.234, 2.567, 3.891]) \n",
    "rounded_arr = np.round(arr, decimals=2) \n",
    "print(rounded_arr) "
   ]
  },
  {
   "cell_type": "code",
   "execution_count": 138,
   "id": "647cfdb3-04a4-45ab-8b9a-efefd705f8ce",
   "metadata": {},
   "outputs": [
    {
     "data": {
      "text/plain": [
       "array([[ 6.,  7., 54.],\n",
       "       [71., 73., 85.]])"
      ]
     },
     "execution_count": 138,
     "metadata": {},
     "output_type": "execute_result"
    }
   ],
   "source": [
    "#randomly\n",
    "np.round(np.random.random((2,3)) * 100)"
   ]
  },
  {
   "cell_type": "markdown",
   "id": "fcb96b1a-57a0-4bd0-810c-99b974f2c4af",
   "metadata": {},
   "source": [
    "__2.floor__\n",
    "\n",
    "The numpy.floor() function returns the largest integer less than or equal to each element of an array."
   ]
  },
  {
   "cell_type": "code",
   "execution_count": 140,
   "id": "651f5101-6222-41c9-a828-4c9de2259bd6",
   "metadata": {},
   "outputs": [
    {
     "name": "stdout",
     "output_type": "stream",
     "text": [
      "[1. 2. 3. 4.]\n"
     ]
    }
   ],
   "source": [
    "# Floor operation \n",
    "arr = np.array([1.2, 2.7, 3.5, 4.9])\n",
    "floored_arr = np.floor(arr)\n",
    "print(floored_arr)"
   ]
  },
  {
   "cell_type": "code",
   "execution_count": 141,
   "id": "b8d6fbe1-f760-40f3-a60b-69b8a6313788",
   "metadata": {},
   "outputs": [
    {
     "data": {
      "text/plain": [
       "array([[71.,  1., 46.],\n",
       "       [22., 57., 62.]])"
      ]
     },
     "execution_count": 141,
     "metadata": {},
     "output_type": "execute_result"
    }
   ],
   "source": [
    "np.floor(np.random.random((2,3)) * 100) "
   ]
  },
  {
   "cell_type": "markdown",
   "id": "9ddb1a65-e944-45bf-bc92-9ca11e64d9c0",
   "metadata": {},
   "source": [
    "__3.Ceil__\n",
    "\n",
    "The numpy.ceil() function returns the smallest integer greater than or equal to each element of an array."
   ]
  },
  {
   "cell_type": "code",
   "execution_count": 143,
   "id": "a445eb73-ca20-4988-8c8e-9ff749386409",
   "metadata": {},
   "outputs": [
    {
     "name": "stdout",
     "output_type": "stream",
     "text": [
      "[2. 3. 4. 5.]\n"
     ]
    }
   ],
   "source": [
    "arr = np.array([1.2, 2.7, 3.5, 4.9])\n",
    "ceiled_arr = np.ceil(arr)\n",
    "print(ceiled_arr)"
   ]
  },
  {
   "cell_type": "code",
   "execution_count": 144,
   "id": "398b52cb-d366-40af-8cfb-191fffb61a37",
   "metadata": {},
   "outputs": [
    {
     "data": {
      "text/plain": [
       "array([[72., 97., 86.],\n",
       "       [65., 18., 45.]])"
      ]
     },
     "execution_count": 144,
     "metadata": {},
     "output_type": "execute_result"
    }
   ],
   "source": [
    "np.ceil(np.random.random((2,3)) * 100) "
   ]
  },
  {
   "cell_type": "markdown",
   "id": "e00382a6-816f-491b-a5b9-2f3fe34ebc4a",
   "metadata": {},
   "source": [
    "# __Indexing and Slicing__"
   ]
  },
  {
   "cell_type": "code",
   "execution_count": 146,
   "id": "b83223d5-64cf-47ea-80e4-636e646e9ebc",
   "metadata": {},
   "outputs": [],
   "source": [
    "p1 = np.arange(10)\n",
    "p2 = np.arange(12).reshape(3,4)\n",
    "p3 = np.arange(8).reshape(2,2,2)"
   ]
  },
  {
   "cell_type": "code",
   "execution_count": 147,
   "id": "0e9993b8-10aa-466b-85d1-0d17a8a5db9f",
   "metadata": {},
   "outputs": [
    {
     "data": {
      "text/plain": [
       "array([0, 1, 2, 3, 4, 5, 6, 7, 8, 9])"
      ]
     },
     "execution_count": 147,
     "metadata": {},
     "output_type": "execute_result"
    }
   ],
   "source": [
    "p1"
   ]
  },
  {
   "cell_type": "code",
   "execution_count": 148,
   "id": "938eeabb-7cdb-4a93-9eda-c6803e1863b5",
   "metadata": {},
   "outputs": [
    {
     "data": {
      "text/plain": [
       "array([[ 0,  1,  2,  3],\n",
       "       [ 4,  5,  6,  7],\n",
       "       [ 8,  9, 10, 11]])"
      ]
     },
     "execution_count": 148,
     "metadata": {},
     "output_type": "execute_result"
    }
   ],
   "source": [
    "p2"
   ]
  },
  {
   "cell_type": "code",
   "execution_count": 149,
   "id": "97b7ae83-34a0-4f79-beec-6029fc33c72c",
   "metadata": {},
   "outputs": [
    {
     "data": {
      "text/plain": [
       "array([[[0, 1],\n",
       "        [2, 3]],\n",
       "\n",
       "       [[4, 5],\n",
       "        [6, 7]]])"
      ]
     },
     "execution_count": 149,
     "metadata": {},
     "output_type": "execute_result"
    }
   ],
   "source": [
    "p3"
   ]
  },
  {
   "cell_type": "markdown",
   "id": "e430c024-70db-4a3a-8a4a-23c90a60fd4b",
   "metadata": {},
   "source": [
    "# Indexing on 1D array"
   ]
  },
  {
   "cell_type": "code",
   "execution_count": 151,
   "id": "60a58a54-a2f6-4fd3-89f8-b74e5d36279c",
   "metadata": {},
   "outputs": [
    {
     "data": {
      "text/plain": [
       "array([0, 1, 2, 3, 4, 5, 6, 7, 8, 9])"
      ]
     },
     "execution_count": 151,
     "metadata": {},
     "output_type": "execute_result"
    }
   ],
   "source": [
    "p1"
   ]
  },
  {
   "cell_type": "code",
   "execution_count": 152,
   "id": "48d570b9-2db9-4c4b-b04c-25d839477935",
   "metadata": {},
   "outputs": [
    {
     "data": {
      "text/plain": [
       "9"
      ]
     },
     "execution_count": 152,
     "metadata": {},
     "output_type": "execute_result"
    }
   ],
   "source": [
    "#fetching the last item\n",
    "p1[-1]"
   ]
  },
  {
   "cell_type": "code",
   "execution_count": 153,
   "id": "f0bb737f-4ece-4827-980c-997d5f0a051e",
   "metadata": {},
   "outputs": [
    {
     "data": {
      "text/plain": [
       "0"
      ]
     },
     "execution_count": 153,
     "metadata": {},
     "output_type": "execute_result"
    }
   ],
   "source": [
    "#fetching the first item\n",
    "p1[0]"
   ]
  },
  {
   "cell_type": "markdown",
   "id": "41d3f0bf-e3b6-4b1d-b30e-be0cbcd9f23e",
   "metadata": {},
   "source": [
    "# Indexing on 2D array"
   ]
  },
  {
   "cell_type": "code",
   "execution_count": 155,
   "id": "2516e93b-d64b-4b70-8086-c33f84c1a243",
   "metadata": {},
   "outputs": [
    {
     "data": {
      "text/plain": [
       "array([[ 0,  1,  2,  3],\n",
       "       [ 4,  5,  6,  7],\n",
       "       [ 8,  9, 10, 11]])"
      ]
     },
     "execution_count": 155,
     "metadata": {},
     "output_type": "execute_result"
    }
   ],
   "source": [
    "p2"
   ]
  },
  {
   "cell_type": "code",
   "execution_count": 156,
   "id": "24299279-98c2-441b-9420-8e741310d6a0",
   "metadata": {},
   "outputs": [
    {
     "data": {
      "text/plain": [
       "6"
      ]
     },
     "execution_count": 156,
     "metadata": {},
     "output_type": "execute_result"
    }
   ],
   "source": [
    "# fetching the desired element : 6\n",
    "p2[1,2]"
   ]
  },
  {
   "cell_type": "code",
   "execution_count": 157,
   "id": "81562723-91ce-4061-960f-a6d77ec00eb0",
   "metadata": {},
   "outputs": [
    {
     "data": {
      "text/plain": [
       "11"
      ]
     },
     "execution_count": 157,
     "metadata": {},
     "output_type": "execute_result"
    }
   ],
   "source": [
    "# fetching the desired element : 11\n",
    "p2[2,3]"
   ]
  },
  {
   "cell_type": "code",
   "execution_count": 158,
   "id": "4caaee59-7222-4c1f-9649-182cd43511c9",
   "metadata": {},
   "outputs": [
    {
     "data": {
      "text/plain": [
       "array([[ 0,  1,  2,  3],\n",
       "       [ 4,  5,  6,  7],\n",
       "       [ 8,  9, 10, 11]])"
      ]
     },
     "execution_count": 158,
     "metadata": {},
     "output_type": "execute_result"
    }
   ],
   "source": [
    "p2"
   ]
  },
  {
   "cell_type": "code",
   "execution_count": 159,
   "id": "5e7ba94b-8d48-437f-b996-0210610746c6",
   "metadata": {},
   "outputs": [
    {
     "data": {
      "text/plain": [
       "4"
      ]
     },
     "execution_count": 159,
     "metadata": {},
     "output_type": "execute_result"
    }
   ],
   "source": [
    "#fetching the desired element : 4\n",
    "p2[1,0]"
   ]
  },
  {
   "cell_type": "markdown",
   "id": "a0668dd6-7365-4d98-b5e3-78446547e95f",
   "metadata": {},
   "source": [
    "# Indexing on 3D (Tensors)"
   ]
  },
  {
   "cell_type": "code",
   "execution_count": 161,
   "id": "b8014f2b-80de-458f-b5b8-a28754631216",
   "metadata": {},
   "outputs": [
    {
     "data": {
      "text/plain": [
       "array([[[0, 1],\n",
       "        [2, 3]],\n",
       "\n",
       "       [[4, 5],\n",
       "        [6, 7]]])"
      ]
     },
     "execution_count": 161,
     "metadata": {},
     "output_type": "execute_result"
    }
   ],
   "source": [
    "p3"
   ]
  },
  {
   "cell_type": "code",
   "execution_count": 162,
   "id": "421548a0-f425-412d-aa8e-3c16e79e26b8",
   "metadata": {},
   "outputs": [
    {
     "data": {
      "text/plain": [
       "5"
      ]
     },
     "execution_count": 162,
     "metadata": {},
     "output_type": "execute_result"
    }
   ],
   "source": [
    "# fetching desired element : 5\n",
    "p3[1,0,1]"
   ]
  },
  {
   "cell_type": "code",
   "execution_count": 163,
   "id": "218a08e7-4279-4cda-8c76-f446ce4358f9",
   "metadata": {},
   "outputs": [
    {
     "data": {
      "text/plain": [
       "2"
      ]
     },
     "execution_count": 163,
     "metadata": {},
     "output_type": "execute_result"
    }
   ],
   "source": [
    "#fetching desired element : 2\n",
    "p3[0,1,0]"
   ]
  },
  {
   "cell_type": "code",
   "execution_count": 164,
   "id": "43fbae50-6f44-434c-9333-9c3e0b38dead",
   "metadata": {},
   "outputs": [
    {
     "data": {
      "text/plain": [
       "0"
      ]
     },
     "execution_count": 164,
     "metadata": {},
     "output_type": "execute_result"
    }
   ],
   "source": [
    "#fetching desired element : 0\n",
    "p3[0,0,0]"
   ]
  },
  {
   "cell_type": "code",
   "execution_count": 165,
   "id": "e9a1be57-1389-497f-803c-b1842d659c29",
   "metadata": {},
   "outputs": [
    {
     "data": {
      "text/plain": [
       "6"
      ]
     },
     "execution_count": 165,
     "metadata": {},
     "output_type": "execute_result"
    }
   ],
   "source": [
    "#fetching desired element : 6\n",
    "p3[1,1,0]"
   ]
  },
  {
   "cell_type": "markdown",
   "id": "569a1e54-4259-4bb8-ab00-0e5414e5e2e4",
   "metadata": {},
   "source": [
    "# Slicing\n",
    "Fetching multiple items\n",
    "\n",
    "# Slicing on 1D"
   ]
  },
  {
   "cell_type": "code",
   "execution_count": 167,
   "id": "f13f5abe-eaf3-45d3-8b31-b3a1711f1aca",
   "metadata": {},
   "outputs": [
    {
     "data": {
      "text/plain": [
       "array([0, 1, 2, 3, 4, 5, 6, 7, 8, 9])"
      ]
     },
     "execution_count": 167,
     "metadata": {},
     "output_type": "execute_result"
    }
   ],
   "source": [
    "p1"
   ]
  },
  {
   "cell_type": "code",
   "execution_count": 168,
   "id": "208c16a6-7398-472d-9f6c-b51735dbc7e2",
   "metadata": {},
   "outputs": [
    {
     "data": {
      "text/plain": [
       "array([2, 3, 4])"
      ]
     },
     "execution_count": 168,
     "metadata": {},
     "output_type": "execute_result"
    }
   ],
   "source": [
    "#fetching desired elements are : 2,3,4\n",
    "p1[2:5]"
   ]
  },
  {
   "cell_type": "code",
   "execution_count": 169,
   "id": "75b442d1-e4d4-44a7-9143-9392cd2cf8f5",
   "metadata": {},
   "outputs": [
    {
     "data": {
      "text/plain": [
       "array([2, 4])"
      ]
     },
     "execution_count": 169,
     "metadata": {},
     "output_type": "execute_result"
    }
   ],
   "source": [
    "# Alternate (same as python)\n",
    "p1[2:5:2]"
   ]
  },
  {
   "cell_type": "code",
   "execution_count": 170,
   "id": "2819037a-2b75-48b0-b011-caf72409ce32",
   "metadata": {},
   "outputs": [
    {
     "data": {
      "text/plain": [
       "array([[ 0,  1,  2,  3],\n",
       "       [ 4,  5,  6,  7],\n",
       "       [ 8,  9, 10, 11]])"
      ]
     },
     "execution_count": 170,
     "metadata": {},
     "output_type": "execute_result"
    }
   ],
   "source": [
    "p2"
   ]
  },
  {
   "cell_type": "code",
   "execution_count": 171,
   "id": "287b159e-57a3-4a0a-80aa-6bf58007f807",
   "metadata": {},
   "outputs": [
    {
     "data": {
      "text/plain": [
       "array([0, 1, 2, 3])"
      ]
     },
     "execution_count": 171,
     "metadata": {},
     "output_type": "execute_result"
    }
   ],
   "source": [
    "#fetching total first row\n",
    "p2[0, :] #Here 0 represents the first row and (:) represents Total column"
   ]
  },
  {
   "cell_type": "code",
   "execution_count": 172,
   "id": "88e0d63e-221b-44b3-b757-00d5d19f3669",
   "metadata": {},
   "outputs": [
    {
     "data": {
      "text/plain": [
       "array([ 2,  6, 10])"
      ]
     },
     "execution_count": 172,
     "metadata": {},
     "output_type": "execute_result"
    }
   ],
   "source": [
    "#fetching total third column\n",
    "p2[:, 2]"
   ]
  },
  {
   "cell_type": "code",
   "execution_count": 173,
   "id": "4447805c-05f3-4998-8053-8bc882939bb6",
   "metadata": {},
   "outputs": [
    {
     "data": {
      "text/plain": [
       "array([[ 4,  5,  6,  7],\n",
       "       [ 8,  9, 10, 11]])"
      ]
     },
     "execution_count": 173,
     "metadata": {},
     "output_type": "execute_result"
    }
   ],
   "source": [
    "#fetch 5,6 and 9,10\n",
    "p2[1:3] #for rows"
   ]
  },
  {
   "cell_type": "code",
   "execution_count": 174,
   "id": "f660b051-d65d-4d3e-8878-da71ac2b4701",
   "metadata": {},
   "outputs": [
    {
     "data": {
      "text/plain": [
       "array([[ 5,  6],\n",
       "       [ 9, 10]])"
      ]
     },
     "execution_count": 174,
     "metadata": {},
     "output_type": "execute_result"
    }
   ],
   "source": [
    "p2[1:3,1:3] #for columns"
   ]
  },
  {
   "cell_type": "code",
   "execution_count": 175,
   "id": "38dd8025-4432-4d12-bf4e-ffba46313675",
   "metadata": {},
   "outputs": [
    {
     "data": {
      "text/plain": [
       "array([[ 0,  1,  2,  3],\n",
       "       [ 4,  5,  6,  7],\n",
       "       [ 8,  9, 10, 11]])"
      ]
     },
     "execution_count": 175,
     "metadata": {},
     "output_type": "execute_result"
    }
   ],
   "source": [
    "p2"
   ]
  },
  {
   "cell_type": "code",
   "execution_count": 176,
   "id": "68ccbed0-b3ed-4029-ac4d-cd0f2749d645",
   "metadata": {},
   "outputs": [
    {
     "data": {
      "text/plain": [
       "array([[ 0,  3],\n",
       "       [ 8, 11]])"
      ]
     },
     "execution_count": 176,
     "metadata": {},
     "output_type": "execute_result"
    }
   ],
   "source": [
    "#fetch 0,3 and 8,11\n",
    "p2[::2,::3]"
   ]
  },
  {
   "cell_type": "code",
   "execution_count": 177,
   "id": "b78d5cc4-b0c6-4b27-87be-90f6cf4716eb",
   "metadata": {},
   "outputs": [
    {
     "data": {
      "text/plain": [
       "array([[ 0,  1,  2,  3],\n",
       "       [ 4,  5,  6,  7],\n",
       "       [ 8,  9, 10, 11]])"
      ]
     },
     "execution_count": 177,
     "metadata": {},
     "output_type": "execute_result"
    }
   ],
   "source": [
    "p2"
   ]
  },
  {
   "cell_type": "code",
   "execution_count": 178,
   "id": "fad15789-082e-46b6-8294-d688667b8fba",
   "metadata": {},
   "outputs": [
    {
     "data": {
      "text/plain": [
       "array([[ 2,  3],\n",
       "       [10, 11]])"
      ]
     },
     "execution_count": 178,
     "metadata": {},
     "output_type": "execute_result"
    }
   ],
   "source": [
    "p2[::2,2:4]"
   ]
  },
  {
   "cell_type": "markdown",
   "id": "07084a25-b41e-467e-aa02-61534073c660",
   "metadata": {},
   "source": [
    "# Slicing in 3D"
   ]
  },
  {
   "cell_type": "code",
   "execution_count": 183,
   "id": "aa76e53d-371c-41ff-bc57-c78fa4356008",
   "metadata": {},
   "outputs": [
    {
     "data": {
      "text/plain": [
       "array([[[ 0,  1,  2],\n",
       "        [ 3,  4,  5],\n",
       "        [ 6,  7,  8]],\n",
       "\n",
       "       [[ 9, 10, 11],\n",
       "        [12, 13, 14],\n",
       "        [15, 16, 17]],\n",
       "\n",
       "       [[18, 19, 20],\n",
       "        [21, 22, 23],\n",
       "        [24, 25, 26]]])"
      ]
     },
     "execution_count": 183,
     "metadata": {},
     "output_type": "execute_result"
    }
   ],
   "source": [
    "p3 = np.arange(27).reshape(3,3,3)\n",
    "p3"
   ]
  },
  {
   "cell_type": "code",
   "execution_count": 185,
   "id": "bc0ac49d-0dc3-4cfb-be8e-c9850aa451be",
   "metadata": {},
   "outputs": [
    {
     "data": {
      "text/plain": [
       "array([[ 9, 10, 11],\n",
       "       [12, 13, 14],\n",
       "       [15, 16, 17]])"
      ]
     },
     "execution_count": 185,
     "metadata": {},
     "output_type": "execute_result"
    }
   ],
   "source": [
    "#fetch second matrix\n",
    "p3[1]"
   ]
  },
  {
   "cell_type": "code",
   "execution_count": 187,
   "id": "4c95e5b4-70cf-4d94-abe1-315004589c40",
   "metadata": {},
   "outputs": [
    {
     "data": {
      "text/plain": [
       "array([[[ 0,  1,  2],\n",
       "        [ 3,  4,  5],\n",
       "        [ 6,  7,  8]],\n",
       "\n",
       "       [[18, 19, 20],\n",
       "        [21, 22, 23],\n",
       "        [24, 25, 26]]])"
      ]
     },
     "execution_count": 187,
     "metadata": {},
     "output_type": "execute_result"
    }
   ],
   "source": [
    "#fetch first and last matrix\n",
    "p3[::2]"
   ]
  },
  {
   "cell_type": "code",
   "execution_count": 189,
   "id": "855ac13a-aac6-45a6-b43d-b2a34a3c22ac",
   "metadata": {},
   "outputs": [
    {
     "data": {
      "text/plain": [
       "array([[[ 0,  1,  2],\n",
       "        [ 3,  4,  5],\n",
       "        [ 6,  7,  8]],\n",
       "\n",
       "       [[ 9, 10, 11],\n",
       "        [12, 13, 14],\n",
       "        [15, 16, 17]],\n",
       "\n",
       "       [[18, 19, 20],\n",
       "        [21, 22, 23],\n",
       "        [24, 25, 26]]])"
      ]
     },
     "execution_count": 189,
     "metadata": {},
     "output_type": "execute_result"
    }
   ],
   "source": [
    "#fetch 1 2s array's 2 row - 3,4,5\n",
    "p3"
   ]
  },
  {
   "cell_type": "code",
   "execution_count": 197,
   "id": "7c3036b7-ac17-4e70-9cf0-207d8e57f0b1",
   "metadata": {},
   "outputs": [
    {
     "data": {
      "text/plain": [
       "array([[0, 1, 2],\n",
       "       [3, 4, 5],\n",
       "       [6, 7, 8]])"
      ]
     },
     "execution_count": 197,
     "metadata": {},
     "output_type": "execute_result"
    }
   ],
   "source": [
    "p3[0]"
   ]
  },
  {
   "cell_type": "code",
   "execution_count": 199,
   "id": "4c36d56d-d893-4635-8cd7-563577e04629",
   "metadata": {},
   "outputs": [
    {
     "data": {
      "text/plain": [
       "array([3, 4, 5])"
      ]
     },
     "execution_count": 199,
     "metadata": {},
     "output_type": "execute_result"
    }
   ],
   "source": [
    "p3[0,1,:]"
   ]
  },
  {
   "cell_type": "code",
   "execution_count": 201,
   "id": "34657879-e853-41e7-895d-7d26c83b9673",
   "metadata": {},
   "outputs": [
    {
     "data": {
      "text/plain": [
       "array([[[ 0,  1,  2],\n",
       "        [ 3,  4,  5],\n",
       "        [ 6,  7,  8]],\n",
       "\n",
       "       [[ 9, 10, 11],\n",
       "        [12, 13, 14],\n",
       "        [15, 16, 17]],\n",
       "\n",
       "       [[18, 19, 20],\n",
       "        [21, 22, 23],\n",
       "        [24, 25, 26]]])"
      ]
     },
     "execution_count": 201,
     "metadata": {},
     "output_type": "execute_result"
    }
   ],
   "source": [
    "#Fetch 2 numpy array, middle column -- 10,13,16\n",
    "p3"
   ]
  },
  {
   "cell_type": "code",
   "execution_count": 209,
   "id": "46b5d8d3-4c38-4386-8b70-d40aa82bf3fe",
   "metadata": {},
   "outputs": [
    {
     "data": {
      "text/plain": [
       "array([[ 9, 10, 11],\n",
       "       [12, 13, 14],\n",
       "       [15, 16, 17]])"
      ]
     },
     "execution_count": 209,
     "metadata": {},
     "output_type": "execute_result"
    }
   ],
   "source": [
    "p3[1]"
   ]
  },
  {
   "cell_type": "code",
   "execution_count": 211,
   "id": "29db9ab1-6211-4b6b-a09b-4354dcb7a967",
   "metadata": {},
   "outputs": [
    {
     "data": {
      "text/plain": [
       "array([10, 13, 16])"
      ]
     },
     "execution_count": 211,
     "metadata": {},
     "output_type": "execute_result"
    }
   ],
   "source": [
    "p3[1,:,1]"
   ]
  },
  {
   "cell_type": "code",
   "execution_count": 213,
   "id": "8a7d3783-4bbe-4ca3-8edb-0a0714329ed0",
   "metadata": {},
   "outputs": [
    {
     "data": {
      "text/plain": [
       "array([[18, 19, 20],\n",
       "       [21, 22, 23],\n",
       "       [24, 25, 26]])"
      ]
     },
     "execution_count": 213,
     "metadata": {},
     "output_type": "execute_result"
    }
   ],
   "source": [
    "p3[2] #last row"
   ]
  },
  {
   "cell_type": "code",
   "execution_count": 245,
   "id": "115df4a0-5a00-4278-8d10-f0ec55e7143f",
   "metadata": {},
   "outputs": [
    {
     "data": {
      "text/plain": [
       "array([[21, 22, 23],\n",
       "       [24, 25, 26]])"
      ]
     },
     "execution_count": 245,
     "metadata": {},
     "output_type": "execute_result"
    }
   ],
   "source": [
    "p3[2,1:] #last 2 rows"
   ]
  },
  {
   "cell_type": "code",
   "execution_count": 247,
   "id": "6f8feaa4-4fb8-4bd9-84f4-7ffc0d616891",
   "metadata": {},
   "outputs": [
    {
     "data": {
      "text/plain": [
       "array([[22, 23],\n",
       "       [25, 26]])"
      ]
     },
     "execution_count": 247,
     "metadata": {},
     "output_type": "execute_result"
    }
   ],
   "source": [
    "#last 2 columns\n",
    "p3[2,1:,1:]"
   ]
  },
  {
   "cell_type": "code",
   "execution_count": 249,
   "id": "20446a94-d9cb-4ac7-937c-919d6516bd25",
   "metadata": {},
   "outputs": [
    {
     "data": {
      "text/plain": [
       "array([[[ 0,  1,  2],\n",
       "        [ 3,  4,  5],\n",
       "        [ 6,  7,  8]],\n",
       "\n",
       "       [[ 9, 10, 11],\n",
       "        [12, 13, 14],\n",
       "        [15, 16, 17]],\n",
       "\n",
       "       [[18, 19, 20],\n",
       "        [21, 22, 23],\n",
       "        [24, 25, 26]]])"
      ]
     },
     "execution_count": 249,
     "metadata": {},
     "output_type": "execute_result"
    }
   ],
   "source": [
    "#Fetch 0,2,18,20\n",
    "p3"
   ]
  },
  {
   "cell_type": "code",
   "execution_count": 257,
   "id": "03661475-b63c-41de-bd4e-3d361bdf39c4",
   "metadata": {},
   "outputs": [
    {
     "data": {
      "text/plain": [
       "array([[[ 0,  1,  2],\n",
       "        [ 3,  4,  5],\n",
       "        [ 6,  7,  8]],\n",
       "\n",
       "       [[18, 19, 20],\n",
       "        [21, 22, 23],\n",
       "        [24, 25, 26]]])"
      ]
     },
     "execution_count": 257,
     "metadata": {},
     "output_type": "execute_result"
    }
   ],
   "source": [
    "p3[0::2]"
   ]
  },
  {
   "cell_type": "code",
   "execution_count": 261,
   "id": "62877601-5072-4578-aef3-47da25a3a65d",
   "metadata": {},
   "outputs": [
    {
     "data": {
      "text/plain": [
       "array([[ 0,  2],\n",
       "       [18, 20]])"
      ]
     },
     "execution_count": 261,
     "metadata": {},
     "output_type": "execute_result"
    }
   ],
   "source": [
    "p3[0::2, 0 , ::2] #for columns"
   ]
  },
  {
   "cell_type": "code",
   "execution_count": null,
   "id": "0c350965-d67a-4272-ac26-04781a056b0a",
   "metadata": {},
   "outputs": [],
   "source": []
  }
 ],
 "metadata": {
  "kernelspec": {
   "display_name": "Python 3 (ipykernel)",
   "language": "python",
   "name": "python3"
  },
  "language_info": {
   "codemirror_mode": {
    "name": "ipython",
    "version": 3
   },
   "file_extension": ".py",
   "mimetype": "text/x-python",
   "name": "python",
   "nbconvert_exporter": "python",
   "pygments_lexer": "ipython3",
   "version": "3.12.4"
  }
 },
 "nbformat": 4,
 "nbformat_minor": 5
}
