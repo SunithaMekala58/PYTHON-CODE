{
 "cells": [
  {
   "cell_type": "markdown",
   "id": "cc1dc9bb-2091-4dbc-af29-993cd293a00c",
   "metadata": {},
   "source": [
    "# Finding Outliers with formulaes and plots"
   ]
  },
  {
   "cell_type": "code",
   "execution_count": 2,
   "id": "e18959ea-7ae1-4a03-95f6-6a0514f8e6f1",
   "metadata": {},
   "outputs": [],
   "source": [
    "import pandas as pd\n",
    "import seaborn as sns\n",
    "import matplotlib.pyplot as plt"
   ]
  },
  {
   "cell_type": "code",
   "execution_count": 3,
   "id": "a0247626-e289-413b-801f-53eae1b9757b",
   "metadata": {},
   "outputs": [
    {
     "data": {
      "text/html": [
       "<div>\n",
       "<style scoped>\n",
       "    .dataframe tbody tr th:only-of-type {\n",
       "        vertical-align: middle;\n",
       "    }\n",
       "\n",
       "    .dataframe tbody tr th {\n",
       "        vertical-align: top;\n",
       "    }\n",
       "\n",
       "    .dataframe thead th {\n",
       "        text-align: right;\n",
       "    }\n",
       "</style>\n",
       "<table border=\"1\" class=\"dataframe\">\n",
       "  <thead>\n",
       "    <tr style=\"text-align: right;\">\n",
       "      <th></th>\n",
       "      <th>SID</th>\n",
       "      <th>Name</th>\n",
       "      <th>Age</th>\n",
       "      <th>Gender</th>\n",
       "    </tr>\n",
       "  </thead>\n",
       "  <tbody>\n",
       "    <tr>\n",
       "      <th>0</th>\n",
       "      <td>1</td>\n",
       "      <td>Mark</td>\n",
       "      <td>10</td>\n",
       "      <td>M</td>\n",
       "    </tr>\n",
       "    <tr>\n",
       "      <th>1</th>\n",
       "      <td>2</td>\n",
       "      <td>Rob</td>\n",
       "      <td>15</td>\n",
       "      <td>F</td>\n",
       "    </tr>\n",
       "    <tr>\n",
       "      <th>2</th>\n",
       "      <td>3</td>\n",
       "      <td>Sony</td>\n",
       "      <td>30</td>\n",
       "      <td>M</td>\n",
       "    </tr>\n",
       "    <tr>\n",
       "      <th>3</th>\n",
       "      <td>4</td>\n",
       "      <td>Ravi</td>\n",
       "      <td>7</td>\n",
       "      <td>F</td>\n",
       "    </tr>\n",
       "    <tr>\n",
       "      <th>4</th>\n",
       "      <td>5</td>\n",
       "      <td>Rajesh</td>\n",
       "      <td>4</td>\n",
       "      <td>F</td>\n",
       "    </tr>\n",
       "    <tr>\n",
       "      <th>5</th>\n",
       "      <td>6</td>\n",
       "      <td>Suresh</td>\n",
       "      <td>1</td>\n",
       "      <td>F</td>\n",
       "    </tr>\n",
       "    <tr>\n",
       "      <th>6</th>\n",
       "      <td>7</td>\n",
       "      <td>Ramya</td>\n",
       "      <td>9</td>\n",
       "      <td>F</td>\n",
       "    </tr>\n",
       "    <tr>\n",
       "      <th>7</th>\n",
       "      <td>8</td>\n",
       "      <td>Helen</td>\n",
       "      <td>9</td>\n",
       "      <td>F</td>\n",
       "    </tr>\n",
       "    <tr>\n",
       "      <th>8</th>\n",
       "      <td>9</td>\n",
       "      <td>Stella</td>\n",
       "      <td>11</td>\n",
       "      <td>F</td>\n",
       "    </tr>\n",
       "    <tr>\n",
       "      <th>9</th>\n",
       "      <td>10</td>\n",
       "      <td>Bob</td>\n",
       "      <td>20</td>\n",
       "      <td>F</td>\n",
       "    </tr>\n",
       "    <tr>\n",
       "      <th>10</th>\n",
       "      <td>11</td>\n",
       "      <td>Sudheer</td>\n",
       "      <td>19</td>\n",
       "      <td>M</td>\n",
       "    </tr>\n",
       "    <tr>\n",
       "      <th>11</th>\n",
       "      <td>12</td>\n",
       "      <td>Sridhar</td>\n",
       "      <td>12</td>\n",
       "      <td>F</td>\n",
       "    </tr>\n",
       "    <tr>\n",
       "      <th>12</th>\n",
       "      <td>13</td>\n",
       "      <td>Alex</td>\n",
       "      <td>23</td>\n",
       "      <td>M</td>\n",
       "    </tr>\n",
       "    <tr>\n",
       "      <th>13</th>\n",
       "      <td>14</td>\n",
       "      <td>Bob</td>\n",
       "      <td>67</td>\n",
       "      <td>F</td>\n",
       "    </tr>\n",
       "    <tr>\n",
       "      <th>14</th>\n",
       "      <td>15</td>\n",
       "      <td>Sunny</td>\n",
       "      <td>54</td>\n",
       "      <td>M</td>\n",
       "    </tr>\n",
       "    <tr>\n",
       "      <th>15</th>\n",
       "      <td>16</td>\n",
       "      <td>Rakesh</td>\n",
       "      <td>34</td>\n",
       "      <td>F</td>\n",
       "    </tr>\n",
       "    <tr>\n",
       "      <th>16</th>\n",
       "      <td>17</td>\n",
       "      <td>Sathwik</td>\n",
       "      <td>70</td>\n",
       "      <td>M</td>\n",
       "    </tr>\n",
       "    <tr>\n",
       "      <th>17</th>\n",
       "      <td>18</td>\n",
       "      <td>Mohan</td>\n",
       "      <td>45</td>\n",
       "      <td>F</td>\n",
       "    </tr>\n",
       "    <tr>\n",
       "      <th>18</th>\n",
       "      <td>19</td>\n",
       "      <td>Charan</td>\n",
       "      <td>100</td>\n",
       "      <td>M</td>\n",
       "    </tr>\n",
       "    <tr>\n",
       "      <th>19</th>\n",
       "      <td>20</td>\n",
       "      <td>Rithika</td>\n",
       "      <td>40</td>\n",
       "      <td>F</td>\n",
       "    </tr>\n",
       "  </tbody>\n",
       "</table>\n",
       "</div>"
      ],
      "text/plain": [
       "    SID     Name  Age Gender\n",
       "0     1     Mark   10      M\n",
       "1     2      Rob   15      F\n",
       "2     3     Sony   30      M\n",
       "3     4     Ravi    7      F\n",
       "4     5   Rajesh    4      F\n",
       "5     6   Suresh    1      F\n",
       "6     7    Ramya    9      F\n",
       "7     8    Helen    9      F\n",
       "8     9   Stella   11      F\n",
       "9    10      Bob   20      F\n",
       "10   11  Sudheer   19      M\n",
       "11   12  Sridhar   12      F\n",
       "12   13     Alex   23      M\n",
       "13   14      Bob   67      F\n",
       "14   15    Sunny   54      M\n",
       "15   16   Rakesh   34      F\n",
       "16   17  Sathwik   70      M\n",
       "17   18    Mohan   45      F\n",
       "18   19   Charan  100      M\n",
       "19   20  Rithika   40      F"
      ]
     },
     "execution_count": 3,
     "metadata": {},
     "output_type": "execute_result"
    }
   ],
   "source": [
    "df = pd.read_excel(r'C:\\Users\\SUNITHA\\Desktop\\Outlier_test.xlsx')\n",
    "df"
   ]
  },
  {
   "cell_type": "code",
   "execution_count": 4,
   "id": "ac6ed1cb-fa7b-41f0-8907-9abd73ff2313",
   "metadata": {},
   "outputs": [
    {
     "name": "stdout",
     "output_type": "stream",
     "text": [
      "<class 'pandas.core.frame.DataFrame'>\n",
      "RangeIndex: 20 entries, 0 to 19\n",
      "Data columns (total 4 columns):\n",
      " #   Column  Non-Null Count  Dtype \n",
      "---  ------  --------------  ----- \n",
      " 0   SID     20 non-null     int64 \n",
      " 1   Name    20 non-null     object\n",
      " 2   Age     20 non-null     int64 \n",
      " 3   Gender  20 non-null     object\n",
      "dtypes: int64(2), object(2)\n",
      "memory usage: 772.0+ bytes\n"
     ]
    }
   ],
   "source": [
    "df.info()"
   ]
  },
  {
   "cell_type": "code",
   "execution_count": 5,
   "id": "54b4c48e-83b4-4b1c-a387-3915a5e6d93e",
   "metadata": {},
   "outputs": [],
   "source": [
    "df.Name = df.Name.astype('category')"
   ]
  },
  {
   "cell_type": "code",
   "execution_count": 6,
   "id": "a23cda6d-ae4d-4d09-82f5-8fc8137bf91f",
   "metadata": {},
   "outputs": [],
   "source": [
    "df.Gender = df.Gender.astype('category')"
   ]
  },
  {
   "cell_type": "code",
   "execution_count": 7,
   "id": "9ce8bfb3-271d-46f2-965f-81e026c9ee4d",
   "metadata": {},
   "outputs": [
    {
     "name": "stdout",
     "output_type": "stream",
     "text": [
      "<class 'pandas.core.frame.DataFrame'>\n",
      "RangeIndex: 20 entries, 0 to 19\n",
      "Data columns (total 4 columns):\n",
      " #   Column  Non-Null Count  Dtype   \n",
      "---  ------  --------------  -----   \n",
      " 0   SID     20 non-null     int64   \n",
      " 1   Name    20 non-null     category\n",
      " 2   Age     20 non-null     int64   \n",
      " 3   Gender  20 non-null     category\n",
      "dtypes: category(2), int64(2)\n",
      "memory usage: 1.3 KB\n"
     ]
    }
   ],
   "source": [
    "df.info()"
   ]
  },
  {
   "cell_type": "code",
   "execution_count": 8,
   "id": "6719aed6-d685-4903-8b41-0ea918178860",
   "metadata": {},
   "outputs": [
    {
     "name": "stdout",
     "output_type": "stream",
     "text": [
      "Outliers:\n",
      "     SID    Name  Age Gender\n",
      "18   19  Charan  100      M\n"
     ]
    }
   ],
   "source": [
    " # Get the first quantile\n",
    "Q1 = df['Age'].quantile(0.25)\n",
    "\n",
    "# Get the third quantile\n",
    "Q3 = df['Age'].quantile(0.75)\n",
    "\n",
    "# IQR - Inter Quantile Range\n",
    "IQR = Q3 - Q1\n",
    "\n",
    "#define bounds\n",
    "lower = Q1-1.5*IQR\n",
    "\n",
    "upper = Q3+1.5*IQR\n",
    "\n",
    "outlier = df[(df[\"Age\"]<lower) | \n",
    "              (df[\"Age\"]>upper)]\n",
    "\n",
    "print(\"Outliers:\\n\", outlier)"
   ]
  },
  {
   "cell_type": "code",
   "execution_count": 9,
   "id": "bd5d8b10-e23e-47a6-9664-a9cc521c0e41",
   "metadata": {},
   "outputs": [
    {
     "data": {
      "image/png": "[encoded data removed]",
      "text/plain": [
       "<Figure size 800x600 with 1 Axes>"
      ]
     },
     "metadata": {},
     "output_type": "display_data"
    }
   ],
   "source": [
    "f, ax = plt.subplots(figsize = (8,6))\n",
    "ax = sns.boxplot(x = 'Age', data = df)\n",
    "plt.show()"
   ]
  }
 ],
 "metadata": {
  "kernelspec": {
   "display_name": "Python 3 (ipykernel)",
   "language": "python",
   "name": "python3"
  },
  "language_info": {
   "codemirror_mode": {
    "name": "ipython",
    "version": 3
   },
   "file_extension": ".py",
   "mimetype": "text/x-python",
   "name": "python",
   "nbconvert_exporter": "python",
   "pygments_lexer": "ipython3",
   "version": "3.12.4"
  }
 },
 "nbformat": 4,
 "nbformat_minor": 5
}
